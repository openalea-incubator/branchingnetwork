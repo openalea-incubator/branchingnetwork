{
 "cells": [
  {
   "cell_type": "markdown",
   "id": "65091bba-06f9-4616-b7d7-f71193b910ac",
   "metadata": {},
   "source": [
    "# Save Root System architecture into networkx"
   ]
  },
  {
   "cell_type": "code",
   "execution_count": 1,
   "id": "b64c3c0b-e3bb-462e-a9d4-02d7cdae954f",
   "metadata": {},
   "outputs": [],
   "source": [
    "%run read.py"
   ]
  },
  {
   "cell_type": "code",
   "execution_count": 2,
   "id": "f3756b4f-23d9-415f-9891-d2596b59c2ef",
   "metadata": {},
   "outputs": [
    {
     "name": "stdout",
     "output_type": "stream",
     "text": [
      "[PosixPath('data/UC1_HIRROS_arabidopsis/UC1_230629PN016.rsml'),\n",
      " PosixPath('data/UC1_HIRROS_arabidopsis/UC1_230629PN017.rsml'),\n",
      " PosixPath('data/UC1_HIRROS_arabidopsis/UC1_230629PN021.rsml'),\n",
      " PosixPath('data/UC1_HIRROS_arabidopsis/UC1_230629PN026.rsml'),\n",
      " PosixPath('data/UC1_HIRROS_arabidopsis/UC1_230629PN007.rsml'),\n",
      " PosixPath('data/UC1_HIRROS_arabidopsis/UC1_230629PN028.rsml'),\n",
      " PosixPath('data/UC1_HIRROS_arabidopsis/UC1_230629PN033.rsml'),\n",
      " PosixPath('data/UC1_HIRROS_arabidopsis/UC1_230629PN005.rsml'),\n",
      " PosixPath('data/UC1_HIRROS_arabidopsis/UC1_230629PN013.rsml'),\n",
      " PosixPath('data/UC1_HIRROS_arabidopsis/UC1_230629PN015.rsml')]\n"
     ]
    }
   ],
   "source": [
    "from pathlib import Path\n",
    "from pprint import pprint\n",
    "\n",
    "data = Path('data')/'UC1_HIRROS_arabidopsis'\n",
    "rsa_files = list(data.glob('*.rsml'))\n",
    "pprint(rsa_files)\n",
    "\n",
    "json_dir = (data/'json')\n",
    "json_dir.mkdir(exist_ok=True)"
   ]
  },
  {
   "cell_type": "code",
   "execution_count": 3,
   "id": "bfece08a-f6b1-49ce-8fc8-04fdcb048ab6",
   "metadata": {},
   "outputs": [
    {
     "name": "stdout",
     "output_type": "stream",
     "text": [
      "Distance to the closest point  24.331050121192877\n",
      "Distance to the closest point  23.345235059857504\n",
      "Distance to the closest point  34.20526275297414\n",
      "Distance to the closest point  64.19501538281614\n",
      "Distance to the closest point  27.294688127912362\n",
      "Distance to the closest point  47.042533945356304\n",
      "Distance to the closest point  23.194827009486403\n",
      "Distance to the closest point  32.2490309931942\n",
      "Distance to the closest point  21.0\n",
      "Distance to the closest point  29.274562336608895\n",
      "Distance to the closest point  26.076809620810597\n",
      "Distance to the closest point  33.61547262794322\n",
      "Distance to the closest point  43.46262762420146\n",
      "Distance to the closest point  50.00999900019995\n",
      "Distance to the closest point  21.213203435596427\n",
      "Distance to the closest point  27.294688127912362\n"
     ]
    }
   ],
   "source": [
    "for fn in rsa_files:\n",
    "    dgs = rsml2nx(fn)\n",
    "    name = fn.name.split('.')[0]\n",
    "    fn_js = f'{name}_%d.json'\n",
    "    for i in range(len(dgs)):\n",
    "        fn_json = fn_js%i\n",
    "        fn_json = json_dir/fn_json\n",
    "        save_json(dgs[i], fn_json)\n",
    "    "
   ]
  },
  {
   "cell_type": "code",
   "execution_count": null,
   "id": "aac74578-f247-4427-90d7-80a97d53985d",
   "metadata": {},
   "outputs": [],
   "source": []
  }
 ],
 "metadata": {
  "kernelspec": {
   "display_name": "Python 3 (ipykernel)",
   "language": "python",
   "name": "python3"
  },
  "language_info": {
   "codemirror_mode": {
    "name": "ipython",
    "version": 3
   },
   "file_extension": ".py",
   "mimetype": "text/x-python",
   "name": "python",
   "nbconvert_exporter": "python",
   "pygments_lexer": "ipython3",
   "version": "3.12.3"
  }
 },
 "nbformat": 4,
 "nbformat_minor": 5
}
