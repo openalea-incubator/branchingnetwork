{
 "cells": [
  {
   "cell_type": "markdown",
   "id": "0df6dbb6-e9fa-4ee7-ab8e-1434ff781c54",
   "metadata": {},
   "source": [
    "# Read architecture from RSML file and run a simulation\n",
    "This is the notebook version of the example in read the doc. It is a small example to illustrate how to use the RSML format (http://rootsystemml.github.io/). The architecture is the arabidopsis-simple example http://rootsystemml.github.io/images/examples/arabidopsis-simple.rsml."
   ]
  },
  {
   "cell_type": "markdown",
   "id": "afe12073-742c-4d01-9c6c-9f869a6ee55a",
   "metadata": {},
   "source": [
    "Point to the source files if the notebook is run locally, from a git repository clone for example, without hydroroot installation, but only the dependencies installed."
   ]
  },
  {
   "cell_type": "code",
   "execution_count": 1,
   "id": "0c1cd238-190a-4305-9798-1eaa9d712a09",
   "metadata": {},
   "outputs": [
    {
     "name": "stdout",
     "output_type": "stream",
     "text": [
      "The history saving thread hit an unexpected error (OperationalError('attempt to write a readonly database')).History will not be written to the database.\n"
     ]
    }
   ],
   "source": [
    "import rsml\n",
    "from hydroroot import radius\n",
    "from hydroroot.main import hydroroot_flow\n",
    "from oawidgets.plantgl import PlantGL\n",
    "from hydroroot.display import mtg_scene\n",
    "from hydroroot.hydro_io import import_rsml_to_discrete_mtg, export_mtg_to_rsml\n",
    "from pathlib import Path\n",
    "from pprint import pprint\n",
    "%run read.py"
   ]
  },
  {
   "cell_type": "code",
   "execution_count": 2,
   "id": "49b3d3c4-df23-4b38-92e4-03033b02c5eb",
   "metadata": {},
   "outputs": [
    {
     "name": "stdout",
     "output_type": "stream",
     "text": [
      "[PosixPath('data/UC1_HIRROS_arabidopsis/UC1_230629PN028.rsml'),\n",
      " PosixPath('data/UC1_HIRROS_arabidopsis/UC1_230629PN005.rsml'),\n",
      " PosixPath('data/UC1_HIRROS_arabidopsis/UC1_230629PN026.rsml'),\n",
      " PosixPath('data/UC1_HIRROS_arabidopsis/UC1_230629PN033.rsml'),\n",
      " PosixPath('data/UC1_HIRROS_arabidopsis/UC1_230629PN015.rsml'),\n",
      " PosixPath('data/UC1_HIRROS_arabidopsis/UC1_230629PN017.rsml'),\n",
      " PosixPath('data/UC1_HIRROS_arabidopsis/UC1_230629PN016.rsml'),\n",
      " PosixPath('data/UC1_HIRROS_arabidopsis/UC1_230629PN021.rsml'),\n",
      " PosixPath('data/UC1_HIRROS_arabidopsis/UC1_230629PN007.rsml'),\n",
      " PosixPath('data/UC1_HIRROS_arabidopsis/UC1_230629PN013.rsml')]\n"
     ]
    }
   ],
   "source": [
    "data = Path('data')/'UC1_HIRROS_arabidopsis'\n",
    "rsa_files = list(data.glob('*.rsml'))\n",
    "pprint(rsa_files)"
   ]
  },
  {
   "cell_type": "markdown",
   "id": "80cad1e8-b75d-4e80-bb81-50784fb6f9e8",
   "metadata": {},
   "source": [
    "Read the RSML file and convert it into a *continuous* MTG. This is a MTG where each root (primary and lateral) is represented by one vertex. The geometry of each root is then stored in g_c.property('geometry')."
   ]
  },
  {
   "cell_type": "code",
   "execution_count": 4,
   "id": "3216455d-1cc9-43de-8508-4cdb5c03222b",
   "metadata": {},
   "outputs": [],
   "source": [
    "g = rsml.rsml2mtg(rsa_files[0])"
   ]
  },
  {
   "cell_type": "markdown",
   "id": "f363c8bf-76d9-4d63-8c4d-321bf6eefca8",
   "metadata": {},
   "source": [
    "To be used in HydroRoot the MTG has to be converted to a *discrete* form of MTG, i.e. each vertex represent a representative elementary volume of a given length for example $10^{-4}$ m. In HydroRoot the lengths are in meter, therefore we must retrieve the resolution and the unit of the RSML file. "
   ]
  },
  {
   "cell_type": "code",
   "execution_count": 5,
   "id": "2e3c09cb-8679-4abd-a732-3b5464cf9c24",
   "metadata": {},
   "outputs": [
    {
     "name": "stdout",
     "output_type": "stream",
     "text": [
      "pixel(um)\n"
     ]
    }
   ],
   "source": [
    "resolution = g.graph_properties()['metadata']['resolution'] # pixel to unit\n",
    "unit = g.graph_properties()['metadata']['unit']\n",
    "print(unit)"
   ]
  },
  {
   "cell_type": "code",
   "execution_count": 6,
   "id": "47401968-e293-42bd-92b0-a3f9012c7e31",
   "metadata": {},
   "outputs": [],
   "source": [
    "resolution = resolution * 1e-6 # pixel to unit to m"
   ]
  },
  {
   "cell_type": "code",
   "execution_count": 7,
   "id": "261ef834-e821-44ff-9340-7574268f7faa",
   "metadata": {},
   "outputs": [],
   "source": [
    "# Split the forest into 5 independent graphs\n",
    "g1, g2, g3, g4, g5 = gs =  split(g)"
   ]
  },
  {
   "cell_type": "markdown",
   "id": "769e6d21-1194-4fa6-9081-4d510f19bd07",
   "metadata": {},
   "source": [
    "Build the discrete MTG"
   ]
  },
  {
   "cell_type": "code",
   "execution_count": 8,
   "id": "e0099d60-5979-40e5-b22c-f157ac0544e3",
   "metadata": {},
   "outputs": [],
   "source": [
    "g = import_rsml_to_discrete_mtg(g1, segment_length = 1.0e-4, resolution = resolution)"
   ]
  },
  {
   "cell_type": "markdown",
   "id": "890efb37-ff73-4b96-b790-9e1a5c756ce0",
   "metadata": {},
   "source": [
    "Calculate some properties needed to simulate a sap flux from the root under overpressure. "
   ]
  },
  {
   "cell_type": "code",
   "execution_count": 9,
   "id": "e050dd37-395c-4ecb-a051-0ff93cef029b",
   "metadata": {},
   "outputs": [],
   "source": [
    "g = radius.ordered_radius(g, 7.0e-5, 0.7) # root radii\n",
    "g = radius.compute_relative_position(g) # Compute the position of each segment relative to the axis bearing it"
   ]
  },
  {
   "cell_type": "markdown",
   "id": "67b5a06f-be28-47f0-8d4e-4463cd7c263b",
   "metadata": {},
   "source": [
    "Some conductance data versus distance to tip"
   ]
  },
  {
   "cell_type": "code",
   "execution_count": 10,
   "id": "6bf369fc-df46-4b34-af88-19dbc33f529f",
   "metadata": {},
   "outputs": [],
   "source": [
    "k_radial_data=([0, 0.2],[30.0,30.0])\n",
    "K_axial_data=([0, 0.2],[3.0e-7,4.0e-4])"
   ]
  },
  {
   "cell_type": "markdown",
   "id": "2e7ba80d-715e-48fa-b8fe-5371a21208eb",
   "metadata": {},
   "source": [
    "Flux and equivalent conductance calculation, for a root in an external hydroponic medium at 0.4 MPa, its base at 0.1 MPa, and with the conductances set above."
   ]
  },
  {
   "cell_type": "code",
   "execution_count": 11,
   "id": "7029e8d6-b10b-4c2f-ad78-0672b2d5cb1c",
   "metadata": {},
   "outputs": [],
   "source": [
    "g, keq, jv = hydroroot_flow(g, psi_e = 0.4, psi_base = 0.1, axial_conductivity_data = K_axial_data, radial_conductivity_data = k_radial_data)"
   ]
  },
  {
   "cell_type": "code",
   "execution_count": 12,
   "id": "952edaca-690a-4012-9a2c-0e4a9fa68830",
   "metadata": {},
   "outputs": [
    {
     "name": "stdout",
     "output_type": "stream",
     "text": [
      "equivalent root conductance (microL/s/MPa):  0.0003716561491631043 sap flux (microL/s):  0.0001114968447489313\n"
     ]
    }
   ],
   "source": [
    "print('equivalent root conductance (microL/s/MPa): ',keq, 'sap flux (microL/s): ', jv)"
   ]
  },
  {
   "cell_type": "markdown",
   "id": "642c80f3-4570-4683-a645-dd024906fe16",
   "metadata": {},
   "source": [
    "Display the local water uptake heatmap in 3D"
   ]
  },
  {
   "cell_type": "code",
   "execution_count": 13,
   "id": "5125a231-f685-4ae3-8de0-880d8edf4446",
   "metadata": {},
   "outputs": [
    {
     "data": {
      "application/vnd.jupyter.widget-view+json": {
       "model_id": "3ec659ac424b42c39623853f367c04d2",
       "version_major": 2,
       "version_minor": 0
      },
      "text/plain": [
       "Plot(antialias=3, axes=['x', 'y', 'z'], axes_helper=1.0, axes_helper_colors=[16711680, 65280, 255], background…"
      ]
     },
     "execution_count": 13,
     "metadata": {},
     "output_type": "execute_result"
    }
   ],
   "source": [
    "s = mtg_scene(g, prop_cmap = 'j') # create a scene from the mtg with the property j is the radial flux in ul/s\n",
    "PlantGL(s) # display the root into the plantgl oawidget"
   ]
  },
  {
   "cell_type": "markdown",
   "id": "8347bcef-0598-4a0f-9c41-ff5b7d149a03",
   "metadata": {},
   "source": [
    "Export the MTG to RSML"
   ]
  },
  {
   "cell_type": "markdown",
   "id": "3e225ee6-77e4-4987-a53e-c76ee823919a",
   "metadata": {},
   "source": [
    "At this stage (2022-08-22) only the root length and the branching position are used to simulate architecture in hydroponic solution. The exact position in 3D is not stored in the discrete MTG form and so not exported to RMSL."
   ]
  },
  {
   "cell_type": "code",
   "execution_count": 13,
   "id": "0b325e5f-99c8-4228-855b-500c7b8e9194",
   "metadata": {},
   "outputs": [
    {
     "name": "stdout",
     "output_type": "stream",
     "text": [
      "TODO: time-sequence\n"
     ]
    }
   ],
   "source": [
    "export_mtg_to_rsml(g, \"test.rsml\", segment_length = 1.0e-4)"
   ]
  },
  {
   "cell_type": "markdown",
   "id": "0b67dbed-8476-40dd-a178-edf49ac9ebac",
   "metadata": {},
   "source": [
    "The resolution of the RSML data is 1.0e-4 and the unit is meter."
   ]
  },
  {
   "cell_type": "code",
   "execution_count": null,
   "id": "d6319fc0-f6b9-44d7-9d2a-035a66b8f028",
   "metadata": {},
   "outputs": [],
   "source": []
  }
 ],
 "metadata": {
  "kernelspec": {
   "display_name": "Python 3 (ipykernel)",
   "language": "python",
   "name": "python3"
  },
  "language_info": {
   "codemirror_mode": {
    "name": "ipython",
    "version": 3
   },
   "file_extension": ".py",
   "mimetype": "text/x-python",
   "name": "python",
   "nbconvert_exporter": "python",
   "pygments_lexer": "ipython3",
   "version": "3.12.3"
  },
  "widgets": {
   "application/vnd.jupyter.widget-state+json": {
    "state": {},
    "version_major": 2,
    "version_minor": 0
   }
  }
 },
 "nbformat": 4,
 "nbformat_minor": 5
}
