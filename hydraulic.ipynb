{
 "cells": [
  {
   "cell_type": "markdown",
   "id": "0df6dbb6-e9fa-4ee7-ab8e-1434ff781c54",
   "metadata": {},
   "source": [
    "# Read architecture from RSML file and run a simulation\n",
    "This is the notebook version of the example in read the doc. It is a small example to illustrate how to use the RSML format (http://rootsystemml.github.io/). The architecture is the arabidopsis-simple example http://rootsystemml.github.io/images/examples/arabidopsis-simple.rsml."
   ]
  },
  {
   "cell_type": "markdown",
   "id": "afe12073-742c-4d01-9c6c-9f869a6ee55a",
   "metadata": {},
   "source": [
    "Point to the source files if the notebook is run locally, from a git repository clone for example, without hydroroot installation, but only the dependencies installed."
   ]
  },
  {
   "cell_type": "code",
   "execution_count": 13,
   "id": "0c1cd238-190a-4305-9798-1eaa9d712a09",
   "metadata": {},
   "outputs": [],
   "source": [
    "import rsml\n",
    "from hydroroot import radius\n",
    "from hydroroot.main import hydroroot_flow\n",
    "from oawidgets.plantgl import PlantGL\n",
    "from oawidgets.mtg import plot as plot_mtg\n",
    "from hydroroot.display import mtg_scene\n",
    "from hydroroot.hydro_io import import_rsml_to_discrete_mtg, export_mtg_to_rsml\n",
    "from pathlib import Path\n",
    "from pprint import pprint\n",
    "%run read.py"
   ]
  },
  {
   "cell_type": "code",
   "execution_count": 2,
   "id": "49b3d3c4-df23-4b38-92e4-03033b02c5eb",
   "metadata": {},
   "outputs": [
    {
     "name": "stdout",
     "output_type": "stream",
     "text": [
      "[PosixPath('data/UC1_HIRROS_arabidopsis/UC1_230629PN016.rsml'),\n",
      " PosixPath('data/UC1_HIRROS_arabidopsis/UC1_230629PN017.rsml'),\n",
      " PosixPath('data/UC1_HIRROS_arabidopsis/UC1_230629PN021.rsml'),\n",
      " PosixPath('data/UC1_HIRROS_arabidopsis/UC1_230629PN026.rsml'),\n",
      " PosixPath('data/UC1_HIRROS_arabidopsis/UC1_230629PN007.rsml'),\n",
      " PosixPath('data/UC1_HIRROS_arabidopsis/UC1_230629PN028.rsml'),\n",
      " PosixPath('data/UC1_HIRROS_arabidopsis/UC1_230629PN033.rsml'),\n",
      " PosixPath('data/UC1_HIRROS_arabidopsis/UC1_230629PN005.rsml'),\n",
      " PosixPath('data/UC1_HIRROS_arabidopsis/UC1_230629PN013.rsml'),\n",
      " PosixPath('data/UC1_HIRROS_arabidopsis/UC1_230629PN015.rsml')]\n"
     ]
    }
   ],
   "source": [
    "data = Path('data')/'UC1_HIRROS_arabidopsis'\n",
    "rsa_files = list(data.glob('*.rsml'))\n",
    "pprint(rsa_files)"
   ]
  },
  {
   "cell_type": "markdown",
   "id": "80cad1e8-b75d-4e80-bb81-50784fb6f9e8",
   "metadata": {},
   "source": [
    "Read the RSML file and convert it into a *continuous* MTG. This is a MTG where each root (primary and lateral) is represented by one vertex. The geometry of each root is then stored in g_c.property('geometry')."
   ]
  },
  {
   "cell_type": "code",
   "execution_count": 3,
   "id": "3216455d-1cc9-43de-8508-4cdb5c03222b",
   "metadata": {},
   "outputs": [],
   "source": [
    "g = rsml.rsml2mtg(rsa_files[0])"
   ]
  },
  {
   "cell_type": "markdown",
   "id": "f363c8bf-76d9-4d63-8c4d-321bf6eefca8",
   "metadata": {},
   "source": [
    "To be used in HydroRoot the MTG has to be converted to a *discrete* form of MTG, i.e. each vertex represent a representative elementary volume of a given length for example $10^{-4}$ m. In HydroRoot the lengths are in meter, therefore we must retrieve the resolution and the unit of the RSML file. "
   ]
  },
  {
   "cell_type": "code",
   "execution_count": 4,
   "id": "2e3c09cb-8679-4abd-a732-3b5464cf9c24",
   "metadata": {},
   "outputs": [
    {
     "name": "stdout",
     "output_type": "stream",
     "text": [
      "pixel(um)\n"
     ]
    }
   ],
   "source": [
    "resolution = g.graph_properties()['metadata']['resolution'] # pixel to unit\n",
    "unit = g.graph_properties()['metadata']['unit']\n",
    "print(unit)"
   ]
  },
  {
   "cell_type": "code",
   "execution_count": 5,
   "id": "47401968-e293-42bd-92b0-a3f9012c7e31",
   "metadata": {},
   "outputs": [],
   "source": [
    "resolution = resolution * 1e-6 # pixel to unit to m"
   ]
  },
  {
   "cell_type": "code",
   "execution_count": 6,
   "id": "261ef834-e821-44ff-9340-7574268f7faa",
   "metadata": {},
   "outputs": [],
   "source": [
    "# Split the forest into 5 independent graphs\n",
    "g1, g2, g3, g4, g5 = gs =  split(g)"
   ]
  },
  {
   "cell_type": "markdown",
   "id": "769e6d21-1194-4fa6-9081-4d510f19bd07",
   "metadata": {},
   "source": [
    "Build the discrete MTG"
   ]
  },
  {
   "cell_type": "code",
   "execution_count": 7,
   "id": "e0099d60-5979-40e5-b22c-f157ac0544e3",
   "metadata": {},
   "outputs": [],
   "source": [
    "g = import_rsml_to_discrete_mtg(g1, segment_length = 1.0e-4, resolution = resolution)"
   ]
  },
  {
   "cell_type": "code",
   "execution_count": 14,
   "id": "fc29dd95-5f4c-4c88-86d3-6f4e40d7bebb",
   "metadata": {
    "scrolled": true
   },
   "outputs": [
    {
     "name": "stdout",
     "output_type": "stream",
     "text": [
      "Warning: When  cdn_resources is 'local' jupyter notebook has issues displaying graphics on chrome/safari. Use cdn_resources='in_line' or cdn_resources='remote' if you have issues viewing graphics in a notebook.\n",
      "mtg.html\n"
     ]
    },
    {
     "data": {
      "text/html": [
       "\n",
       "        <iframe\n",
       "            width=\"900px\"\n",
       "            height=\"800px\"\n",
       "            src=\"mtg.html\"\n",
       "            frameborder=\"0\"\n",
       "            allowfullscreen\n",
       "            \n",
       "        ></iframe>\n",
       "        "
      ],
      "text/plain": [
       "<IPython.lib.display.IFrame at 0x19b04ed80>"
      ]
     },
     "execution_count": 14,
     "metadata": {},
     "output_type": "execute_result"
    }
   ],
   "source": [
    "plot_mtg(g)"
   ]
  },
  {
   "cell_type": "markdown",
   "id": "890efb37-ff73-4b96-b790-9e1a5c756ce0",
   "metadata": {},
   "source": [
    "Calculate some properties needed to simulate a sap flux from the root under overpressure. "
   ]
  },
  {
   "cell_type": "code",
   "execution_count": 8,
   "id": "e050dd37-395c-4ecb-a051-0ff93cef029b",
   "metadata": {},
   "outputs": [],
   "source": [
    "g = radius.ordered_radius(g, 7.0e-5, 0.7) # root radii\n",
    "g = radius.compute_relative_position(g) # Compute the position of each segment relative to the axis bearing it"
   ]
  },
  {
   "cell_type": "markdown",
   "id": "67b5a06f-be28-47f0-8d4e-4463cd7c263b",
   "metadata": {},
   "source": [
    "Some conductance data versus distance to tip"
   ]
  },
  {
   "cell_type": "code",
   "execution_count": 9,
   "id": "6bf369fc-df46-4b34-af88-19dbc33f529f",
   "metadata": {},
   "outputs": [],
   "source": [
    "k_radial_data=([0, 0.2],[30.0,30.0])\n",
    "K_axial_data=([0, 0.2],[3.0e-7,4.0e-4])"
   ]
  },
  {
   "cell_type": "markdown",
   "id": "2e7ba80d-715e-48fa-b8fe-5371a21208eb",
   "metadata": {},
   "source": [
    "Flux and equivalent conductance calculation, for a root in an external hydroponic medium at 0.4 MPa, its base at 0.1 MPa, and with the conductances set above."
   ]
  },
  {
   "cell_type": "code",
   "execution_count": 10,
   "id": "7029e8d6-b10b-4c2f-ad78-0672b2d5cb1c",
   "metadata": {},
   "outputs": [],
   "source": [
    "g, keq, jv = hydroroot_flow(g, psi_e = 0.4, psi_base = 0.1, axial_conductivity_data = K_axial_data, radial_conductivity_data = k_radial_data)"
   ]
  },
  {
   "cell_type": "code",
   "execution_count": 11,
   "id": "952edaca-690a-4012-9a2c-0e4a9fa68830",
   "metadata": {},
   "outputs": [
    {
     "name": "stdout",
     "output_type": "stream",
     "text": [
      "equivalent root conductance (microL/s/MPa):  0.00017154338604215456 sap flux (microL/s):  5.146301581264638e-05\n"
     ]
    }
   ],
   "source": [
    "print('equivalent root conductance (microL/s/MPa): ',keq, 'sap flux (microL/s): ', jv)"
   ]
  },
  {
   "cell_type": "markdown",
   "id": "642c80f3-4570-4683-a645-dd024906fe16",
   "metadata": {},
   "source": [
    "Display the local water uptake heatmap in 3D"
   ]
  },
  {
   "cell_type": "code",
   "execution_count": 12,
   "id": "5125a231-f685-4ae3-8de0-880d8edf4446",
   "metadata": {},
   "outputs": [
    {
     "data": {
      "application/vnd.jupyter.widget-view+json": {
       "model_id": "d38cee5eb6f04de7a76d07a8e970af9a",
       "version_major": 2,
       "version_minor": 0
      },
      "text/plain": [
       "Plot(antialias=3, axes=['x', 'y', 'z'], axes_helper=1.0, axes_helper_colors=[16711680, 65280, 255], background…"
      ]
     },
     "execution_count": 12,
     "metadata": {},
     "output_type": "execute_result"
    }
   ],
   "source": [
    "s = mtg_scene(g, prop_cmap = 'j') # create a scene from the mtg with the property j is the radial flux in ul/s\n",
    "PlantGL(s) # display the root into the plantgl oawidget"
   ]
  },
  {
   "cell_type": "markdown",
   "id": "8347bcef-0598-4a0f-9c41-ff5b7d149a03",
   "metadata": {},
   "source": [
    "Export the MTG to RSML"
   ]
  },
  {
   "cell_type": "markdown",
   "id": "3e225ee6-77e4-4987-a53e-c76ee823919a",
   "metadata": {},
   "source": [
    "At this stage (2022-08-22) only the root length and the branching position are used to simulate architecture in hydroponic solution. The exact position in 3D is not stored in the discrete MTG form and so not exported to RMSL."
   ]
  },
  {
   "cell_type": "code",
   "execution_count": 13,
   "id": "0b325e5f-99c8-4228-855b-500c7b8e9194",
   "metadata": {},
   "outputs": [
    {
     "name": "stdout",
     "output_type": "stream",
     "text": [
      "TODO: time-sequence\n"
     ]
    }
   ],
   "source": [
    "#export_mtg_to_rsml(g, \"test.rsml\", segment_length = 1.0e-4)"
   ]
  },
  {
   "cell_type": "markdown",
   "id": "0b67dbed-8476-40dd-a178-edf49ac9ebac",
   "metadata": {},
   "source": [
    "The resolution of the RSML data is 1.0e-4 and the unit is meter."
   ]
  },
  {
   "cell_type": "code",
   "execution_count": null,
   "id": "d6319fc0-f6b9-44d7-9d2a-035a66b8f028",
   "metadata": {},
   "outputs": [],
   "source": []
  }
 ],
 "metadata": {
  "kernelspec": {
   "display_name": "Python 3 (ipykernel)",
   "language": "python",
   "name": "python3"
  },
  "language_info": {
   "codemirror_mode": {
    "name": "ipython",
    "version": 3
   },
   "file_extension": ".py",
   "mimetype": "text/x-python",
   "name": "python",
   "nbconvert_exporter": "python",
   "pygments_lexer": "ipython3",
   "version": "3.12.3"
  },
  "widgets": {
   "application/vnd.jupyter.widget-state+json": {
    "state": {
     "0332d913de0d4588b167f83b46447366": {
      "buffers": [
       {
        "data": "",
        "encoding": "base64",
        "path": [
         "attribute",
         "data"
        ]
       },
       {
        "data": "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",
        "encoding": "base64",
        "path": [
         "color_map",
         "data"
        ]
       },
       {
        "data": "",
        "encoding": "base64",
        "path": [
         "colors",
         "data"
        ]
       },
       {
        "data": "AAAAAAIAAAABAAAAAQAAAAIAAAADAAAAAgAAAAQAAAADAAAAAwAAAAQAAAAFAAAABAAAAAYAAAAFAAAABQAAAAYAAAAHAAAABgAAAAgAAAAHAAAABwAAAAgAAAAJAAAACAAAAAoAAAAJAAAACQAAAAoAAAALAAAACgAAAAwAAAALAAAACwAAAAwAAAANAAAADAAAAA4AAAANAAAADQAAAA4AAAAPAAAADgAAAAAAAAAPAAAADwAAAAAAAAABAAAAEAAAABIAAAARAAAAEQAAABIAAAATAAAAEgAAABQAAAATAAAAEwAAABQAAAAVAAAAFAAAABYAAAAVAAAAFQAAABYAAAAXAAAAFgAAABgAAAAXAAAAFwAAABgAAAAZAAAAGAAAABoAAAAZAAAAGQAAABoAAAAbAAAAGgAAABwAAAAbAAAAGwAAABwAAAAdAAAAHAAAAB4AAAAdAAAAHQAAAB4AAAAfAAAAHgAAABAAAAAfAAAAHwAAABAAAAARAAAA",
        "encoding": "base64",
        "path": [
         "indices",
         "data"
        ]
       },
       {
        "data": "AACAPwAAAAAAAAAAAAAAAAAAAAAAAIA/AAAAAAAAAAAAAAAAAAAAAAAAgD8AAAAAAAAAAAAAAAAAAAAAAACAPw==",
        "encoding": "base64",
        "path": [
         "model_matrix",
         "data"
        ]
       },
       {
        "data": "",
        "encoding": "base64",
        "path": [
         "normals",
         "data"
        ]
       },
       {
        "data": "",
        "encoding": "base64",
        "path": [
         "opacity_function",
         "data"
        ]
       },
       {
        "data": "",
        "encoding": "base64",
        "path": [
         "triangles_attribute",
         "data"
        ]
       },
       {
        "data": "AADAfw==",
        "encoding": "base64",
        "path": [
         "uvs",
         "data"
        ]
       },
       {
        "data": "9LbCLx5fuD6+cAHCg+SsL8mqsb7SRATCHl+4PtFegj6+BAHCHl+4Phar577R2APC0V4CP12sHK4AAADC0V4CP/MENb8U1ALCHl+4PtFegr6F9v3BHl+4Pls0dr9WzwHCZ4yhLx5fuL6EHv3B9bmLL0GaiL9WYwHCHl+4vtFegr6F9v3BHl+4vls0dr9WzwHC0V4Cv5fWLC4AAADC0V4Cv/MENb8U1ALCHl+4vtFegj6+BAHCHl+4vhar577R2APC+Z2sL/MEtb4ePgTCiMuWL7bDh78yEgfC8wS1PuYJ6r4U1APC8wS1PvMElb8oqAbCAAAAP/MENb8U1ALCAAAAP/MEtb8oqAXC8wS1PvMEdb8U1AHC8wS1PvME1b8oqATCzA2ML7bDh78KagHCtXZsLzBG4r8ePgTC8wS1vvMEdb8U1AHC8wS1vvME1b8oqATCAAAAv/MENb8U1ALCAAAAv/MEtb8oqAXC8wS1vuYJ6r4U1APC8wS1vvMElb8oqAbC",
        "encoding": "base64",
        "path": [
         "vertices",
         "data"
        ]
       },
       {
        "data": "",
        "encoding": "base64",
        "path": [
         "volume",
         "data"
        ]
       },
       {
        "data": "",
        "encoding": "base64",
        "path": [
         "volume_bounds",
         "data"
        ]
       }
      ],
      "model_module": "k3d",
      "model_module_version": "2.16.1",
      "model_name": "ObjectModel",
      "state": {
       "_view_module": null,
       "_view_module_version": "",
       "_view_name": null,
       "attribute": {
        "dtype": "float32",
        "shape": [
         0
        ]
       },
       "click_callback": false,
       "color": 127,
       "colorLegend": false,
       "color_map": {
        "dtype": "float32",
        "shape": [
         1024
        ]
       },
       "color_range": [],
       "colors": {
        "dtype": "uint32",
        "shape": [
         0
        ]
       },
       "compression_level": 0,
       "custom_data": null,
       "flat_shading": true,
       "group": null,
       "hover_callback": false,
       "id": 6890955952,
       "indices": {
        "dtype": "uint32",
        "shape": [
         32,
         3
        ]
       },
       "model_matrix": {
        "dtype": "float32",
        "shape": [
         4,
         4
        ]
       },
       "name": "Mesh #36",
       "normals": {
        "dtype": "float32",
        "shape": [
         0
        ]
       },
       "opacity": 1,
       "opacity_function": {
        "dtype": "float32",
        "shape": [
         0
        ]
       },
       "side": "front",
       "texture": null,
       "texture_file_format": null,
       "triangles_attribute": {
        "dtype": "float32",
        "shape": [
         0
        ]
       },
       "type": "Mesh",
       "uvs": {
        "dtype": "float32",
        "shape": []
       },
       "vertices": {
        "dtype": "float32",
        "shape": [
         32,
         3
        ]
       },
       "visible": true,
       "volume": {
        "dtype": "float32",
        "shape": [
         0
        ]
       },
       "volume_bounds": {
        "dtype": "float32",
        "shape": [
         0
        ]
       },
       "wireframe": false
      }
     },
     "070ef956425a4a2e8fc318b07909fe2b": {
      "buffers": [
       {
        "data": "",
        "encoding": "base64",
        "path": [
         "attribute",
         "data"
        ]
       },
       {
        "data": "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",
        "encoding": "base64",
        "path": [
         "color_map",
         "data"
        ]
       },
       {
        "data": "",
        "encoding": "base64",
        "path": [
         "colors",
         "data"
        ]
       },
       {
        "data": "AAAAAAIAAAABAAAAAQAAAAIAAAADAAAAAgAAAAQAAAADAAAAAwAAAAQAAAAFAAAABAAAAAYAAAAFAAAABQAAAAYAAAAHAAAABgAAAAgAAAAHAAAABwAAAAgAAAAJAAAACAAAAAoAAAAJAAAACQAAAAoAAAALAAAACgAAAAwAAAALAAAACwAAAAwAAAANAAAADAAAAA4AAAANAAAADQAAAA4AAAAPAAAADgAAAAAAAAAPAAAADwAAAAAAAAABAAAAEAAAABIAAAARAAAAEQAAABIAAAATAAAAEgAAABQAAAATAAAAEwAAABQAAAAVAAAAFAAAABYAAAAVAAAAFQAAABYAAAAXAAAAFgAAABgAAAAXAAAAFwAAABgAAAAZAAAAGAAAABoAAAAZAAAAGQAAABoAAAAbAAAAGgAAABwAAAAbAAAAGwAAABwAAAAdAAAAHAAAAB4AAAAdAAAAHQAAAB4AAAAfAAAAHgAAABAAAAAfAAAAHwAAABAAAAARAAAA",
        "encoding": "base64",
        "path": [
         "indices",
         "data"
        ]
       },
       {
        "data": "AACAPwAAAAAAAAAAAAAAAAAAAAAAAIA/AAAAAAAAAAAAAAAAAAAAAAAAgD8AAAAAAAAAAAAAAAAAAAAAAACAPw==",
        "encoding": "base64",
        "path": [
         "model_matrix",
         "data"
        ]
       },
       {
        "data": "",
        "encoding": "base64",
        "path": [
         "normals",
         "data"
        ]
       },
       {
        "data": "",
        "encoding": "base64",
        "path": [
         "opacity_function",
         "data"
        ]
       },
       {
        "data": "",
        "encoding": "base64",
        "path": [
         "triangles_attribute",
         "data"
        ]
       },
       {
        "data": "AADAfw==",
        "encoding": "base64",
        "path": [
         "uvs",
         "data"
        ]
       },
       {
        "data": "JIcLMIX2Ej8AADjCYlUOMIX2Ej8AADzCR9bPPkfWzz4AADjCR9bPPkfWzz4AADzChfYSPzJjNK4AADjChfYSPzJjNK4AADzCR9bPPkfWz74AADjCR9bPPkfWz74AADzCfPXpL4X2Er8AADjC95HvL4X2Er8AADzCR9bPvkfWz74AADjCR9bPvkfWz74AADzChfYSv2AoTi4AADjChfYSv2AoTi4AADzCR9bPvkfWzz4AADjCR9bPvkfWzz4AADzCKCoOMLSXED8AADzCZvgQMLSXED8AAEDCHHzMPhx8zD4AADzCHHzMPhx8zD4AAEDCtJcQP196Ma4AADzCtJcQP196Ma4AAEDCHHzMPhx8zL4AADzCHHzMPhx8zL4AAEDCuPXvL7SXEL8AADzCNJL1L7SXEL8AAEDCHHzMvhx8zL4AADzCHHzMvhx8zL4AAEDCtJcQvyXVSi4AADzCtJcQvyXVSi4AAEDCHHzMvhx8zD4AADzCHHzMvhx8zD4AAEDC",
        "encoding": "base64",
        "path": [
         "vertices",
         "data"
        ]
       },
       {
        "data": "",
        "encoding": "base64",
        "path": [
         "volume",
         "data"
        ]
       },
       {
        "data": "",
        "encoding": "base64",
        "path": [
         "volume_bounds",
         "data"
        ]
       }
      ],
      "model_module": "k3d",
      "model_module_version": "2.16.1",
      "model_name": "ObjectModel",
      "state": {
       "_view_module": null,
       "_view_module_version": "",
       "_view_name": null,
       "attribute": {
        "dtype": "float32",
        "shape": [
         0
        ]
       },
       "click_callback": false,
       "color": 16718336,
       "colorLegend": false,
       "color_map": {
        "dtype": "float32",
        "shape": [
         1024
        ]
       },
       "color_range": [],
       "colors": {
        "dtype": "uint32",
        "shape": [
         0
        ]
       },
       "compression_level": 0,
       "custom_data": null,
       "flat_shading": true,
       "group": null,
       "hover_callback": false,
       "id": 6890961184,
       "indices": {
        "dtype": "uint32",
        "shape": [
         32,
         3
        ]
       },
       "model_matrix": {
        "dtype": "float32",
        "shape": [
         4,
         4
        ]
       },
       "name": "Mesh #44",
       "normals": {
        "dtype": "float32",
        "shape": [
         0
        ]
       },
       "opacity": 1,
       "opacity_function": {
        "dtype": "float32",
        "shape": [
         0
        ]
       },
       "side": "front",
       "texture": null,
       "texture_file_format": null,
       "triangles_attribute": {
        "dtype": "float32",
        "shape": [
         0
        ]
       },
       "type": "Mesh",
       "uvs": {
        "dtype": "float32",
        "shape": []
       },
       "vertices": {
        "dtype": "float32",
        "shape": [
         32,
         3
        ]
       },
       "visible": true,
       "volume": {
        "dtype": "float32",
        "shape": [
         0
        ]
       },
       "volume_bounds": {
        "dtype": "float32",
        "shape": [
         0
        ]
       },
       "wireframe": false
      }
     },
     "09a6776927eb43048b484faba1452a98": {
      "buffers": [
       {
        "data": "",
        "encoding": "base64",
        "path": [
         "attribute",
         "data"
        ]
       },
       {
        "data": "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",
        "encoding": "base64",
        "path": [
         "color_map",
         "data"
        ]
       },
       {
        "data": "",
        "encoding": "base64",
        "path": [
         "colors",
         "data"
        ]
       },
       {
        "data": "AAAAAAIAAAABAAAAAQAAAAIAAAADAAAAAgAAAAQAAAADAAAAAwAAAAQAAAAFAAAABAAAAAYAAAAFAAAABQAAAAYAAAAHAAAABgAAAAgAAAAHAAAABwAAAAgAAAAJAAAACAAAAAoAAAAJAAAACQAAAAoAAAALAAAACgAAAAwAAAALAAAACwAAAAwAAAANAAAADAAAAA4AAAANAAAADQAAAA4AAAAPAAAADgAAAAAAAAAPAAAADwAAAAAAAAABAAAAEAAAABIAAAARAAAAEQAAABIAAAATAAAAEgAAABQAAAATAAAAEwAAABQAAAAVAAAAFAAAABYAAAAVAAAAFQAAABYAAAAXAAAAFgAAABgAAAAXAAAAFwAAABgAAAAZAAAAGAAAABoAAAAZAAAAGQAAABoAAAAbAAAAGgAAABwAAAAbAAAAGwAAABwAAAAdAAAAHAAAAB4AAAAdAAAAHQAAAB4AAAAfAAAAHgAAABAAAAAfAAAAHwAAABAAAAARAAAAIAAAACIAAAAhAAAAIQAAACIAAAAjAAAAIgAAACQAAAAjAAAAIwAAACQAAAAlAAAAJAAAACYAAAAlAAAAJQAAACYAAAAnAAAAJgAAACgAAAAnAAAAJwAAACgAAAApAAAAKAAAACoAAAApAAAAKQAAACoAAAArAAAAKgAAACwAAAArAAAAKwAAACwAAAAtAAAALAAAAC4AAAAtAAAALQAAAC4AAAAvAAAALgAAACAAAAAvAAAALwAAACAAAAAhAAAAMAAAADIAAAAxAAAAMQAAADIAAAAzAAAAMgAAADQAAAAzAAAAMwAAADQAAAA1AAAANAAAADYAAAA1AAAANQAAADYAAAA3AAAANgAAADgAAAA3AAAANwAAADgAAAA5AAAAOAAAADoAAAA5AAAAOQAAADoAAAA7AAAAOgAAADwAAAA7AAAAOwAAADwAAAA9AAAAPAAAAD4AAAA9AAAAPQAAAD4AAAA/AAAAPgAAADAAAAA/AAAAPwAAADAAAAAxAAAAQAAAAEIAAABBAAAAQQAAAEIAAABDAAAAQgAAAEQAAABDAAAAQwAAAEQAAABFAAAARAAAAEYAAABFAAAARQAAAEYAAABHAAAARgAAAEgAAABHAAAARwAAAEgAAABJAAAASAAAAEoAAABJAAAASQAAAEoAAABLAAAASgAAAEwAAABLAAAASwAAAEwAAABNAAAATAAAAE4AAABNAAAATQAAAE4AAABPAAAATgAAAEAAAABPAAAATwAAAEAAAABBAAAAUAAAAFIAAABRAAAAUQAAAFIAAABTAAAAUgAAAFQAAABTAAAAUwAAAFQAAABVAAAAVAAAAFYAAABVAAAAVQAAAFYAAABXAAAAVgAAAFgAAABXAAAAVwAAAFgAAABZAAAAWAAAAFoAAABZAAAAWQAAAFoAAABbAAAAWgAAAFwAAABbAAAAWwAAAFwAAABdAAAAXAAAAF4AAABdAAAAXQAAAF4AAABfAAAAXgAAAFAAAABfAAAAXwAAAFAAAABRAAAAYAAAAGIAAABhAAAAYQAAAGIAAABjAAAAYgAAAGQAAABjAAAAYwAAAGQAAABlAAAAZAAAAGYAAABlAAAAZQAAAGYAAABnAAAAZgAAAGgAAABnAAAAZwAAAGgAAABpAAAAaAAAAGoAAABpAAAAaQAAAGoAAABrAAAAagAAAGwAAABrAAAAawAAAGwAAABtAAAAbAAAAG4AAABtAAAAbQAAAG4AAABvAAAAbgAAAGAAAABvAAAAbwAAAGAAAABhAAAA",
        "encoding": "base64",
        "path": [
         "indices",
         "data"
        ]
       },
       {
        "data": "AACAPwAAAAAAAAAAAAAAAAAAAAAAAIA/AAAAAAAAAAAAAAAAAAAAAAAAgD8AAAAAAAAAAAAAAAAAAAAAAACAPw==",
        "encoding": "base64",
        "path": [
         "model_matrix",
         "data"
        ]
       },
       {
        "data": "",
        "encoding": "base64",
        "path": [
         "normals",
         "data"
        ]
       },
       {
        "data": "",
        "encoding": "base64",
        "path": [
         "opacity_function",
         "data"
        ]
       },
       {
        "data": "",
        "encoding": "base64",
        "path": [
         "triangles_attribute",
         "data"
        ]
       },
       {
        "data": "AADAfw==",
        "encoding": "base64",
        "path": [
         "uvs",
         "data"
        ]
       },
       {
        "data": "IKZAwQ2XZcGqnbvB1utHwcFBbsHRRcHB7FE9wRWWasGoxbrBopdEwclAc8HQbcDBThw+wcE9b8EtvLjBBWJFwXTod8FVZL7Buo5Cwf/TcMGysrbBcNRJwbN+ecHaWrzBUA5IwddqbsGx2rXBBlRPwYsVd8HYgrvBhGJLwc9racGysrbBOqhSwYIWcsHaWrzBIZhKwSPEZMEtvLjB2N1RwddubcFVZL7BtSVGweUtY8GoxbrBbGtNwZnYa8HQbcDBE/1HwUxWbsFpOMHByUJPwQABd8GQ4MbBXbhEwRM+c8FVZMDBFP5Lwcfoe8F8DMbBEn9FwRTQd8FVZL7ByMRMwWQ9gMF8DMTBy9xJwe9eecFVZLzBgSJRwdEEgcF8DMLByUJPwQABd8FBkLvBf4hWwbOrf8FpOMHBf4dSwTkZcsFVZLzBNc1ZwezDesF8DMLBysBRwTiHbcFVZL7BgAZZwewxdsF8DMTBEWNNwV34a8FVZMDBx6hUwRCjdMF8DMbBhS4SQMTQyEAUtovB6KghQAwU3kA7XpHBXib6PyeT0EBwyorBko0MQG/W5UCXcpDBHL3yP2K12kCMkYjB8dgIQKr470C0OY7BVDwJQMxH4UCoWIbBtrYYQBSL9kDQAIzBLGEjQNtw4EAEbYXBjtsyQCO09UAsFYvBgnw4QHmu2ECoWIbB5PZHQMHx7UDQAIzBIzE8QD2MzkCMkYjBhqtLQIXP40C0OY7BXVMsQNP5x0BwyorBwM07QBs93UCXcpDBmM0hQHNG3kDTUJHB+0cxQLuJ80D6+JbBUAwNQLrn5UAcaZDBs4YcQAIr+0BDEZbBf2cJQLne70C0OY7B4eEYQACRAkHb4ZPBkgEZQBhV9kBLCozB9XsoQDDMBUFzspHB3rYyQL2B9UCUIovBQDFCQIJiBUG8ypDBJnhHQHXg7UBLCozBiPJWQN+RAUFzspHB9xxLQHfp40C0OY7BWpdaQL8s+UDb4ZPB5II7QBdz3UAcaZDBRv1KQF+28kBDEZbBq2wxQCG880CS65bBDedAQLV/BEG5k5zBcQUdQE08+0DIB5bB1H8sQMs/CEHwr5vBb3AZQAiEAkHb4ZPB0eooQKwlDUEDipnB0MYoQDKxBUHuu5HBM0E4QNZSEEEWZJfBkAxCQE9JBUEl2JDB8oZRQPPqD0FMgJbBynNWQDmJAUHuu5HBLO5lQN0qDEEWZJfBzAhaQLBG+UDb4ZPBLoNpQPxEB0EDipnBa7JKQFvs8kDIB5bBzSxaQNEXBEHwr5vBvgtBQOiYBEFRhpzBIIZQQIw6D0F4LqLBkv4sQHBICEF1ppvB9Xg8QBTqEkGcTqHBYHkpQLMYDUEDipnBwvM4QFe6F0EqMp/BD4w4QNg3EEGRbZfBcQZIQHzZGkG5FZ3BQmJRQMDRD0G1jZbBpdxgQGRzGkHdNZzBbm9lQDciDEGRbZfB0Ol0QNvDFkG5FZ3BoPRoQPVRB0EDipnBA294QJnzEUEqMp/B8eFZQM8yBEF1ppvBVFxpQHPUDkGcTqHB0apQQL9TD0EQIaLBMyVgQGP1GUE3yafBs/c8QLryEkEhRaHBFnJMQF6UHUFJ7abBUII5QF6tF0EqMp/BsvxIQAJPIkFS2qTBTVFIQH6+GkE0H53Br8tXQCJgJUFbx6LB9LdgQDBaGkFFQ5zBVzJwQNT7JEFt66HBEmt0QDa7FkE0H53BuvKBQNpcIUFbx6LBdeB3QJEAEkEqMp/BbK2DQDWiHEFS2qTBeBFpQHHvDkEhRaHB2ot4QBWRGUFJ7abB",
        "encoding": "base64",
        "path": [
         "vertices",
         "data"
        ]
       },
       {
        "data": "",
        "encoding": "base64",
        "path": [
         "volume",
         "data"
        ]
       },
       {
        "data": "",
        "encoding": "base64",
        "path": [
         "volume_bounds",
         "data"
        ]
       }
      ],
      "model_module": "k3d",
      "model_module_version": "2.16.1",
      "model_name": "ObjectModel",
      "state": {
       "_view_module": null,
       "_view_module_version": "",
       "_view_name": null,
       "attribute": {
        "dtype": "float32",
        "shape": [
         0
        ]
       },
       "click_callback": false,
       "color": 154,
       "colorLegend": false,
       "color_map": {
        "dtype": "float32",
        "shape": [
         1024
        ]
       },
       "color_range": [],
       "colors": {
        "dtype": "uint32",
        "shape": [
         0
        ]
       },
       "compression_level": 0,
       "custom_data": null,
       "flat_shading": true,
       "group": null,
       "hover_callback": false,
       "id": 6890954608,
       "indices": {
        "dtype": "uint32",
        "shape": [
         112,
         3
        ]
       },
       "model_matrix": {
        "dtype": "float32",
        "shape": [
         4,
         4
        ]
       },
       "name": "Mesh #12",
       "normals": {
        "dtype": "float32",
        "shape": [
         0
        ]
       },
       "opacity": 1,
       "opacity_function": {
        "dtype": "float32",
        "shape": [
         0
        ]
       },
       "side": "front",
       "texture": null,
       "texture_file_format": null,
       "triangles_attribute": {
        "dtype": "float32",
        "shape": [
         0
        ]
       },
       "type": "Mesh",
       "uvs": {
        "dtype": "float32",
        "shape": []
       },
       "vertices": {
        "dtype": "float32",
        "shape": [
         112,
         3
        ]
       },
       "visible": true,
       "volume": {
        "dtype": "float32",
        "shape": [
         0
        ]
       },
       "volume_bounds": {
        "dtype": "float32",
        "shape": [
         0
        ]
       },
       "wireframe": false
      }
     },
     "0eb3d5d5bc6c453fb93d60870571f1e5": {
      "buffers": [
       {
        "data": "",
        "encoding": "base64",
        "path": [
         "attribute",
         "data"
        ]
       },
       {
        "data": "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",
        "encoding": "base64",
        "path": [
         "color_map",
         "data"
        ]
       },
       {
        "data": "",
        "encoding": "base64",
        "path": [
         "colors",
         "data"
        ]
       },
       {
        "data": "AAAAAAIAAAABAAAAAQAAAAIAAAADAAAAAgAAAAQAAAADAAAAAwAAAAQAAAAFAAAABAAAAAYAAAAFAAAABQAAAAYAAAAHAAAABgAAAAgAAAAHAAAABwAAAAgAAAAJAAAACAAAAAoAAAAJAAAACQAAAAoAAAALAAAACgAAAAwAAAALAAAACwAAAAwAAAANAAAADAAAAA4AAAANAAAADQAAAA4AAAAPAAAADgAAAAAAAAAPAAAADwAAAAAAAAABAAAAEAAAABIAAAARAAAAEQAAABIAAAATAAAAEgAAABQAAAATAAAAEwAAABQAAAAVAAAAFAAAABYAAAAVAAAAFQAAABYAAAAXAAAAFgAAABgAAAAXAAAAFwAAABgAAAAZAAAAGAAAABoAAAAZAAAAGQAAABoAAAAbAAAAGgAAABwAAAAbAAAAGwAAABwAAAAdAAAAHAAAAB4AAAAdAAAAHQAAAB4AAAAfAAAAHgAAABAAAAAfAAAAHwAAABAAAAARAAAA",
        "encoding": "base64",
        "path": [
         "indices",
         "data"
        ]
       },
       {
        "data": "AACAPwAAAAAAAAAAAAAAAAAAAAAAAIA/AAAAAAAAAAAAAAAAAAAAAAAAgD8AAAAAAAAAAAAAAAAAAAAAAACAPw==",
        "encoding": "base64",
        "path": [
         "model_matrix",
         "data"
        ]
       },
       {
        "data": "",
        "encoding": "base64",
        "path": [
         "normals",
         "data"
        ]
       },
       {
        "data": "",
        "encoding": "base64",
        "path": [
         "opacity_function",
         "data"
        ]
       },
       {
        "data": "",
        "encoding": "base64",
        "path": [
         "triangles_attribute",
         "data"
        ]
       },
       {
        "data": "AADAfw==",
        "encoding": "base64",
        "path": [
         "uvs",
         "data"
        ]
       },
       {
        "data": "3TnNL+0lND8AAADCWdbSL+0lND8AAATCmcT+PpnE/j4AAADCmcT+PpnE/j4AAATC7SU0P8IeXa4AAADC7SU0P8IeXa4AAATCmcT+PpnE/r4AAADCmcT+PpnE/r4AAATCLfKVL+0lNL8AAADCqI6bL+0lNL8AAATCmcT+vpnE/r4AAADCmcT+vpnE/r4AAATC7SU0v5+1fC4AAADC7SU0v5+1fC4AAATCmcT+vpnE/j4AAADCmcT+vpnE/j4AAATC5X/SLxzHMT8AAATCYBzYLxzHMT8AAAjCbmr7Pm5q+z4AAATCbmr7Pm5q+z4AAAjCHMcxP+41Wq4AAATCHMcxP+41Wq4AAAjCbmr7Pm5q+74AAATCbmr7Pm5q+74AAAjCafKbLxzHMb8AAATC5Y6hLxzHMb8AAAjCbmr7vm5q+74AAATCbmr7vm5q+74AAAjCHMcxv2RieS4AAATCHMcxv2RieS4AAAjCbmr7vm5q+z4AAATCbmr7vm5q+z4AAAjC",
        "encoding": "base64",
        "path": [
         "vertices",
         "data"
        ]
       },
       {
        "data": "",
        "encoding": "base64",
        "path": [
         "volume",
         "data"
        ]
       },
       {
        "data": "",
        "encoding": "base64",
        "path": [
         "volume_bounds",
         "data"
        ]
       }
      ],
      "model_module": "k3d",
      "model_module_version": "2.16.1",
      "model_name": "ObjectModel",
      "state": {
       "_view_module": null,
       "_view_module_version": "",
       "_view_name": null,
       "attribute": {
        "dtype": "float32",
        "shape": [
         0
        ]
       },
       "click_callback": false,
       "color": 15204352,
       "colorLegend": false,
       "color_map": {
        "dtype": "float32",
        "shape": [
         1024
        ]
       },
       "color_range": [],
       "colors": {
        "dtype": "uint32",
        "shape": [
         0
        ]
       },
       "compression_level": 0,
       "custom_data": null,
       "flat_shading": true,
       "group": null,
       "hover_callback": false,
       "id": 6890782016,
       "indices": {
        "dtype": "uint32",
        "shape": [
         32,
         3
        ]
       },
       "model_matrix": {
        "dtype": "float32",
        "shape": [
         4,
         4
        ]
       },
       "name": "Mesh #37",
       "normals": {
        "dtype": "float32",
        "shape": [
         0
        ]
       },
       "opacity": 1,
       "opacity_function": {
        "dtype": "float32",
        "shape": [
         0
        ]
       },
       "side": "front",
       "texture": null,
       "texture_file_format": null,
       "triangles_attribute": {
        "dtype": "float32",
        "shape": [
         0
        ]
       },
       "type": "Mesh",
       "uvs": {
        "dtype": "float32",
        "shape": []
       },
       "vertices": {
        "dtype": "float32",
        "shape": [
         32,
         3
        ]
       },
       "visible": true,
       "volume": {
        "dtype": "float32",
        "shape": [
         0
        ]
       },
       "volume_bounds": {
        "dtype": "float32",
        "shape": [
         0
        ]
       },
       "wireframe": false
      }
     },
     "0f50a10ecc764b45b9d26f129d82b5fe": {
      "buffers": [
       {
        "data": "",
        "encoding": "base64",
        "path": [
         "attribute",
         "data"
        ]
       },
       {
        "data": "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",
        "encoding": "base64",
        "path": [
         "color_map",
         "data"
        ]
       },
       {
        "data": "",
        "encoding": "base64",
        "path": [
         "colors",
         "data"
        ]
       },
       {
        "data": "AAAAAAIAAAABAAAAAQAAAAIAAAADAAAAAgAAAAQAAAADAAAAAwAAAAQAAAAFAAAABAAAAAYAAAAFAAAABQAAAAYAAAAHAAAABgAAAAgAAAAHAAAABwAAAAgAAAAJAAAACAAAAAoAAAAJAAAACQAAAAoAAAALAAAACgAAAAwAAAALAAAACwAAAAwAAAANAAAADAAAAA4AAAANAAAADQAAAA4AAAAPAAAADgAAAAAAAAAPAAAADwAAAAAAAAABAAAAEAAAABIAAAARAAAAEQAAABIAAAATAAAAEgAAABQAAAATAAAAEwAAABQAAAAVAAAAFAAAABYAAAAVAAAAFQAAABYAAAAXAAAAFgAAABgAAAAXAAAAFwAAABgAAAAZAAAAGAAAABoAAAAZAAAAGQAAABoAAAAbAAAAGgAAABwAAAAbAAAAGwAAABwAAAAdAAAAHAAAAB4AAAAdAAAAHQAAAB4AAAAfAAAAHgAAABAAAAAfAAAAHwAAABAAAAARAAAA",
        "encoding": "base64",
        "path": [
         "indices",
         "data"
        ]
       },
       {
        "data": "AACAPwAAAAAAAAAAAAAAAAAAAAAAAIA/AAAAAAAAAAAAAAAAAAAAAAAAgD8AAAAAAAAAAAAAAAAAAAAAAACAPw==",
        "encoding": "base64",
        "path": [
         "model_matrix",
         "data"
        ]
       },
       {
        "data": "",
        "encoding": "base64",
        "path": [
         "normals",
         "data"
        ]
       },
       {
        "data": "",
        "encoding": "base64",
        "path": [
         "opacity_function",
         "data"
        ]
       },
       {
        "data": "",
        "encoding": "base64",
        "path": [
         "triangles_attribute",
         "data"
        ]
       },
       {
        "data": "AADAfw==",
        "encoding": "base64",
        "path": [
         "uvs",
         "data"
        ]
       },
       {
        "data": "aOaevoBJWr8AACDBaOaevoBJWr8AADDBLYhSv2ZYxL4AACDBLYhSv2ZYxL4AADDBgElav2jmnj4AACDBgElav2jmnj4AADDBZljEvi2IUj8AACDBZljEvi2IUj8AADDBaOaePoBJWj8AACDBaOaePoBJWj8AADDBLYhSP2ZYxD4AACDBLYhSP2ZYxD4AADDBgElaP2jmnr4AACDBgElaP2jmnr4AADDBZljEPi2IUr8AACDBZljEPi2IUr8AADDBUkedvkgPWL8AADDBUkedvkgPWL8AAEDBN2JQv4BXwr4AADDBN2JQv4BXwr4AAEDBSA9Yv1JHnT4AADDBSA9Yv1JHnT4AAEDBgFfCvjdiUD8AADDBgFfCvjdiUD8AAEDBUkedPkgPWD8AADDBUkedPkgPWD8AAEDBN2JQP4BXwj4AADDBN2JQP4BXwj4AAEDBSA9YP1JHnb4AADDBSA9YP1JHnb4AAEDBgFfCPjdiUL8AADDBgFfCPjdiUL8AAEDB",
        "encoding": "base64",
        "path": [
         "vertices",
         "data"
        ]
       },
       {
        "data": "",
        "encoding": "base64",
        "path": [
         "volume",
         "data"
        ]
       },
       {
        "data": "",
        "encoding": "base64",
        "path": [
         "volume_bounds",
         "data"
        ]
       }
      ],
      "model_module": "k3d",
      "model_module_version": "2.16.1",
      "model_name": "ObjectModel",
      "state": {
       "_view_module": null,
       "_view_module_version": "",
       "_view_name": null,
       "attribute": {
        "dtype": "float32",
        "shape": [
         0
        ]
       },
       "click_callback": false,
       "color": 11272192,
       "colorLegend": false,
       "color_map": {
        "dtype": "float32",
        "shape": [
         1024
        ]
       },
       "color_range": [],
       "colors": {
        "dtype": "uint32",
        "shape": [
         0
        ]
       },
       "compression_level": 0,
       "custom_data": null,
       "flat_shading": true,
       "group": null,
       "hover_callback": false,
       "id": 6891158032,
       "indices": {
        "dtype": "uint32",
        "shape": [
         32,
         3
        ]
       },
       "model_matrix": {
        "dtype": "float32",
        "shape": [
         4,
         4
        ]
       },
       "name": "Mesh #20",
       "normals": {
        "dtype": "float32",
        "shape": [
         0
        ]
       },
       "opacity": 1,
       "opacity_function": {
        "dtype": "float32",
        "shape": [
         0
        ]
       },
       "side": "front",
       "texture": null,
       "texture_file_format": null,
       "triangles_attribute": {
        "dtype": "float32",
        "shape": [
         0
        ]
       },
       "type": "Mesh",
       "uvs": {
        "dtype": "float32",
        "shape": []
       },
       "vertices": {
        "dtype": "float32",
        "shape": [
         32,
         3
        ]
       },
       "visible": true,
       "volume": {
        "dtype": "float32",
        "shape": [
         0
        ]
       },
       "volume_bounds": {
        "dtype": "float32",
        "shape": [
         0
        ]
       },
       "wireframe": false
      }
     },
     "189cc66128cf4d2a9d462516349cca94": {
      "buffers": [
       {
        "data": "",
        "encoding": "base64",
        "path": [
         "attribute",
         "data"
        ]
       },
       {
        "data": "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",
        "encoding": "base64",
        "path": [
         "color_map",
         "data"
        ]
       },
       {
        "data": "",
        "encoding": "base64",
        "path": [
         "colors",
         "data"
        ]
       },
       {
        "data": "AAAAAAIAAAABAAAAAQAAAAIAAAADAAAAAgAAAAQAAAADAAAAAwAAAAQAAAAFAAAABAAAAAYAAAAFAAAABQAAAAYAAAAHAAAABgAAAAgAAAAHAAAABwAAAAgAAAAJAAAACAAAAAoAAAAJAAAACQAAAAoAAAALAAAACgAAAAwAAAALAAAACwAAAAwAAAANAAAADAAAAA4AAAANAAAADQAAAA4AAAAPAAAADgAAAAAAAAAPAAAADwAAAAAAAAABAAAA",
        "encoding": "base64",
        "path": [
         "indices",
         "data"
        ]
       },
       {
        "data": "AACAPwAAAAAAAAAAAAAAAAAAAAAAAIA/AAAAAAAAAAAAAAAAAAAAAAAAgD8AAAAAAAAAAAAAAAAAAAAAAACAPw==",
        "encoding": "base64",
        "path": [
         "model_matrix",
         "data"
        ]
       },
       {
        "data": "",
        "encoding": "base64",
        "path": [
         "normals",
         "data"
        ]
       },
       {
        "data": "",
        "encoding": "base64",
        "path": [
         "opacity_function",
         "data"
        ]
       },
       {
        "data": "",
        "encoding": "base64",
        "path": [
         "triangles_attribute",
         "data"
        ]
       },
       {
        "data": "AADAfw==",
        "encoding": "base64",
        "path": [
         "uvs",
         "data"
        ]
       },
       {
        "data": "kvsfP/OoPj8AAEDAkvsfP/OoPj8AAIDAGfF3P2qJrT0AAEDAGfF3P2qJrT0AAIDA86g+P5L7H78AAEDA86g+P5L7H78AAIDAaomtPRnxd78AAEDAaomtPRnxd78AAIDAkvsfv/OoPr8AAEDAkvsfv/OoPr8AAIDAGfF3v2qJrb0AAEDAGfF3v2qJrb0AAIDA86g+v5L7Hz8AAEDA86g+v5L7Hz8AAIDAaomtvRnxdz8AAEDAaomtvRnxdz8AAIDA",
        "encoding": "base64",
        "path": [
         "vertices",
         "data"
        ]
       },
       {
        "data": "",
        "encoding": "base64",
        "path": [
         "volume",
         "data"
        ]
       },
       {
        "data": "",
        "encoding": "base64",
        "path": [
         "volume_bounds",
         "data"
        ]
       }
      ],
      "model_module": "k3d",
      "model_module_version": "2.16.1",
      "model_name": "ObjectModel",
      "state": {
       "_view_module": null,
       "_view_module_version": "",
       "_view_name": null,
       "attribute": {
        "dtype": "float32",
        "shape": [
         0
        ]
       },
       "click_callback": false,
       "color": 9240576,
       "colorLegend": false,
       "color_map": {
        "dtype": "float32",
        "shape": [
         1024
        ]
       },
       "color_range": [],
       "colors": {
        "dtype": "uint32",
        "shape": [
         0
        ]
       },
       "compression_level": 0,
       "custom_data": null,
       "flat_shading": true,
       "group": null,
       "hover_callback": false,
       "id": 6891351520,
       "indices": {
        "dtype": "uint32",
        "shape": [
         16,
         3
        ]
       },
       "model_matrix": {
        "dtype": "float32",
        "shape": [
         4,
         4
        ]
       },
       "name": "Mesh #4",
       "normals": {
        "dtype": "float32",
        "shape": [
         0
        ]
       },
       "opacity": 1,
       "opacity_function": {
        "dtype": "float32",
        "shape": [
         0
        ]
       },
       "side": "front",
       "texture": null,
       "texture_file_format": null,
       "triangles_attribute": {
        "dtype": "float32",
        "shape": [
         0
        ]
       },
       "type": "Mesh",
       "uvs": {
        "dtype": "float32",
        "shape": []
       },
       "vertices": {
        "dtype": "float32",
        "shape": [
         16,
         3
        ]
       },
       "visible": true,
       "volume": {
        "dtype": "float32",
        "shape": [
         0
        ]
       },
       "volume_bounds": {
        "dtype": "float32",
        "shape": [
         0
        ]
       },
       "wireframe": false
      }
     },
     "1dd5094d4f1e4666ade3b93c081e284d": {
      "buffers": [
       {
        "data": "",
        "encoding": "base64",
        "path": [
         "attribute",
         "data"
        ]
       },
       {
        "data": "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",
        "encoding": "base64",
        "path": [
         "color_map",
         "data"
        ]
       },
       {
        "data": "",
        "encoding": "base64",
        "path": [
         "colors",
         "data"
        ]
       },
       {
        "data": "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",
        "encoding": "base64",
        "path": [
         "indices",
         "data"
        ]
       },
       {
        "data": "AACAPwAAAAAAAAAAAAAAAAAAAAAAAIA/AAAAAAAAAAAAAAAAAAAAAAAAgD8AAAAAAAAAAAAAAAAAAAAAAACAPw==",
        "encoding": "base64",
        "path": [
         "model_matrix",
         "data"
        ]
       },
       {
        "data": "",
        "encoding": "base64",
        "path": [
         "normals",
         "data"
        ]
       },
       {
        "data": "",
        "encoding": "base64",
        "path": [
         "opacity_function",
         "data"
        ]
       },
       {
        "data": "",
        "encoding": "base64",
        "path": [
         "triangles_attribute",
         "data"
        ]
       },
       {
        "data": "AADAfw==",
        "encoding": "base64",
        "path": [
         "uvs",
         "data"
        ]
       },
       {
        "data": "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",
        "encoding": "base64",
        "path": [
         "vertices",
         "data"
        ]
       },
       {
        "data": "",
        "encoding": "base64",
        "path": [
         "volume",
         "data"
        ]
       },
       {
        "data": "",
        "encoding": "base64",
        "path": [
         "volume_bounds",
         "data"
        ]
       }
      ],
      "model_module": "k3d",
      "model_module_version": "2.16.1",
      "model_name": "ObjectModel",
      "state": {
       "_view_module": null,
       "_view_module_version": "",
       "_view_name": null,
       "attribute": {
        "dtype": "float32",
        "shape": [
         0
        ]
       },
       "click_callback": false,
       "color": 168,
       "colorLegend": false,
       "color_map": {
        "dtype": "float32",
        "shape": [
         1024
        ]
       },
       "color_range": [],
       "colors": {
        "dtype": "uint32",
        "shape": [
         0
        ]
       },
       "compression_level": 0,
       "custom_data": null,
       "flat_shading": true,
       "group": null,
       "hover_callback": false,
       "id": 6890960560,
       "indices": {
        "dtype": "uint32",
        "shape": [
         320,
         3
        ]
       },
       "model_matrix": {
        "dtype": "float32",
        "shape": [
         4,
         4
        ]
       },
       "name": "Mesh #9",
       "normals": {
        "dtype": "float32",
        "shape": [
         0
        ]
       },
       "opacity": 1,
       "opacity_function": {
        "dtype": "float32",
        "shape": [
         0
        ]
       },
       "side": "front",
       "texture": null,
       "texture_file_format": null,
       "triangles_attribute": {
        "dtype": "float32",
        "shape": [
         0
        ]
       },
       "type": "Mesh",
       "uvs": {
        "dtype": "float32",
        "shape": []
       },
       "vertices": {
        "dtype": "float32",
        "shape": [
         320,
         3
        ]
       },
       "visible": true,
       "volume": {
        "dtype": "float32",
        "shape": [
         0
        ]
       },
       "volume_bounds": {
        "dtype": "float32",
        "shape": [
         0
        ]
       },
       "wireframe": false
      }
     },
     "1e8757461cc74833bed645c3b19b1196": {
      "buffers": [
       {
        "data": "",
        "encoding": "base64",
        "path": [
         "attribute",
         "data"
        ]
       },
       {
        "data": "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",
        "encoding": "base64",
        "path": [
         "color_map",
         "data"
        ]
       },
       {
        "data": "",
        "encoding": "base64",
        "path": [
         "colors",
         "data"
        ]
       },
       {
        "data": "AAAAAAIAAAABAAAAAQAAAAIAAAADAAAAAgAAAAQAAAADAAAAAwAAAAQAAAAFAAAABAAAAAYAAAAFAAAABQAAAAYAAAAHAAAABgAAAAgAAAAHAAAABwAAAAgAAAAJAAAACAAAAAoAAAAJAAAACQAAAAoAAAALAAAACgAAAAwAAAALAAAACwAAAAwAAAANAAAADAAAAA4AAAANAAAADQAAAA4AAAAPAAAADgAAAAAAAAAPAAAADwAAAAAAAAABAAAAEAAAABIAAAARAAAAEQAAABIAAAATAAAAEgAAABQAAAATAAAAEwAAABQAAAAVAAAAFAAAABYAAAAVAAAAFQAAABYAAAAXAAAAFgAAABgAAAAXAAAAFwAAABgAAAAZAAAAGAAAABoAAAAZAAAAGQAAABoAAAAbAAAAGgAAABwAAAAbAAAAGwAAABwAAAAdAAAAHAAAAB4AAAAdAAAAHQAAAB4AAAAfAAAAHgAAABAAAAAfAAAAHwAAABAAAAARAAAAIAAAACIAAAAhAAAAIQAAACIAAAAjAAAAIgAAACQAAAAjAAAAIwAAACQAAAAlAAAAJAAAACYAAAAlAAAAJQAAACYAAAAnAAAAJgAAACgAAAAnAAAAJwAAACgAAAApAAAAKAAAACoAAAApAAAAKQAAACoAAAArAAAAKgAAACwAAAArAAAAKwAAACwAAAAtAAAALAAAAC4AAAAtAAAALQAAAC4AAAAvAAAALgAAACAAAAAvAAAALwAAACAAAAAhAAAA",
        "encoding": "base64",
        "path": [
         "indices",
         "data"
        ]
       },
       {
        "data": "AACAPwAAAAAAAAAAAAAAAAAAAAAAAIA/AAAAAAAAAAAAAAAAAAAAAAAAgD8AAAAAAAAAAAAAAAAAAAAAAACAPw==",
        "encoding": "base64",
        "path": [
         "model_matrix",
         "data"
        ]
       },
       {
        "data": "",
        "encoding": "base64",
        "path": [
         "normals",
         "data"
        ]
       },
       {
        "data": "",
        "encoding": "base64",
        "path": [
         "opacity_function",
         "data"
        ]
       },
       {
        "data": "",
        "encoding": "base64",
        "path": [
         "triangles_attribute",
         "data"
        ]
       },
       {
        "data": "AADAfw==",
        "encoding": "base64",
        "path": [
         "uvs",
         "data"
        ]
       },
       {
        "data": "LM0QMOQ4Dj8AAEDCapsTMOQ4Dj8AAETC8iHJPvIhyT4AAEDC8iHJPvIhyT4AAETC5DgOP4yRLq4AAEDC5DgOP4yRLq4AAETC8iHJPvIhyb4AAEDC8iHJPvIhyb4AAETC9fX1L+Q4Dr8AAEDCcJL7L+Q4Dr8AAETC8iHJvvIhyb4AAEDC8iHJvvIhyb4AAETC5DgOv+qBRy4AAEDC5DgOv+qBRy4AAETC8iHJvvIhyT4AAEDC8iHJvvIhyT4AAETCMHATMBPaCz8AAETCbj4WMBPaCz8AAEjCx8fFPsfHxT4AAETCx8fFPsfHxT4AAEjCE9oLP7ioK64AAETCE9oLP7ioK64AAEjCx8fFPsfHxb4AAETCx8fFPsfHxb4AAEjCMfb7LxPaC78AAETCVskAMBPaC78AAEjCx8fFvsfHxb4AAETCx8fFvsfHxb4AAEjCE9oLv64uRC4AAETCE9oLv64uRC4AAEjCx8fFvsfHxT4AAETCx8fFvsfHxT4AAEjCNBMWMEJ7CT8AAEjCceEYMEJ7CT8AAEzCnW3CPp1twj4AAEjCnW3CPp1twj4AAEzCQnsJP+W/KK4AAEjCQnsJP+W/KK4AAEzCnW3CPp1twr4AAEjCnW3CPp1twr4AAEzCN/sAMEJ7Cb8AAEjCdckDMEJ7Cb8AAEzCnW3Cvp1twr4AAEjCnW3Cvp1twr4AAEzCQnsJv3PbQC4AAEjCQnsJv3PbQC4AAEzCnW3Cvp1twj4AAEjCnW3Cvp1twj4AAEzC",
        "encoding": "base64",
        "path": [
         "vertices",
         "data"
        ]
       },
       {
        "data": "",
        "encoding": "base64",
        "path": [
         "volume",
         "data"
        ]
       },
       {
        "data": "",
        "encoding": "base64",
        "path": [
         "volume_bounds",
         "data"
        ]
       }
      ],
      "model_module": "k3d",
      "model_module_version": "2.16.1",
      "model_name": "ObjectModel",
      "state": {
       "_view_module": null,
       "_view_module_version": "",
       "_view_name": null,
       "attribute": {
        "dtype": "float32",
        "shape": [
         0
        ]
       },
       "click_callback": false,
       "color": 16719104,
       "colorLegend": false,
       "color_map": {
        "dtype": "float32",
        "shape": [
         1024
        ]
       },
       "color_range": [],
       "colors": {
        "dtype": "uint32",
        "shape": [
         0
        ]
       },
       "compression_level": 0,
       "custom_data": null,
       "flat_shading": true,
       "group": null,
       "hover_callback": false,
       "id": 6890954944,
       "indices": {
        "dtype": "uint32",
        "shape": [
         48,
         3
        ]
       },
       "model_matrix": {
        "dtype": "float32",
        "shape": [
         4,
         4
        ]
       },
       "name": "Mesh #45",
       "normals": {
        "dtype": "float32",
        "shape": [
         0
        ]
       },
       "opacity": 1,
       "opacity_function": {
        "dtype": "float32",
        "shape": [
         0
        ]
       },
       "side": "front",
       "texture": null,
       "texture_file_format": null,
       "triangles_attribute": {
        "dtype": "float32",
        "shape": [
         0
        ]
       },
       "type": "Mesh",
       "uvs": {
        "dtype": "float32",
        "shape": []
       },
       "vertices": {
        "dtype": "float32",
        "shape": [
         48,
         3
        ]
       },
       "visible": true,
       "volume": {
        "dtype": "float32",
        "shape": [
         0
        ]
       },
       "volume_bounds": {
        "dtype": "float32",
        "shape": [
         0
        ]
       },
       "wireframe": false
      }
     },
     "2228ae40d28f4c2fa188a02efac71480": {
      "buffers": [
       {
        "data": "",
        "encoding": "base64",
        "path": [
         "attribute",
         "data"
        ]
       },
       {
        "data": "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",
        "encoding": "base64",
        "path": [
         "color_map",
         "data"
        ]
       },
       {
        "data": "",
        "encoding": "base64",
        "path": [
         "colors",
         "data"
        ]
       },
       {
        "data": "AAAAAAIAAAABAAAAAQAAAAIAAAADAAAAAgAAAAQAAAADAAAAAwAAAAQAAAAFAAAABAAAAAYAAAAFAAAABQAAAAYAAAAHAAAABgAAAAgAAAAHAAAABwAAAAgAAAAJAAAACAAAAAoAAAAJAAAACQAAAAoAAAALAAAACgAAAAwAAAALAAAACwAAAAwAAAANAAAADAAAAA4AAAANAAAADQAAAA4AAAAPAAAADgAAAAAAAAAPAAAADwAAAAAAAAABAAAAEAAAABIAAAARAAAAEQAAABIAAAATAAAAEgAAABQAAAATAAAAEwAAABQAAAAVAAAAFAAAABYAAAAVAAAAFQAAABYAAAAXAAAAFgAAABgAAAAXAAAAFwAAABgAAAAZAAAAGAAAABoAAAAZAAAAGQAAABoAAAAbAAAAGgAAABwAAAAbAAAAGwAAABwAAAAdAAAAHAAAAB4AAAAdAAAAHQAAAB4AAAAfAAAAHgAAABAAAAAfAAAAHwAAABAAAAARAAAAIAAAACIAAAAhAAAAIQAAACIAAAAjAAAAIgAAACQAAAAjAAAAIwAAACQAAAAlAAAAJAAAACYAAAAlAAAAJQAAACYAAAAnAAAAJgAAACgAAAAnAAAAJwAAACgAAAApAAAAKAAAACoAAAApAAAAKQAAACoAAAArAAAAKgAAACwAAAArAAAAKwAAACwAAAAtAAAALAAAAC4AAAAtAAAALQAAAC4AAAAvAAAALgAAACAAAAAvAAAALwAAACAAAAAhAAAAMAAAADIAAAAxAAAAMQAAADIAAAAzAAAAMgAAADQAAAAzAAAAMwAAADQAAAA1AAAANAAAADYAAAA1AAAANQAAADYAAAA3AAAANgAAADgAAAA3AAAANwAAADgAAAA5AAAAOAAAADoAAAA5AAAAOQAAADoAAAA7AAAAOgAAADwAAAA7AAAAOwAAADwAAAA9AAAAPAAAAD4AAAA9AAAAPQAAAD4AAAA/AAAAPgAAADAAAAA/AAAAPwAAADAAAAAxAAAAQAAAAEIAAABBAAAAQQAAAEIAAABDAAAAQgAAAEQAAABDAAAAQwAAAEQAAABFAAAARAAAAEYAAABFAAAARQAAAEYAAABHAAAARgAAAEgAAABHAAAARwAAAEgAAABJAAAASAAAAEoAAABJAAAASQAAAEoAAABLAAAASgAAAEwAAABLAAAASwAAAEwAAABNAAAATAAAAE4AAABNAAAATQAAAE4AAABPAAAATgAAAEAAAABPAAAATwAAAEAAAABBAAAA",
        "encoding": "base64",
        "path": [
         "indices",
         "data"
        ]
       },
       {
        "data": "AACAPwAAAAAAAAAAAAAAAAAAAAAAAIA/AAAAAAAAAAAAAAAAAAAAAAAAgD8AAAAAAAAAAAAAAAAAAAAAAACAPw==",
        "encoding": "base64",
        "path": [
         "model_matrix",
         "data"
        ]
       },
       {
        "data": "",
        "encoding": "base64",
        "path": [
         "normals",
         "data"
        ]
       },
       {
        "data": "",
        "encoding": "base64",
        "path": [
         "opacity_function",
         "data"
        ]
       },
       {
        "data": "",
        "encoding": "base64",
        "path": [
         "triangles_attribute",
         "data"
        ]
       },
       {
        "data": "AADAfw==",
        "encoding": "base64",
        "path": [
         "uvs",
         "data"
        ]
       },
       {
        "data": "WsiZP/4tBcAxCKLBlwnHPxtfLMBZsKfBee/QP6Lw/L/qCKHBtTD+P22pJcASsabBQbz3PxKCCcCeoJ7Bv34SQC6zMMDGSKTBNnT3P/jTH8BTOJzBuloSQBQFR8B64KHBjEHQP+NaNMALOZvByYL9P/+LW8Az4aDBbhqZP5AQO8BTOJzBq1vGP61BYsB64KHBS5tkP88GMMCeoJ7B4o6fP+w3V8DGSKTBYCtlP+q0GcDqCKHB7dafPwbmQMASsabB3XTHPwG8LMDwoqfBGbb0Px3tU8AYS63Bw8L9P8AgJsCXp6bBAIIVQNxRTcC+T6zBXvsRQAj/MMDGSKTB/JsoQCQwWMDu8KnB5tcRQAb5RsD16aHBhXgoQCIqbsAdkqfBgxf9PxkvW8Cc7qDBYCwVQBowgcDDlqbBncnGP1nKYcD16aHB2gr0P7t9hMAdkqfBpJWgPxLsVsDGSKTB4dbNPy4dfsDu8KnBk9ygPxTyQMCXp6bB0B3OPzAjaMC+T6zBXyH1PwNKVMCvPa3BTjERQB97e8DX5bLBB0sVQDDJTcBDRqzBpesrQEz6dMBr7rHBmxgoQP57WMDu8KnBOrk+QBqtf8AVma/BsfUnQBQebsCYm6fBUJY+QJinisDAQ63BvfYUQKcBgcAspKbBXJcrQDWalMBTTKzBzHj0PxFChMCYm6fBBN0QQJ/al8DAQ63Bo93OP1TRfcDu8KnB4B78PziBksAVma/BdyPPPz4vaMBDRqzBs2T8Py2wh8Br7rHB8GYRQAbYe8Bu2LLBjwcoQJGEkcCWgLjBrLQrQJ9xdcDv5LHBSlVCQF5RjsAXjbfB2DU+QPX4f8AVma/Bd9ZUQAiVk8A9QbXBfRM+QJGhisA7Ta3BG7RUQB86nsBj9bLBuWErQMJrlMC8WazBWAJCQFAEqMDkAbLB/hMRQPael8A7Ta3BnLQnQIQ3q8Bj9bLBoiX9P0tbksAVma/BcDMVQNnzpcA9QbXBWmr9PzS2h8Dv5LHBy1UVQMJOm8AXjbfBcXm/PmQMh722CavBahClvpHXaD3esbDB70JLPghZ177tJarBY+j+vv16mL4Vzq/Bvvy+vZBkB78AAKjBhSRKvxbrz74oqK3BqSepvtmZp74T2qXBYWyDv5x3Ub47gqvBcXm/vmQMhz1K9qTB0wCJv0hCQT5xnqrB70JLvghZ1z4T2qXBqRVlv4obCz87gqvBvvy+PZBkBz8AAKjBVmUav5bTJj8oqK3BqSepPtmZpz7tJarBMWK7vuR35j4Vzq/B",
        "encoding": "base64",
        "path": [
         "vertices",
         "data"
        ]
       },
       {
        "data": "",
        "encoding": "base64",
        "path": [
         "volume",
         "data"
        ]
       },
       {
        "data": "",
        "encoding": "base64",
        "path": [
         "volume_bounds",
         "data"
        ]
       }
      ],
      "model_module": "k3d",
      "model_module_version": "2.16.1",
      "model_name": "ObjectModel",
      "state": {
       "_view_module": null,
       "_view_module_version": "",
       "_view_name": null,
       "attribute": {
        "dtype": "float32",
        "shape": [
         0
        ]
       },
       "click_callback": false,
       "color": 145,
       "colorLegend": false,
       "color_map": {
        "dtype": "float32",
        "shape": [
         1024
        ]
       },
       "color_range": [],
       "colors": {
        "dtype": "uint32",
        "shape": [
         0
        ]
       },
       "compression_level": 0,
       "custom_data": null,
       "flat_shading": true,
       "group": null,
       "hover_callback": false,
       "id": 6891153952,
       "indices": {
        "dtype": "uint32",
        "shape": [
         80,
         3
        ]
       },
       "model_matrix": {
        "dtype": "float32",
        "shape": [
         4,
         4
        ]
       },
       "name": "Mesh #25",
       "normals": {
        "dtype": "float32",
        "shape": [
         0
        ]
       },
       "opacity": 1,
       "opacity_function": {
        "dtype": "float32",
        "shape": [
         0
        ]
       },
       "side": "front",
       "texture": null,
       "texture_file_format": null,
       "triangles_attribute": {
        "dtype": "float32",
        "shape": [
         0
        ]
       },
       "type": "Mesh",
       "uvs": {
        "dtype": "float32",
        "shape": []
       },
       "vertices": {
        "dtype": "float32",
        "shape": [
         80,
         3
        ]
       },
       "visible": true,
       "volume": {
        "dtype": "float32",
        "shape": [
         0
        ]
       },
       "volume_bounds": {
        "dtype": "float32",
        "shape": [
         0
        ]
       },
       "wireframe": false
      }
     },
     "37a0409cfb42441d89159de85cb0f0a3": {
      "buffers": [
       {
        "data": "",
        "encoding": "base64",
        "path": [
         "attribute",
         "data"
        ]
       },
       {
        "data": "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",
        "encoding": "base64",
        "path": [
         "color_map",
         "data"
        ]
       },
       {
        "data": "",
        "encoding": "base64",
        "path": [
         "colors",
         "data"
        ]
       },
       {
        "data": "AAAAAAIAAAABAAAAAQAAAAIAAAADAAAAAgAAAAQAAAADAAAAAwAAAAQAAAAFAAAABAAAAAYAAAAFAAAABQAAAAYAAAAHAAAABgAAAAgAAAAHAAAABwAAAAgAAAAJAAAACAAAAAoAAAAJAAAACQAAAAoAAAALAAAACgAAAAwAAAALAAAACwAAAAwAAAANAAAADAAAAA4AAAANAAAADQAAAA4AAAAPAAAADgAAAAAAAAAPAAAADwAAAAAAAAABAAAAEAAAABIAAAARAAAAEQAAABIAAAATAAAAEgAAABQAAAATAAAAEwAAABQAAAAVAAAAFAAAABYAAAAVAAAAFQAAABYAAAAXAAAAFgAAABgAAAAXAAAAFwAAABgAAAAZAAAAGAAAABoAAAAZAAAAGQAAABoAAAAbAAAAGgAAABwAAAAbAAAAGwAAABwAAAAdAAAAHAAAAB4AAAAdAAAAHQAAAB4AAAAfAAAAHgAAABAAAAAfAAAAHwAAABAAAAARAAAA",
        "encoding": "base64",
        "path": [
         "indices",
         "data"
        ]
       },
       {
        "data": "AACAPwAAAAAAAAAAAAAAAAAAAAAAAIA/AAAAAAAAAAAAAAAAAAAAAAAAgD8AAAAAAAAAAAAAAAAAAAAAAACAPw==",
        "encoding": "base64",
        "path": [
         "model_matrix",
         "data"
        ]
       },
       {
        "data": "",
        "encoding": "base64",
        "path": [
         "normals",
         "data"
        ]
       },
       {
        "data": "",
        "encoding": "base64",
        "path": [
         "opacity_function",
         "data"
        ]
       },
       {
        "data": "",
        "encoding": "base64",
        "path": [
         "triangles_attribute",
         "data"
        ]
       },
       {
        "data": "AADAfw==",
        "encoding": "base64",
        "path": [
         "uvs",
         "data"
        ]
       },
       {
        "data": "s7CwPjyS0j4ZLpHAThjgvXGIBb64zqfAS8EnP+ZZXr3tJYzAnZdNPtmQGL+LxqLAd+UUP7Pg+b4AAIDATSgCPsrNg7+eoJbAxUMrPhXLIr8mtGfA5RSTvii7lr+xeorAs7CwvjyS0r7No13AvbNMv1j0c7+FcoXAS8Env+ZZXj0mtGfAVw6OvziL+b6xeorAd+UUv7Pg+T4AAIDAbaCEvwuuW72eoJbAxUMrvhXLIj/tJYzAVSwfv9f+wD2LxqLAx7bovTqrCr4VmafAPHIRvwlWLb+0Ob7AuWhFPnZlGL+eoKLAawKGvliIkb89QbnA08n1PcMKg7+eoJbAUkSrvmBgyL89Qa3APCCUvgq9lb+eoIrAgWs+v6cS2789QaHA7p9Lv6arcr8oqIXAqf2fv3Crvr/GSJzAewiNv/3h+b6eoIrALDbHvxzOg789QaHAAbiDv+QOdL2eoJbAsuW9vyjsGb89Qa3AqaYev/scsT2eoKLABoGJvzYP6b49QbnA",
        "encoding": "base64",
        "path": [
         "vertices",
         "data"
        ]
       },
       {
        "data": "",
        "encoding": "base64",
        "path": [
         "volume",
         "data"
        ]
       },
       {
        "data": "",
        "encoding": "base64",
        "path": [
         "volume_bounds",
         "data"
        ]
       }
      ],
      "model_module": "k3d",
      "model_module_version": "2.16.1",
      "model_name": "ObjectModel",
      "state": {
       "_view_module": null,
       "_view_module_version": "",
       "_view_name": null,
       "attribute": {
        "dtype": "float32",
        "shape": [
         0
        ]
       },
       "click_callback": false,
       "color": 186,
       "colorLegend": false,
       "color_map": {
        "dtype": "float32",
        "shape": [
         1024
        ]
       },
       "color_range": [],
       "colors": {
        "dtype": "uint32",
        "shape": [
         0
        ]
       },
       "compression_level": 0,
       "custom_data": null,
       "flat_shading": true,
       "group": null,
       "hover_callback": false,
       "id": 6890962576,
       "indices": {
        "dtype": "uint32",
        "shape": [
         32,
         3
        ]
       },
       "model_matrix": {
        "dtype": "float32",
        "shape": [
         4,
         4
        ]
       },
       "name": "Mesh #5",
       "normals": {
        "dtype": "float32",
        "shape": [
         0
        ]
       },
       "opacity": 1,
       "opacity_function": {
        "dtype": "float32",
        "shape": [
         0
        ]
       },
       "side": "front",
       "texture": null,
       "texture_file_format": null,
       "triangles_attribute": {
        "dtype": "float32",
        "shape": [
         0
        ]
       },
       "type": "Mesh",
       "uvs": {
        "dtype": "float32",
        "shape": []
       },
       "vertices": {
        "dtype": "float32",
        "shape": [
         32,
         3
        ]
       },
       "visible": true,
       "volume": {
        "dtype": "float32",
        "shape": [
         0
        ]
       },
       "volume_bounds": {
        "dtype": "float32",
        "shape": [
         0
        ]
       },
       "wireframe": false
      }
     },
     "38e4d24295fa48178e0cdd1b7d0af398": {
      "model_module": "@jupyter-widgets/base",
      "model_module_version": "2.0.0",
      "model_name": "LayoutModel",
      "state": {}
     },
     "3a25c09bfdd241848011a661a118f55a": {
      "buffers": [
       {
        "data": "",
        "encoding": "base64",
        "path": [
         "attribute",
         "data"
        ]
       },
       {
        "data": "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",
        "encoding": "base64",
        "path": [
         "color_map",
         "data"
        ]
       },
       {
        "data": "",
        "encoding": "base64",
        "path": [
         "colors",
         "data"
        ]
       },
       {
        "data": "AAAAAAIAAAABAAAAAQAAAAIAAAADAAAAAgAAAAQAAAADAAAAAwAAAAQAAAAFAAAABAAAAAYAAAAFAAAABQAAAAYAAAAHAAAABgAAAAgAAAAHAAAABwAAAAgAAAAJAAAACAAAAAoAAAAJAAAACQAAAAoAAAALAAAACgAAAAwAAAALAAAACwAAAAwAAAANAAAADAAAAA4AAAANAAAADQAAAA4AAAAPAAAADgAAAAAAAAAPAAAADwAAAAAAAAABAAAA",
        "encoding": "base64",
        "path": [
         "indices",
         "data"
        ]
       },
       {
        "data": "AACAPwAAAAAAAAAAAAAAAAAAAAAAAIA/AAAAAAAAAAAAAAAAAAAAAAAAgD8AAAAAAAAAAAAAAAAAAAAAAACAPw==",
        "encoding": "base64",
        "path": [
         "model_matrix",
         "data"
        ]
       },
       {
        "data": "",
        "encoding": "base64",
        "path": [
         "normals",
         "data"
        ]
       },
       {
        "data": "",
        "encoding": "base64",
        "path": [
         "opacity_function",
         "data"
        ]
       },
       {
        "data": "",
        "encoding": "base64",
        "path": [
         "triangles_attribute",
         "data"
        ]
       },
       {
        "data": "AADAfw==",
        "encoding": "base64",
        "path": [
         "uvs",
         "data"
        ]
       },
       {
        "data": "YpUpPmJwcL8AAKDAYpUpPmJwcL8AAMDAogkMv5X+R78AAKDAogkMv5X+R78AAMDAYnBwv2KVKb4AAKDAYnBwv2KVKb4AAMDAlf5Hv6IJDD8AAKDAlf5Hv6IJDD8AAMDAYpUpvmJwcD8AAKDAYpUpvmJwcD8AAMDAogkMP5X+Rz8AAKDAogkMP5X+Rz8AAMDAYnBwP2KVKT4AAKDAYnBwP2KVKT4AAMDAlf5HP6IJDL8AAKDAlf5HP6IJDL8AAMDA",
        "encoding": "base64",
        "path": [
         "vertices",
         "data"
        ]
       },
       {
        "data": "",
        "encoding": "base64",
        "path": [
         "volume",
         "data"
        ]
       },
       {
        "data": "",
        "encoding": "base64",
        "path": [
         "volume_bounds",
         "data"
        ]
       }
      ],
      "model_module": "k3d",
      "model_module_version": "2.16.1",
      "model_name": "ObjectModel",
      "state": {
       "_view_module": null,
       "_view_module_version": "",
       "_view_name": null,
       "attribute": {
        "dtype": "float32",
        "shape": [
         0
        ]
       },
       "click_callback": false,
       "color": 9830400,
       "colorLegend": false,
       "color_map": {
        "dtype": "float32",
        "shape": [
         1024
        ]
       },
       "color_range": [],
       "colors": {
        "dtype": "uint32",
        "shape": [
         0
        ]
       },
       "compression_level": 0,
       "custom_data": null,
       "flat_shading": true,
       "group": null,
       "hover_callback": false,
       "id": 6890952448,
       "indices": {
        "dtype": "uint32",
        "shape": [
         16,
         3
        ]
       },
       "model_matrix": {
        "dtype": "float32",
        "shape": [
         4,
         4
        ]
       },
       "name": "Mesh #14",
       "normals": {
        "dtype": "float32",
        "shape": [
         0
        ]
       },
       "opacity": 1,
       "opacity_function": {
        "dtype": "float32",
        "shape": [
         0
        ]
       },
       "side": "front",
       "texture": null,
       "texture_file_format": null,
       "triangles_attribute": {
        "dtype": "float32",
        "shape": [
         0
        ]
       },
       "type": "Mesh",
       "uvs": {
        "dtype": "float32",
        "shape": []
       },
       "vertices": {
        "dtype": "float32",
        "shape": [
         16,
         3
        ]
       },
       "visible": true,
       "volume": {
        "dtype": "float32",
        "shape": [
         0
        ]
       },
       "volume_bounds": {
        "dtype": "float32",
        "shape": [
         0
        ]
       },
       "wireframe": false
      }
     },
     "3bed7d305c0c42c2ad31f0b3a03a9e15": {
      "buffers": [
       {
        "data": "",
        "encoding": "base64",
        "path": [
         "attribute",
         "data"
        ]
       },
       {
        "data": "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",
        "encoding": "base64",
        "path": [
         "color_map",
         "data"
        ]
       },
       {
        "data": "",
        "encoding": "base64",
        "path": [
         "colors",
         "data"
        ]
       },
       {
        "data": "AAAAAAIAAAABAAAAAQAAAAIAAAADAAAAAgAAAAQAAAADAAAAAwAAAAQAAAAFAAAABAAAAAYAAAAFAAAABQAAAAYAAAAHAAAABgAAAAgAAAAHAAAABwAAAAgAAAAJAAAACAAAAAoAAAAJAAAACQAAAAoAAAALAAAACgAAAAwAAAALAAAACwAAAAwAAAANAAAADAAAAA4AAAANAAAADQAAAA4AAAAPAAAADgAAAAAAAAAPAAAADwAAAAAAAAABAAAAEAAAABIAAAARAAAAEQAAABIAAAATAAAAEgAAABQAAAATAAAAEwAAABQAAAAVAAAAFAAAABYAAAAVAAAAFQAAABYAAAAXAAAAFgAAABgAAAAXAAAAFwAAABgAAAAZAAAAGAAAABoAAAAZAAAAGQAAABoAAAAbAAAAGgAAABwAAAAbAAAAGwAAABwAAAAdAAAAHAAAAB4AAAAdAAAAHQAAAB4AAAAfAAAAHgAAABAAAAAfAAAAHwAAABAAAAARAAAA",
        "encoding": "base64",
        "path": [
         "indices",
         "data"
        ]
       },
       {
        "data": "AACAPwAAAAAAAAAAAAAAAAAAAAAAAIA/AAAAAAAAAAAAAAAAAAAAAAAAgD8AAAAAAAAAAAAAAAAAAAAAAACAPw==",
        "encoding": "base64",
        "path": [
         "model_matrix",
         "data"
        ]
       },
       {
        "data": "",
        "encoding": "base64",
        "path": [
         "normals",
         "data"
        ]
       },
       {
        "data": "",
        "encoding": "base64",
        "path": [
         "opacity_function",
         "data"
        ]
       },
       {
        "data": "",
        "encoding": "base64",
        "path": [
         "triangles_attribute",
         "data"
        ]
       },
       {
        "data": "AADAfw==",
        "encoding": "base64",
        "path": [
         "uvs",
         "data"
        ]
       },
       {
        "data": "/FHiL6uqKj8AABDCd+7nL6uqKj8AABTC71vxPu9b8T4AABDC71vxPu9b8T4AABTCq6oqP3R7Ua4AABDCq6oqP3R7Ua4AABTC71vxPu9b8b4AABDC71vxPu9b8b4AABTCH/OtL6uqKr8AABDCmo+zL6uqKr8AABTC71vxvu9b8b4AABDC71vxvu9b8b4AABTCq6oqv7Joby4AABDCq6oqv7Joby4AABTC71vxvu9b8T4AABDC71vxvu9b8T4AABTCA5jnL9pLKD8AABTCfzTtL9pLKD8AABjCxQHuPsUB7j4AABTCxQHuPsUB7j4AABjC2ksoP6GSTq4AABTC2ksoP6GSTq4AABjCxQHuPsUB7r4AABTCxQHuPsUB7r4AABjCW/OzL9pLKL8AABTC14+5L9pLKL8AABjCxAHuvsUB7r4AABTCxAHuvsUB7r4AABjC2ksov3cVbC4AABTC2ksov3cVbC4AABjCxAHuvsUB7j4AABTCxAHuvsUB7j4AABjC",
        "encoding": "base64",
        "path": [
         "vertices",
         "data"
        ]
       },
       {
        "data": "",
        "encoding": "base64",
        "path": [
         "volume",
         "data"
        ]
       },
       {
        "data": "",
        "encoding": "base64",
        "path": [
         "volume_bounds",
         "data"
        ]
       }
      ],
      "model_module": "k3d",
      "model_module_version": "2.16.1",
      "model_name": "ObjectModel",
      "state": {
       "_view_module": null,
       "_view_module_version": "",
       "_view_name": null,
       "attribute": {
        "dtype": "float32",
        "shape": [
         0
        ]
       },
       "click_callback": false,
       "color": 15795968,
       "colorLegend": false,
       "color_map": {
        "dtype": "float32",
        "shape": [
         1024
        ]
       },
       "color_range": [],
       "colors": {
        "dtype": "uint32",
        "shape": [
         0
        ]
       },
       "compression_level": 0,
       "custom_data": null,
       "flat_shading": true,
       "group": null,
       "hover_callback": false,
       "id": 6890961328,
       "indices": {
        "dtype": "uint32",
        "shape": [
         32,
         3
        ]
       },
       "model_matrix": {
        "dtype": "float32",
        "shape": [
         4,
         4
        ]
       },
       "name": "Mesh #39",
       "normals": {
        "dtype": "float32",
        "shape": [
         0
        ]
       },
       "opacity": 1,
       "opacity_function": {
        "dtype": "float32",
        "shape": [
         0
        ]
       },
       "side": "front",
       "texture": null,
       "texture_file_format": null,
       "triangles_attribute": {
        "dtype": "float32",
        "shape": [
         0
        ]
       },
       "type": "Mesh",
       "uvs": {
        "dtype": "float32",
        "shape": []
       },
       "vertices": {
        "dtype": "float32",
        "shape": [
         32,
         3
        ]
       },
       "visible": true,
       "volume": {
        "dtype": "float32",
        "shape": [
         0
        ]
       },
       "volume_bounds": {
        "dtype": "float32",
        "shape": [
         0
        ]
       },
       "wireframe": false
      }
     },
     "3d856057c5bd4cbeb799020c60515a4f": {
      "buffers": [
       {
        "data": "",
        "encoding": "base64",
        "path": [
         "attribute",
         "data"
        ]
       },
       {
        "data": "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",
        "encoding": "base64",
        "path": [
         "color_map",
         "data"
        ]
       },
       {
        "data": "",
        "encoding": "base64",
        "path": [
         "colors",
         "data"
        ]
       },
       {
        "data": "AAAAAAIAAAABAAAAAQAAAAIAAAADAAAAAgAAAAQAAAADAAAAAwAAAAQAAAAFAAAABAAAAAYAAAAFAAAABQAAAAYAAAAHAAAABgAAAAgAAAAHAAAABwAAAAgAAAAJAAAACAAAAAoAAAAJAAAACQAAAAoAAAALAAAACgAAAAwAAAALAAAACwAAAAwAAAANAAAADAAAAA4AAAANAAAADQAAAA4AAAAPAAAADgAAAAAAAAAPAAAADwAAAAAAAAABAAAA",
        "encoding": "base64",
        "path": [
         "indices",
         "data"
        ]
       },
       {
        "data": "AACAPwAAAAAAAAAAAAAAAAAAAAAAAIA/AAAAAAAAAAAAAAAAAAAAAAAAgD8AAAAAAAAAAAAAAAAAAAAAAACAPw==",
        "encoding": "base64",
        "path": [
         "model_matrix",
         "data"
        ]
       },
       {
        "data": "",
        "encoding": "base64",
        "path": [
         "normals",
         "data"
        ]
       },
       {
        "data": "",
        "encoding": "base64",
        "path": [
         "opacity_function",
         "data"
        ]
       },
       {
        "data": "",
        "encoding": "base64",
        "path": [
         "triangles_attribute",
         "data"
        ]
       },
       {
        "data": "AADAfw==",
        "encoding": "base64",
        "path": [
         "uvs",
         "data"
        ]
       },
       {
        "data": "foWgvrmDXL8AABDBfoWgvrmDXL8AACDBI65Uv01Zxr4AABDBI65Uv01Zxr4AACDBuYNcv36FoD4AABDBuYNcv36FoD4AACDBTVnGviOuVD8AABDBTVnGviOuVD8AACDBfoWgPrmDXD8AABDBfoWgPrmDXD8AACDBI65UP01Zxj4AABDBI65UP01Zxj4AACDBuYNcP36FoL4AABDBuYNcP36FoL4AACDBTVnGPiOuVL8AABDBTVnGPiOuVL8AACDB",
        "encoding": "base64",
        "path": [
         "vertices",
         "data"
        ]
       },
       {
        "data": "",
        "encoding": "base64",
        "path": [
         "volume",
         "data"
        ]
       },
       {
        "data": "",
        "encoding": "base64",
        "path": [
         "volume_bounds",
         "data"
        ]
       }
      ],
      "model_module": "k3d",
      "model_module_version": "2.16.1",
      "model_name": "ObjectModel",
      "state": {
       "_view_module": null,
       "_view_module_version": "",
       "_view_name": null,
       "attribute": {
        "dtype": "float32",
        "shape": [
         0
        ]
       },
       "click_callback": false,
       "color": 11010048,
       "colorLegend": false,
       "color_map": {
        "dtype": "float32",
        "shape": [
         1024
        ]
       },
       "color_range": [],
       "colors": {
        "dtype": "uint32",
        "shape": [
         0
        ]
       },
       "compression_level": 0,
       "custom_data": null,
       "flat_shading": true,
       "group": null,
       "hover_callback": false,
       "id": 6890947408,
       "indices": {
        "dtype": "uint32",
        "shape": [
         16,
         3
        ]
       },
       "model_matrix": {
        "dtype": "float32",
        "shape": [
         4,
         4
        ]
       },
       "name": "Mesh #18",
       "normals": {
        "dtype": "float32",
        "shape": [
         0
        ]
       },
       "opacity": 1,
       "opacity_function": {
        "dtype": "float32",
        "shape": [
         0
        ]
       },
       "side": "front",
       "texture": null,
       "texture_file_format": null,
       "triangles_attribute": {
        "dtype": "float32",
        "shape": [
         0
        ]
       },
       "type": "Mesh",
       "uvs": {
        "dtype": "float32",
        "shape": []
       },
       "vertices": {
        "dtype": "float32",
        "shape": [
         16,
         3
        ]
       },
       "visible": true,
       "volume": {
        "dtype": "float32",
        "shape": [
         0
        ]
       },
       "volume_bounds": {
        "dtype": "float32",
        "shape": [
         0
        ]
       },
       "wireframe": false
      }
     },
     "433d4becba184a418cc4a4a551821fda": {
      "buffers": [
       {
        "data": "",
        "encoding": "base64",
        "path": [
         "attribute",
         "data"
        ]
       },
       {
        "data": "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",
        "encoding": "base64",
        "path": [
         "color_map",
         "data"
        ]
       },
       {
        "data": "",
        "encoding": "base64",
        "path": [
         "colors",
         "data"
        ]
       },
       {
        "data": "AAAAAAIAAAABAAAAAQAAAAIAAAADAAAAAgAAAAQAAAADAAAAAwAAAAQAAAAFAAAABAAAAAYAAAAFAAAABQAAAAYAAAAHAAAABgAAAAgAAAAHAAAABwAAAAgAAAAJAAAACAAAAAoAAAAJAAAACQAAAAoAAAALAAAACgAAAAwAAAALAAAACwAAAAwAAAANAAAADAAAAA4AAAANAAAADQAAAA4AAAAPAAAADgAAAAAAAAAPAAAADwAAAAAAAAABAAAA",
        "encoding": "base64",
        "path": [
         "indices",
         "data"
        ]
       },
       {
        "data": "AACAPwAAAAAAAAAAAAAAAAAAAAAAAIA/AAAAAAAAAAAAAAAAAAAAAAAAgD8AAAAAAAAAAAAAAAAAAAAAAACAPw==",
        "encoding": "base64",
        "path": [
         "model_matrix",
         "data"
        ]
       },
       {
        "data": "",
        "encoding": "base64",
        "path": [
         "normals",
         "data"
        ]
       },
       {
        "data": "",
        "encoding": "base64",
        "path": [
         "opacity_function",
         "data"
        ]
       },
       {
        "data": "",
        "encoding": "base64",
        "path": [
         "triangles_attribute",
         "data"
        ]
       },
       {
        "data": "AADAfw==",
        "encoding": "base64",
        "path": [
         "uvs",
         "data"
        ]
       },
       {
        "data": "OVVPv0xo7z4AAODAOVVPv0xo7z4AAADBUNp3vvM/Zz8AAODAUNp3vvM/Zz8AAADBTGjvPjlVTz8AAODATGjvPjlVTz8AAADB8z9nP1Dadz4AAODA8z9nP1Dadz4AAADBOVVPP0xo774AAODAOVVPP0xo774AAADBUNp3PvM/Z78AAODAUNp3PvM/Z78AAADBTGjvvjlVT78AAODATGjvvjlVT78AAADB8z9nv1Dad74AAODA8z9nv1Dad74AAADB",
        "encoding": "base64",
        "path": [
         "vertices",
         "data"
        ]
       },
       {
        "data": "",
        "encoding": "base64",
        "path": [
         "volume",
         "data"
        ]
       },
       {
        "data": "",
        "encoding": "base64",
        "path": [
         "volume_bounds",
         "data"
        ]
       }
      ],
      "model_module": "k3d",
      "model_module_version": "2.16.1",
      "model_name": "ObjectModel",
      "state": {
       "_view_module": null,
       "_view_module_version": "",
       "_view_name": null,
       "attribute": {
        "dtype": "float32",
        "shape": [
         0
        ]
       },
       "click_callback": false,
       "color": 10420224,
       "colorLegend": false,
       "color_map": {
        "dtype": "float32",
        "shape": [
         1024
        ]
       },
       "color_range": [],
       "colors": {
        "dtype": "uint32",
        "shape": [
         0
        ]
       },
       "compression_level": 0,
       "custom_data": null,
       "flat_shading": true,
       "group": null,
       "hover_callback": false,
       "id": 6890949952,
       "indices": {
        "dtype": "uint32",
        "shape": [
         16,
         3
        ]
       },
       "model_matrix": {
        "dtype": "float32",
        "shape": [
         4,
         4
        ]
       },
       "name": "Mesh #16",
       "normals": {
        "dtype": "float32",
        "shape": [
         0
        ]
       },
       "opacity": 1,
       "opacity_function": {
        "dtype": "float32",
        "shape": [
         0
        ]
       },
       "side": "front",
       "texture": null,
       "texture_file_format": null,
       "triangles_attribute": {
        "dtype": "float32",
        "shape": [
         0
        ]
       },
       "type": "Mesh",
       "uvs": {
        "dtype": "float32",
        "shape": []
       },
       "vertices": {
        "dtype": "float32",
        "shape": [
         16,
         3
        ]
       },
       "visible": true,
       "volume": {
        "dtype": "float32",
        "shape": [
         0
        ]
       },
       "volume_bounds": {
        "dtype": "float32",
        "shape": [
         0
        ]
       },
       "wireframe": false
      }
     },
     "5478f0cd797446a1b349cc0b37369c14": {
      "buffers": [
       {
        "data": "",
        "encoding": "base64",
        "path": [
         "attribute",
         "data"
        ]
       },
       {
        "data": "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",
        "encoding": "base64",
        "path": [
         "color_map",
         "data"
        ]
       },
       {
        "data": "",
        "encoding": "base64",
        "path": [
         "colors",
         "data"
        ]
       },
       {
        "data": "AAAAAAIAAAABAAAAAQAAAAIAAAADAAAAAgAAAAQAAAADAAAAAwAAAAQAAAAFAAAABAAAAAYAAAAFAAAABQAAAAYAAAAHAAAABgAAAAgAAAAHAAAABwAAAAgAAAAJAAAACAAAAAoAAAAJAAAACQAAAAoAAAALAAAACgAAAAwAAAALAAAACwAAAAwAAAANAAAADAAAAA4AAAANAAAADQAAAA4AAAAPAAAADgAAAAAAAAAPAAAADwAAAAAAAAABAAAAEAAAABIAAAARAAAAEQAAABIAAAATAAAAEgAAABQAAAATAAAAEwAAABQAAAAVAAAAFAAAABYAAAAVAAAAFQAAABYAAAAXAAAAFgAAABgAAAAXAAAAFwAAABgAAAAZAAAAGAAAABoAAAAZAAAAGQAAABoAAAAbAAAAGgAAABwAAAAbAAAAGwAAABwAAAAdAAAAHAAAAB4AAAAdAAAAHQAAAB4AAAAfAAAAHgAAABAAAAAfAAAAHwAAABAAAAARAAAA",
        "encoding": "base64",
        "path": [
         "indices",
         "data"
        ]
       },
       {
        "data": "AACAPwAAAAAAAAAAAAAAAAAAAAAAAIA/AAAAAAAAAAAAAAAAAAAAAAAAgD8AAAAAAAAAAAAAAAAAAAAAAACAPw==",
        "encoding": "base64",
        "path": [
         "model_matrix",
         "data"
        ]
       },
       {
        "data": "",
        "encoding": "base64",
        "path": [
         "normals",
         "data"
        ]
       },
       {
        "data": "",
        "encoding": "base64",
        "path": [
         "opacity_function",
         "data"
        ]
       },
       {
        "data": "",
        "encoding": "base64",
        "path": [
         "triangles_attribute",
         "data"
        ]
       },
       {
        "data": "AADAfw==",
        "encoding": "base64",
        "path": [
         "uvs",
         "data"
        ]
       },
       {
        "data": "hfbSvgSzNj8AAJjBhfbSvgSzNj8AAKDBqmdaPkvGSz8AAJjBqmdaPkvGSz8AAKDBBLM2P4X20j4AAJjBBLM2P4X20j4AAKDBS8ZLP6pnWr4AAJjBS8ZLP6pnWr4AAKDBhfbSPgSzNr8AAJjBhfbSPgSzNr8AAKDBqmdavkvGS78AAJjBqmdavkvGS78AAKDBBLM2v4X20r4AAJjBBLM2v4X20r4AAKDBSsZLv6pnWj4AAJjBSsZLv6pnWj4AAKDBcWxNPwzjEL4AAKDBcWxNPwzjEL4AAKjBoEnvPnreKr8AAKDBoEnvPnreKr8AAKjBC+MQvnFsTb8AAKDBC+MQvnFsTb8AAKjBet4qv6BJ774AAKDBet4qv6BJ774AAKjBcWxNvwzjED4AAKDBcWxNvwzjED4AAKjBoEnvvnreKj8AAKDBoEnvvnreKj8AAKjBDOMQPnFsTT8AAKDBDOMQPnFsTT8AAKjBet4qP6BJ7z4AAKDBet4qP6BJ7z4AAKjB",
        "encoding": "base64",
        "path": [
         "vertices",
         "data"
        ]
       },
       {
        "data": "",
        "encoding": "base64",
        "path": [
         "volume",
         "data"
        ]
       },
       {
        "data": "",
        "encoding": "base64",
        "path": [
         "volume_bounds",
         "data"
        ]
       }
      ],
      "model_module": "k3d",
      "model_module_version": "2.16.1",
      "model_name": "ObjectModel",
      "state": {
       "_view_module": null,
       "_view_module_version": "",
       "_view_name": null,
       "attribute": {
        "dtype": "float32",
        "shape": [
         0
        ]
       },
       "click_callback": false,
       "color": 13107200,
       "colorLegend": false,
       "color_map": {
        "dtype": "float32",
        "shape": [
         1024
        ]
       },
       "color_range": [],
       "colors": {
        "dtype": "uint32",
        "shape": [
         0
        ]
       },
       "compression_level": 0,
       "custom_data": null,
       "flat_shading": true,
       "group": null,
       "hover_callback": false,
       "id": 6891149680,
       "indices": {
        "dtype": "uint32",
        "shape": [
         32,
         3
        ]
       },
       "model_matrix": {
        "dtype": "float32",
        "shape": [
         4,
         4
        ]
       },
       "name": "Mesh #29",
       "normals": {
        "dtype": "float32",
        "shape": [
         0
        ]
       },
       "opacity": 1,
       "opacity_function": {
        "dtype": "float32",
        "shape": [
         0
        ]
       },
       "side": "front",
       "texture": null,
       "texture_file_format": null,
       "triangles_attribute": {
        "dtype": "float32",
        "shape": [
         0
        ]
       },
       "type": "Mesh",
       "uvs": {
        "dtype": "float32",
        "shape": []
       },
       "vertices": {
        "dtype": "float32",
        "shape": [
         32,
         3
        ]
       },
       "visible": true,
       "volume": {
        "dtype": "float32",
        "shape": [
         0
        ]
       },
       "volume_bounds": {
        "dtype": "float32",
        "shape": [
         0
        ]
       },
       "wireframe": false
      }
     },
     "57cc5f7b2bb948d3bb397f051cf50ef1": {
      "buffers": [
       {
        "data": "",
        "encoding": "base64",
        "path": [
         "attribute",
         "data"
        ]
       },
       {
        "data": "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",
        "encoding": "base64",
        "path": [
         "color_map",
         "data"
        ]
       },
       {
        "data": "",
        "encoding": "base64",
        "path": [
         "colors",
         "data"
        ]
       },
       {
        "data": "AAAAAAIAAAABAAAAAQAAAAIAAAADAAAAAgAAAAQAAAADAAAAAwAAAAQAAAAFAAAABAAAAAYAAAAFAAAABQAAAAYAAAAHAAAABgAAAAgAAAAHAAAABwAAAAgAAAAJAAAACAAAAAoAAAAJAAAACQAAAAoAAAALAAAACgAAAAwAAAALAAAACwAAAAwAAAANAAAADAAAAA4AAAANAAAADQAAAA4AAAAPAAAADgAAAAAAAAAPAAAADwAAAAAAAAABAAAA",
        "encoding": "base64",
        "path": [
         "indices",
         "data"
        ]
       },
       {
        "data": "AACAPwAAAAAAAAAAAAAAAAAAAAAAAIA/AAAAAAAAAAAAAAAAAAAAAAAAgD8AAAAAAAAAAAAAAAAAAAAAAACAPw==",
        "encoding": "base64",
        "path": [
         "model_matrix",
         "data"
        ]
       },
       {
        "data": "",
        "encoding": "base64",
        "path": [
         "normals",
         "data"
        ]
       },
       {
        "data": "",
        "encoding": "base64",
        "path": [
         "opacity_function",
         "data"
        ]
       },
       {
        "data": "",
        "encoding": "base64",
        "path": [
         "triangles_attribute",
         "data"
        ]
       },
       {
        "data": "AADAfw==",
        "encoding": "base64",
        "path": [
         "uvs",
         "data"
        ]
       },
       {
        "data": "5e8nPskabr8AAMDA5e8nPskabr8AAODAlK0Kv4INRr8AAMDAlK0Kv4INRr8AAODAyRpuv+XvJ74AAMDAyRpuv+XvJ74AAODAgg1Gv5StCj8AAMDAgg1Gv5StCj8AAODA5e8nvskabj8AAMDA5e8nvskabj8AAODAlK0KP4INRj8AAMDAlK0KP4INRj8AAODAyRpuP+XvJz4AAMDAyRpuP+XvJz4AAODAgg1GP5StCr8AAMDAgg1GP5StCr8AAODA",
        "encoding": "base64",
        "path": [
         "vertices",
         "data"
        ]
       },
       {
        "data": "",
        "encoding": "base64",
        "path": [
         "volume",
         "data"
        ]
       },
       {
        "data": "",
        "encoding": "base64",
        "path": [
         "volume_bounds",
         "data"
        ]
       }
      ],
      "model_module": "k3d",
      "model_module_version": "2.16.1",
      "model_name": "ObjectModel",
      "state": {
       "_view_module": null,
       "_view_module_version": "",
       "_view_name": null,
       "attribute": {
        "dtype": "float32",
        "shape": [
         0
        ]
       },
       "click_callback": false,
       "color": 10092544,
       "colorLegend": false,
       "color_map": {
        "dtype": "float32",
        "shape": [
         1024
        ]
       },
       "color_range": [],
       "colors": {
        "dtype": "uint32",
        "shape": [
         0
        ]
       },
       "compression_level": 0,
       "custom_data": null,
       "flat_shading": true,
       "group": null,
       "hover_callback": false,
       "id": 6890951632,
       "indices": {
        "dtype": "uint32",
        "shape": [
         16,
         3
        ]
       },
       "model_matrix": {
        "dtype": "float32",
        "shape": [
         4,
         4
        ]
       },
       "name": "Mesh #15",
       "normals": {
        "dtype": "float32",
        "shape": [
         0
        ]
       },
       "opacity": 1,
       "opacity_function": {
        "dtype": "float32",
        "shape": [
         0
        ]
       },
       "side": "front",
       "texture": null,
       "texture_file_format": null,
       "triangles_attribute": {
        "dtype": "float32",
        "shape": [
         0
        ]
       },
       "type": "Mesh",
       "uvs": {
        "dtype": "float32",
        "shape": []
       },
       "vertices": {
        "dtype": "float32",
        "shape": [
         16,
         3
        ]
       },
       "visible": true,
       "volume": {
        "dtype": "float32",
        "shape": [
         0
        ]
       },
       "volume_bounds": {
        "dtype": "float32",
        "shape": [
         0
        ]
       },
       "wireframe": false
      }
     },
     "5d570c8072434e2fbe79c599d0eb02a2": {
      "buffers": [
       {
        "data": "",
        "encoding": "base64",
        "path": [
         "attribute",
         "data"
        ]
       },
       {
        "data": "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",
        "encoding": "base64",
        "path": [
         "color_map",
         "data"
        ]
       },
       {
        "data": "",
        "encoding": "base64",
        "path": [
         "colors",
         "data"
        ]
       },
       {
        "data": "AAAAAAIAAAABAAAAAQAAAAIAAAADAAAAAgAAAAQAAAADAAAAAwAAAAQAAAAFAAAABAAAAAYAAAAFAAAABQAAAAYAAAAHAAAABgAAAAgAAAAHAAAABwAAAAgAAAAJAAAACAAAAAoAAAAJAAAACQAAAAoAAAALAAAACgAAAAwAAAALAAAACwAAAAwAAAANAAAADAAAAA4AAAANAAAADQAAAA4AAAAPAAAADgAAAAAAAAAPAAAADwAAAAAAAAABAAAAEAAAABIAAAARAAAAEQAAABIAAAATAAAAEgAAABQAAAATAAAAEwAAABQAAAAVAAAAFAAAABYAAAAVAAAAFQAAABYAAAAXAAAAFgAAABgAAAAXAAAAFwAAABgAAAAZAAAAGAAAABoAAAAZAAAAGQAAABoAAAAbAAAAGgAAABwAAAAbAAAAGwAAABwAAAAdAAAAHAAAAB4AAAAdAAAAHQAAAB4AAAAfAAAAHgAAABAAAAAfAAAAHwAAABAAAAARAAAA",
        "encoding": "base64",
        "path": [
         "indices",
         "data"
        ]
       },
       {
        "data": "AACAPwAAAAAAAAAAAAAAAAAAAAAAAIA/AAAAAAAAAAAAAAAAAAAAAAAAgD8AAAAAAAAAAAAAAAAAAAAAAACAPw==",
        "encoding": "base64",
        "path": [
         "model_matrix",
         "data"
        ]
       },
       {
        "data": "",
        "encoding": "base64",
        "path": [
         "normals",
         "data"
        ]
       },
       {
        "data": "",
        "encoding": "base64",
        "path": [
         "opacity_function",
         "data"
        ]
       },
       {
        "data": "",
        "encoding": "base64",
        "path": [
         "triangles_attribute",
         "data"
        ]
       },
       {
        "data": "AADAfw==",
        "encoding": "base64",
        "path": [
         "uvs",
         "data"
        ]
       },
       {
        "data": "HUEGMCa0Fz8AADDCWg8JMCa0Fz8AADTCnIrWPpuK1j4AADDCnIrWPpuK1j4AADTCJrQXP9k0Oq4AADDCJrQXP9k0Oq4AADTCnIrWPpyK1r4AADDCnIrWPpyK1r4AADTCA/XdLya0F78AADDCfpHjLya0F78AADTCm4rWvpuK1r4AADDCm4rWvpuK1r4AADTCJrQXv9fOVC4AADDCJrQXv9fOVC4AADTCm4rWvpyK1j4AADDCm4rWvpyK1j4AADTCIOQIMFVVFT8AADTCXrILMFVVFT8AADjCcTDTPnEw0z4AADTCcTDTPnEw0z4AADjCVVUVPwZMN64AADTCVVUVPwZMN64AADjCcTDTPnEw074AADTCcTDTPnEw074AADjCP/XjL1VVFb8AADTCu5HpL1VVFb8AADjCcTDTvnEw074AADTCcTDTvnEw074AADjCVVUVv5x7US4AADTCVVUVv5x7US4AADjCcTDTvnEw0z4AADTCcTDTvnEw0z4AADjC",
        "encoding": "base64",
        "path": [
         "vertices",
         "data"
        ]
       },
       {
        "data": "",
        "encoding": "base64",
        "path": [
         "volume",
         "data"
        ]
       },
       {
        "data": "",
        "encoding": "base64",
        "path": [
         "volume_bounds",
         "data"
        ]
       }
      ],
      "model_module": "k3d",
      "model_module_version": "2.16.1",
      "model_name": "ObjectModel",
      "state": {
       "_view_module": null,
       "_view_module_version": "",
       "_view_name": null,
       "attribute": {
        "dtype": "float32",
        "shape": [
         0
        ]
       },
       "click_callback": false,
       "color": 16717312,
       "colorLegend": false,
       "color_map": {
        "dtype": "float32",
        "shape": [
         1024
        ]
       },
       "color_range": [],
       "colors": {
        "dtype": "uint32",
        "shape": [
         0
        ]
       },
       "compression_level": 0,
       "custom_data": null,
       "flat_shading": true,
       "group": null,
       "hover_callback": false,
       "id": 6890775392,
       "indices": {
        "dtype": "uint32",
        "shape": [
         32,
         3
        ]
       },
       "model_matrix": {
        "dtype": "float32",
        "shape": [
         4,
         4
        ]
       },
       "name": "Mesh #43",
       "normals": {
        "dtype": "float32",
        "shape": [
         0
        ]
       },
       "opacity": 1,
       "opacity_function": {
        "dtype": "float32",
        "shape": [
         0
        ]
       },
       "side": "front",
       "texture": null,
       "texture_file_format": null,
       "triangles_attribute": {
        "dtype": "float32",
        "shape": [
         0
        ]
       },
       "type": "Mesh",
       "uvs": {
        "dtype": "float32",
        "shape": []
       },
       "vertices": {
        "dtype": "float32",
        "shape": [
         32,
         3
        ]
       },
       "visible": true,
       "volume": {
        "dtype": "float32",
        "shape": [
         0
        ]
       },
       "volume_bounds": {
        "dtype": "float32",
        "shape": [
         0
        ]
       },
       "wireframe": false
      }
     },
     "629e668497f94f0288719185ded5acdd": {
      "buffers": [
       {
        "data": "",
        "encoding": "base64",
        "path": [
         "attribute",
         "data"
        ]
       },
       {
        "data": "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",
        "encoding": "base64",
        "path": [
         "color_map",
         "data"
        ]
       },
       {
        "data": "",
        "encoding": "base64",
        "path": [
         "colors",
         "data"
        ]
       },
       {
        "data": "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",
        "encoding": "base64",
        "path": [
         "indices",
         "data"
        ]
       },
       {
        "data": "AACAPwAAAAAAAAAAAAAAAAAAAAAAAIA/AAAAAAAAAAAAAAAAAAAAAAAAgD8AAAAAAAAAAAAAAAAAAAAAAACAPw==",
        "encoding": "base64",
        "path": [
         "model_matrix",
         "data"
        ]
       },
       {
        "data": "",
        "encoding": "base64",
        "path": [
         "normals",
         "data"
        ]
       },
       {
        "data": "",
        "encoding": "base64",
        "path": [
         "opacity_function",
         "data"
        ]
       },
       {
        "data": "",
        "encoding": "base64",
        "path": [
         "triangles_attribute",
         "data"
        ]
       },
       {
        "data": "AADAfw==",
        "encoding": "base64",
        "path": [
         "uvs",
         "data"
        ]
       },
       {
        "data": "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",
        "encoding": "base64",
        "path": [
         "vertices",
         "data"
        ]
       },
       {
        "data": "",
        "encoding": "base64",
        "path": [
         "volume",
         "data"
        ]
       },
       {
        "data": "",
        "encoding": "base64",
        "path": [
         "volume_bounds",
         "data"
        ]
       }
      ],
      "model_module": "k3d",
      "model_module_version": "2.16.1",
      "model_name": "ObjectModel",
      "state": {
       "_view_module": null,
       "_view_module_version": "",
       "_view_name": null,
       "attribute": {
        "dtype": "float32",
        "shape": [
         0
        ]
       },
       "click_callback": false,
       "color": 163,
       "colorLegend": false,
       "color_map": {
        "dtype": "float32",
        "shape": [
         1024
        ]
       },
       "color_range": [],
       "colors": {
        "dtype": "uint32",
        "shape": [
         0
        ]
       },
       "compression_level": 0,
       "custom_data": null,
       "flat_shading": true,
       "group": null,
       "hover_callback": false,
       "id": 6887354784,
       "indices": {
        "dtype": "uint32",
        "shape": [
         256,
         3
        ]
       },
       "model_matrix": {
        "dtype": "float32",
        "shape": [
         4,
         4
        ]
       },
       "name": "Mesh #10",
       "normals": {
        "dtype": "float32",
        "shape": [
         0
        ]
       },
       "opacity": 1,
       "opacity_function": {
        "dtype": "float32",
        "shape": [
         0
        ]
       },
       "side": "front",
       "texture": null,
       "texture_file_format": null,
       "triangles_attribute": {
        "dtype": "float32",
        "shape": [
         0
        ]
       },
       "type": "Mesh",
       "uvs": {
        "dtype": "float32",
        "shape": []
       },
       "vertices": {
        "dtype": "float32",
        "shape": [
         256,
         3
        ]
       },
       "visible": true,
       "volume": {
        "dtype": "float32",
        "shape": [
         0
        ]
       },
       "volume_bounds": {
        "dtype": "float32",
        "shape": [
         0
        ]
       },
       "wireframe": false
      }
     },
     "6640f38234fd48c8842d41673dfc673a": {
      "buffers": [
       {
        "data": "",
        "encoding": "base64",
        "path": [
         "attribute",
         "data"
        ]
       },
       {
        "data": "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",
        "encoding": "base64",
        "path": [
         "color_map",
         "data"
        ]
       },
       {
        "data": "",
        "encoding": "base64",
        "path": [
         "colors",
         "data"
        ]
       },
       {
        "data": "AAAAAAIAAAABAAAAAQAAAAIAAAADAAAAAgAAAAQAAAADAAAAAwAAAAQAAAAFAAAABAAAAAYAAAAFAAAABQAAAAYAAAAHAAAABgAAAAgAAAAHAAAABwAAAAgAAAAJAAAACAAAAAoAAAAJAAAACQAAAAoAAAALAAAACgAAAAwAAAALAAAACwAAAAwAAAANAAAADAAAAA4AAAANAAAADQAAAA4AAAAPAAAADgAAAAAAAAAPAAAADwAAAAAAAAABAAAAEAAAABIAAAARAAAAEQAAABIAAAATAAAAEgAAABQAAAATAAAAEwAAABQAAAAVAAAAFAAAABYAAAAVAAAAFQAAABYAAAAXAAAAFgAAABgAAAAXAAAAFwAAABgAAAAZAAAAGAAAABoAAAAZAAAAGQAAABoAAAAbAAAAGgAAABwAAAAbAAAAGwAAABwAAAAdAAAAHAAAAB4AAAAdAAAAHQAAAB4AAAAfAAAAHgAAABAAAAAfAAAAHwAAABAAAAARAAAA",
        "encoding": "base64",
        "path": [
         "indices",
         "data"
        ]
       },
       {
        "data": "AACAPwAAAAAAAAAAAAAAAAAAAAAAAIA/AAAAAAAAAAAAAAAAAAAAAAAAgD8AAAAAAAAAAAAAAAAAAAAAAACAPw==",
        "encoding": "base64",
        "path": [
         "model_matrix",
         "data"
        ]
       },
       {
        "data": "",
        "encoding": "base64",
        "path": [
         "normals",
         "data"
        ]
       },
       {
        "data": "",
        "encoding": "base64",
        "path": [
         "opacity_function",
         "data"
        ]
       },
       {
        "data": "",
        "encoding": "base64",
        "path": [
         "triangles_attribute",
         "data"
        ]
       },
       {
        "data": "AADAfw==",
        "encoding": "base64",
        "path": [
         "uvs",
         "data"
        ]
       },
       {
        "data": "2RZLP449D74AAKjB2RZLP449D74AALDBhJHsPmftKL8AAKjBhJHsPmftKL8AALDBjj0PvtkWS78AAKjBjj0PvtkWS78AALDBZ+0ov4SR7L4AAKjBZ+0ov4SR7L4AALDB2RZLv449Dz4AAKjB2RZLv449Dz4AALDBhJHsvmftKD8AAKjBhJHsvmftKD8AALDBjj0PPtkWSz8AAKjBjj0PPtkWSz8AALDBZ+0oP4SR7D4AAKjBZ+0oP4SR7D4AALDB2igcv5AIA78AALDB2igcv5AIA78AALjBfhNLv4cijj0AALDBfhNLv4cijj0AALjBkAgDv9ooHD8AALDBkAgDv9ooHD8AALjBhyKOPX4TSz8AALDBhyKOPX4TSz8AALjB2igcP5AIAz8AALDB2igcP5AIAz8AALjBfhNLP4cijr0AALDBfhNLP4cijr0AALjBkAgDP9ooHL8AALDBkAgDP9ooHL8AALjBhyKOvX4TS78AALDBhyKOvX4TS78AALjB",
        "encoding": "base64",
        "path": [
         "vertices",
         "data"
        ]
       },
       {
        "data": "",
        "encoding": "base64",
        "path": [
         "volume",
         "data"
        ]
       },
       {
        "data": "",
        "encoding": "base64",
        "path": [
         "volume_bounds",
         "data"
        ]
       }
      ],
      "model_module": "k3d",
      "model_module_version": "2.16.1",
      "model_name": "ObjectModel",
      "state": {
       "_view_module": null,
       "_view_module_version": "",
       "_view_name": null,
       "attribute": {
        "dtype": "float32",
        "shape": [
         0
        ]
       },
       "click_callback": false,
       "color": 13369344,
       "colorLegend": false,
       "color_map": {
        "dtype": "float32",
        "shape": [
         1024
        ]
       },
       "color_range": [],
       "colors": {
        "dtype": "uint32",
        "shape": [
         0
        ]
       },
       "compression_level": 0,
       "custom_data": null,
       "flat_shading": true,
       "group": null,
       "hover_callback": false,
       "id": 6890958352,
       "indices": {
        "dtype": "uint32",
        "shape": [
         32,
         3
        ]
       },
       "model_matrix": {
        "dtype": "float32",
        "shape": [
         4,
         4
        ]
       },
       "name": "Mesh #30",
       "normals": {
        "dtype": "float32",
        "shape": [
         0
        ]
       },
       "opacity": 1,
       "opacity_function": {
        "dtype": "float32",
        "shape": [
         0
        ]
       },
       "side": "front",
       "texture": null,
       "texture_file_format": null,
       "triangles_attribute": {
        "dtype": "float32",
        "shape": [
         0
        ]
       },
       "type": "Mesh",
       "uvs": {
        "dtype": "float32",
        "shape": []
       },
       "vertices": {
        "dtype": "float32",
        "shape": [
         32,
         3
        ]
       },
       "visible": true,
       "volume": {
        "dtype": "float32",
        "shape": [
         0
        ]
       },
       "volume_bounds": {
        "dtype": "float32",
        "shape": [
         0
        ]
       },
       "wireframe": false
      }
     },
     "66ab87a465dd4028b2c68ed4517eb50c": {
      "buffers": [
       {
        "data": "",
        "encoding": "base64",
        "path": [
         "attribute",
         "data"
        ]
       },
       {
        "data": "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",
        "encoding": "base64",
        "path": [
         "color_map",
         "data"
        ]
       },
       {
        "data": "",
        "encoding": "base64",
        "path": [
         "colors",
         "data"
        ]
       },
       {
        "data": "AAAAAAIAAAABAAAAAQAAAAIAAAADAAAAAgAAAAQAAAADAAAAAwAAAAQAAAAFAAAABAAAAAYAAAAFAAAABQAAAAYAAAAHAAAABgAAAAgAAAAHAAAABwAAAAgAAAAJAAAACAAAAAoAAAAJAAAACQAAAAoAAAALAAAACgAAAAwAAAALAAAACwAAAAwAAAANAAAADAAAAA4AAAANAAAADQAAAA4AAAAPAAAADgAAAAAAAAAPAAAADwAAAAAAAAABAAAAEAAAABIAAAARAAAAEQAAABIAAAATAAAAEgAAABQAAAATAAAAEwAAABQAAAAVAAAAFAAAABYAAAAVAAAAFQAAABYAAAAXAAAAFgAAABgAAAAXAAAAFwAAABgAAAAZAAAAGAAAABoAAAAZAAAAGQAAABoAAAAbAAAAGgAAABwAAAAbAAAAGwAAABwAAAAdAAAAHAAAAB4AAAAdAAAAHQAAAB4AAAAfAAAAHgAAABAAAAAfAAAAHwAAABAAAAARAAAAIAAAACIAAAAhAAAAIQAAACIAAAAjAAAAIgAAACQAAAAjAAAAIwAAACQAAAAlAAAAJAAAACYAAAAlAAAAJQAAACYAAAAnAAAAJgAAACgAAAAnAAAAJwAAACgAAAApAAAAKAAAACoAAAApAAAAKQAAACoAAAArAAAAKgAAACwAAAArAAAAKwAAACwAAAAtAAAALAAAAC4AAAAtAAAALQAAAC4AAAAvAAAALgAAACAAAAAvAAAALwAAACAAAAAhAAAAMAAAADIAAAAxAAAAMQAAADIAAAAzAAAAMgAAADQAAAAzAAAAMwAAADQAAAA1AAAANAAAADYAAAA1AAAANQAAADYAAAA3AAAANgAAADgAAAA3AAAANwAAADgAAAA5AAAAOAAAADoAAAA5AAAAOQAAADoAAAA7AAAAOgAAADwAAAA7AAAAOwAAADwAAAA9AAAAPAAAAD4AAAA9AAAAPQAAAD4AAAA/AAAAPgAAADAAAAA/AAAAPwAAADAAAAAxAAAAQAAAAEIAAABBAAAAQQAAAEIAAABDAAAAQgAAAEQAAABDAAAAQwAAAEQAAABFAAAARAAAAEYAAABFAAAARQAAAEYAAABHAAAARgAAAEgAAABHAAAARwAAAEgAAABJAAAASAAAAEoAAABJAAAASQAAAEoAAABLAAAASgAAAEwAAABLAAAASwAAAEwAAABNAAAATAAAAE4AAABNAAAATQAAAE4AAABPAAAATgAAAEAAAABPAAAATwAAAEAAAABBAAAAUAAAAFIAAABRAAAAUQAAAFIAAABTAAAAUgAAAFQAAABTAAAAUwAAAFQAAABVAAAAVAAAAFYAAABVAAAAVQAAAFYAAABXAAAAVgAAAFgAAABXAAAAVwAAAFgAAABZAAAAWAAAAFoAAABZAAAAWQAAAFoAAABbAAAAWgAAAFwAAABbAAAAWwAAAFwAAABdAAAAXAAAAF4AAABdAAAAXQAAAF4AAABfAAAAXgAAAFAAAABfAAAAXwAAAFAAAABRAAAAYAAAAGIAAABhAAAAYQAAAGIAAABjAAAAYgAAAGQAAABjAAAAYwAAAGQAAABlAAAAZAAAAGYAAABlAAAAZQAAAGYAAABnAAAAZgAAAGgAAABnAAAAZwAAAGgAAABpAAAAaAAAAGoAAABpAAAAaQAAAGoAAABrAAAAagAAAGwAAABrAAAAawAAAGwAAABtAAAAbAAAAG4AAABtAAAAbQAAAG4AAABvAAAAbgAAAGAAAABvAAAAbwAAAGAAAABhAAAA",
        "encoding": "base64",
        "path": [
         "indices",
         "data"
        ]
       },
       {
        "data": "AACAPwAAAAAAAAAAAAAAAAAAAAAAAIA/AAAAAAAAAAAAAAAAAAAAAAAAgD8AAAAAAAAAAAAAAAAAAAAAAACAPw==",
        "encoding": "base64",
        "path": [
         "model_matrix",
         "data"
        ]
       },
       {
        "data": "",
        "encoding": "base64",
        "path": [
         "normals",
         "data"
        ]
       },
       {
        "data": "",
        "encoding": "base64",
        "path": [
         "opacity_function",
         "data"
        ]
       },
       {
        "data": "",
        "encoding": "base64",
        "path": [
         "triangles_attribute",
         "data"
        ]
       },
       {
        "data": "AADAfw==",
        "encoding": "base64",
        "path": [
         "uvs",
         "data"
        ]
       },
       {
        "data": "C4YSv7ueLr8RBL7At3CDv/uknL+vpNTA3RmKvqdykb9QG7nAUmg5v0TI1r/uu8/ABOauvlmdx789Qa3AZc5Lv3t5BsDb4cPALfE+v4kU2r8qZ6HASKaZvxO1D8DIB7jAwXOfvxcHvr9pfpzAc6HZv1quAcAHH7PAUDDGv87jg78qZ6HAAS8AwGs5yb/IB7jARv28vzZyG789Qa3A+Cr3v7gOk7/b4cPAMT6Jv60H7b5QG7nA4mvDv4iXgL/uu8/An/qDv1RJnb8Nb9TAUSi+v/Ge4r+rD+vAC3Q7v5Ky1r8Bls/At+eXvxgEDsCgNubAPp9Nv/gXBsDb4cPAUf2gv8bCKMB6gtrAHumZvwQ2D8C1LbjA0BbUv9PgMcBUzs7AixfZvy1cAcCqVLPAn6IJwPwGJMBI9cnAJVj/vxxPyb+1LbjA68IcwF1SB8BUzs7Ai0L2v7/Rk7/b4cPAHjgYwFwn2b96gtrADCnDv6aVgb8Bls/Avlb9v0Prxr+gNubAOLK+v0pD478I2urA6t/4v3RMFMBTvQDBlO2Yvz/5DcCyEObARRvTvw6kMMBRsfzAveWhv0NhKMB6gtrAbxPcvxIMS8AYI/HApVnUv8RhMcBB9M7ArEMHwJIMVMDflOXAq10JwM+0I8DrKsrAhHQmwJ5fRsCJy+DA/T8cwDVdB8BB9M7A1lY5wAQIKsDflOXA6MMXwGPq2b96gtrAwdo0wACgD8AYI/HA6BP9v2Hpx7+yEObAzaAbwH+fBsBRsfzA0mn5v6CeFMCCogDBwssZwG9JN8DR8gvBIiHUvzWZMMBki/zAaicHwANEU8ABlgnB2/vcv46qSsAYI/HAx5QLwF1VbcDb4QPBFmUHwISNU8DMuuXA73skwFI4dsBrW/zAkC8mwHENRsAsAeHAaUZDwEC4aMDKoffA6NM4wN0SKsDMuuXAwOpVwKu9TMBrW/zAi2Y0wIMBEMAYI/HAZH1RwFKsMsDb4QPBYn8bwI4eB8Bki/zAO5Y4wFzJKcABlgnBraGuPZ+Y976ntq/A/qwZvXfiWT5FV8bAs7nYvh282r5yHKvA38sLv73NiT4QvcHAshMvv1/39r0AAKDAt4JOvwFmEz+eoLbAxTsLv0drgz6O45TAy6oqv5H6cz8thKvAraGuvZ+Y9z5ZSZDA7AxVvp4Ilz/46abAs7nYPh282j6O45TAqNuZPn7Rjz8thKvAshMvP1/39j0AAKDArKQPP9kjUT+eoLbAxTsLP0drg75yHKvAgJnXPpQe4T4QvcHAJVUevbl8YD6jIcbAX1Elvhxkaj9BwtzA/lkKv1u4jD4jl8HABMkpvxuheD/CN9jAHy1Mv2HPEz+eoLbAJJxrvycKoz89Qc3Ai88ov0cacz8aqqvAkD5Iv5qv0j+4SsLA4+JTvlY1lj+aH6fAfM+ovs1X7z85wL3A5veWPtcWjz8aqqvAtzMwPk056D+4SsLAFE8NP3q6UD+eoLbAHcDbPrR/wT89Qc3AAOPTPijf4j4jl8HA9QSVPkHakT/CN9jAaXsmvqwKbD+ejNzAwBuSvs0nzz89LfPAI1cov2kWej/VEdjAKMZHv6st1j9zsu7AjEZpv9c+oz89Qc3AyVqEv01h/D/b4ePAUGNGv3U/0j+lcMLAVtJlv/awFUBDEdnAeDqovoWE7j/b9b3Agxjnvn7TI0B6ltTANGwqPqZ+5z+lcMLAd8AyPY5QIEBDEdnA7BTXPgRLwT89Qc3A4TaYPr02DUDb4ePAdE6RPmVKkj/VEdjA0+AkPtxs6z9zsu7A",
        "encoding": "base64",
        "path": [
         "vertices",
         "data"
        ]
       },
       {
        "data": "",
        "encoding": "base64",
        "path": [
         "volume",
         "data"
        ]
       },
       {
        "data": "",
        "encoding": "base64",
        "path": [
         "volume_bounds",
         "data"
        ]
       }
      ],
      "model_module": "k3d",
      "model_module_version": "2.16.1",
      "model_name": "ObjectModel",
      "state": {
       "_view_module": null,
       "_view_module_version": "",
       "_view_name": null,
       "attribute": {
        "dtype": "float32",
        "shape": [
         0
        ]
       },
       "click_callback": false,
       "color": 182,
       "colorLegend": false,
       "color_map": {
        "dtype": "float32",
        "shape": [
         1024
        ]
       },
       "color_range": [],
       "colors": {
        "dtype": "uint32",
        "shape": [
         0
        ]
       },
       "compression_level": 0,
       "custom_data": null,
       "flat_shading": true,
       "group": null,
       "hover_callback": false,
       "id": 6890962432,
       "indices": {
        "dtype": "uint32",
        "shape": [
         112,
         3
        ]
       },
       "model_matrix": {
        "dtype": "float32",
        "shape": [
         4,
         4
        ]
       },
       "name": "Mesh #6",
       "normals": {
        "dtype": "float32",
        "shape": [
         0
        ]
       },
       "opacity": 1,
       "opacity_function": {
        "dtype": "float32",
        "shape": [
         0
        ]
       },
       "side": "front",
       "texture": null,
       "texture_file_format": null,
       "triangles_attribute": {
        "dtype": "float32",
        "shape": [
         0
        ]
       },
       "type": "Mesh",
       "uvs": {
        "dtype": "float32",
        "shape": []
       },
       "vertices": {
        "dtype": "float32",
        "shape": [
         112,
         3
        ]
       },
       "visible": true,
       "volume": {
        "dtype": "float32",
        "shape": [
         0
        ]
       },
       "volume_bounds": {
        "dtype": "float32",
        "shape": [
         0
        ]
       },
       "wireframe": false
      }
     },
     "69996c54b0aa49f79eec93202059c8e6": {
      "buffers": [
       {
        "data": "",
        "encoding": "base64",
        "path": [
         "attribute",
         "data"
        ]
       },
       {
        "data": "AAAAAKabxDpvEgM607xjPCSXfzuZuxY7w2SqOgdfmDwkl/870ERYO+AtEDsUP8Y8ylRBPLx0kzuJ0l47/yH9PEmdgDymm8Q7dQKaOwkbHj0ukKA8SFD8O4LixztbsT89EoPAPFJJHTxIUPw7irBhPa5H4TxbsT88dQIaPEoMgj1JnQA9QmBlPDSANzxPQJM9vJYQPbn8hzxioVY8VHSkPS6QID3A7J48/mV3PMbctT2giTA9NIC3PATnjDw5Rcc97utAPYZa0zwJG548GeLYPWDlUD1F2PA8xSCwPGiz6j3T3mA9cM4IPYEmwjwkufw9RdhwPVFrGj09LNQ8cF8HPtxogD3EQi09+THmPIV8ED4Cmog9NxpAPbU3+DwHzhk+vJaQPYZaUz24HgU9ih8jPnWTmD2wA2c9u7gNPQ1xLD4ukKA9tRV7PeLpFT3G3DU+VcGoPUvIhz0tsh097nw/Pg6+sD0qOpI9nRElPRUdST7Hurg9duCcPVafKz08vVI+gLfAPZ7vpz1XWzE9mndcPjm0yD3F/rI9fa42PfkxZj5g5dA9yXa+PRHHOj2OBnA+GeLYPTojyj3tDT497MB5PtPe4D2GONY9EoNAPaW9gT6M2+g9003iPYEmQj3UmoY+RdjwPWkA7z04+EI96GqLPmwJ+T3/svs9XI9CPeAtkD4SgwA+OGcEPqW9QT2945Q+b4EEPigPCz43GkA9Y3+ZPsx/CD5O0RE+Njw9PdIAnj5fmAw+rK0YPjVeOj3uWqI+vJYQPgmKHz59rjY9uY2mPhiVFD7UmiY+6pUyPUymqj51kxg+n6stPnsULj1yiq4+0ZEcPmq8ND4Mkyk9KjqyPmWqID42zTs+nRElPY/CtT7BqCQ+OPhCPgn5ID1sCbk+HqcoPgMJSj5SSR099ii8PnqlLD7OGVE+dQIaPRIUvz7XozA+mSpYPlCNFz3c18E+arw0Pi0hXz7i6RU9HVrEPse6OD75MWY+KxgVPQu1xj4kuTw+Vg5tPisYFT2n6Mg+gLdAPuoEdD7i6RU98fTKPhTQRD5I4Xo+K/YXPc3MzD5wzkg+t9GAPlFrGj1yis4+zcxMPsoyhD4JGx49xSDQPinLUD7ek4c+nDMiPcWP0T6GyVQ+1eeKPsKGJz2q8dI+GeJYPs07jj6fqy09PSzUPnbgXD7Fj5E+fdAzPZhM1T7T3mA+veOUPhHHOj29UtY+L91kPpkqmD5cj0I9x0vXPsP1aD52cZs+qFdKPZkq2D4f9Gw+NquePs6IUj0179g+fPJwPhPyoT7RIls9tabZPtjwdD7UK6U+07xjPRpR2j4173g+lWWoPrG/bD1I4do+yAd9Plafqz5rK3Y9WmTbPhKDgD4X2a4+SS5/PVHa2z5BgoI+1xKyPgFNhD0tQ9w+b4GEPn0/tT7eAok97Z7cPp2Ahj4+ebg+u7iNPZHt3D7njIg+46W7PgWjkj0bL90+FYyKPqTfvj7iWJc9iGPdPkSLjD5KDMI+LUOcPduK3T5yio4+7zjFPgn5oD0tst0+vJaQPrByyD7mrqU9SL/dPuqVkj5Wn8s+MZmqPWTM3T4YlZQ++8vOPg5Prz1kzN0+RpSWPqH40T7qBLQ9SL/dPnWTmD5GJdU+x7q4PRKl3T6+n5o+7FHYPqRwvT3bit0+7Z6cPqyL2z6BJsI9iGPdPhuenj5SuN4+XdzGPRsv3T5JnaA+9+ThPsxdyz2t+tw+eJyiPp0R5T6pE9A9JLncPsGopD5eS+g+GJXUPX9q3D7wp6Y+A3jrPvVK2T2/Dtw+HqeoPqmk7j5kzN09/7LbPkymqj5O0fE+003iPSNK2z6Wsqw+Dwv1PrAD5z1I4do+xLGuPrU3+D4fhes9NV7aPvKwsD5aZPs+jgbwPT7o2T4hsLI+G57+Pv2H9D0QWNk+T6+0PmDlAD9sCfk948fYPpm7tj6zewI/24r9PZkq2D7Hurg+kxgEPyUGAT40gNc+9bm6PuauBT+lLAM+tMjWPiS5vD45RQc/XW0FPjQR1j5SuL4+GeIIPxSuBz60WdU+nMTAPmx4Cj/M7gk+/YfUPsrDwj5NFQw/gy8MPka20z74wsQ+n6sNPztwDj5z19I+J8LGPvJBDz/ysBA+ofjRPnDOyD7T3hA/4QsTPrMM0T6fzco+JXUSP5hMFT6pE9A+zczMPngLFD9QjRc+hA3PPvvLzj7LoRU/PugZPl8Hzj4py9A+HTgXPy1DHD4f9Mw+c9fSPnDOGD/kgx4+w9PLPqHW1D7DZBo/CfkgPmizyj7Q1dY+FvsbP/hTIz7whck+/tTYPmiRHT/mriU+XkvIPkjh2j67Jx8/CyQoPssQxz524Nw+gLcgPzGZKj4dycU+pN/ePtNNIj9WDi0+VHTEPtPe4D6Y3SM/e4MvPoofwz4B3uI+63MlP9cSMj6lvcE+S+rkPrADJz80ojQ+pU7APnnp5j51kyg/x0s3PonSvj6n6Og+rBwqPyPbOT5tVr0+1efqPnGsKz/tnjw+Udq7PgTn7D6oNS0/gEg/Pv5Duj5N8+4+bcUuP0oMQj7Hurg+fPLwPqVOMD8U0EQ+WRe3Pqrx8j5O0TE/FK5HPutztT7Y8PQ+hlozP0ymSj5hw7M+Iv32Pi/dND9NhE0+1xKyPlD8+D7ZXzY/vJZQPjJVsD5/+/o+guI3P/OOUz5yiq4+rfr8Pp5eOT+Zu1Y+sb+sPtv5/j662jo/PuhZPvH0qj4SgwA/1lY8P+QUXT75D6k+qoIBP2TMPT/AW2A+HTinPkGCAj/yQT8/07xjPiZTpT7YgQM/gLdAP+cdZz4TYaM+b4EEP4EmQj8xmWo+AG+hPpSHBT+BlUM/si5uPtJvnz4rhwY/gQRFPzPEcT6kcJ0+woYHP/RsRj/rc3U+WmSbPlmGCD/Zzkc/oyN5PhBYmT5+jAk/vjBJP8gHfT7HS5c+FYwKP6OSSj/3dYA+YTKVPqyLCz/67Us/CmiCPvwYkz5Eiww/UklNP1R0hD588pA+24oNPxueTj+dgIY++8uOPgCRDj9X7E8/ApqIPnqljD6XkA8/kzpRP4PAij7ecYo+LpAQP86IUj8E54w+Qj6IPsWPET990FM/oBqPPov9hT5cjxI/nRFVP1dbkT7vyYM+gZUTP71SVj8qqZM+N4mBPhiVFD9QjVc//faVPgCRfj6vlBU/VcFYPwdfmD5a9Xk+RpQWP1r1WT8Rx5o+tFl1PmuaFz/RIls/Gy+dPg6+cD4Cmhg/uklcP1uxnz5oImw+mpkZP6RwXT+cM6I+woZnPjGZGj8AkV4/+MKkPuXQYj7ImBs/zqpfP3Bfpz4JG14+7Z4cP5zEYD8DCao+LGVZPoSeHT/c12E/lrKsPhiVVD4bnh4/j+RiP0Rprz47308+sp0fP7PqYz8OLbI+KA9LPtejID/Y8GQ/2PC0PhQ/Rj5uoyE/b/BlP77Btz4Ab0E+BaMiP3npZj++n7o+toQ8PpyiIz/122c/v329PqK0Nz40oiQ/cM5oP/d1wD5YyjI+WKglP166aT8TYcM+DeAtPvCnJj++n2o/ZmbGPozbKD6Hpyc/kX5rP7pryT5B8SM+HqcoP9ZWbD8ofsw+wOwePrWmKT8bL20/l5DPPj7oGT7arCo/RPptPyGw0j694xQ+cawrP23Fbj+rz9U+BcUPPgisLD8Jim8/UPzYPkymCj6fqy0/pU5wPxE23D6UhwU+xLEuPyUGcT/Sb98+3GgAPluxLz+lvXE/rrbiPkaU9j3ysDA/mG5yP4v95T5oIuw9irAxP/wYcz+DUek+irDhPSGwMj/TvHM/eqXsPj0K1z1GtjM/HVp0P3L57z5fmMw93bU0P2b3dD+hZ/M+E/LBPXS1NT+Uh3U/tMj2PsdLtz0LtTY/whd2P+M2+j56paw9orQ3P2Khdj8tsv0+Lv+hPce6OD90JHc/LpAAP+JYlz1eujk/+aB3P2FUAj+Wsow99bk6P34deD8GEgQ/SgyCPYy5Oz/njHg/xtwFP9c0bz2xvzw/UPx4P/mgBz8aUVo9SL89PyxleT+6awk/FD9GPeC+Pj96x3k/ejYLP+qVMj13vj8/OiN6PzsBDT9SJyA9Dr5AP2x4ej+J0g4/TfMOPTPEQT+fzXo/ZaoQP0mdAD3Kw0I/tRV7P7N7Ej/VeOk8YcNDP8xdez+PUxQ/YqHWPPjCRD9Wn3s/aysWP6hXyjyPwkU/Udp7P0cDGD84+MI8tMhGP78OfD+x4Rk/ylTBPEvIRz+fPHw/GsAbPxQ/xjzjx0g/f2p8PxKlHT8Xt9E8esdJP0SLfD97gx8/07zjPJ/NSj8IrHw/c2ghP/8h/Tw2zUs/sb98P2pNIz9N8w49zcxMP1vTfD9hMiU/L24jPWTMTT924Hw/5x0nPxHHOj37y04/BOd8P2wJKT9hw1M9INJPPwTnfD9j7io/+8tuPbfRUD8E53w/duAsPwK8hT1O0VE/6Nl8P/vLLj/hepQ95dBSP83MfD8OvjA/CtejPQrXUz+Wsnw/k6kyPw+csz2h1lQ/X5h8P6abND9d/sM9OdZVP5p3fD9GlDY/hsnUPdDVVj9IUHw/WYY4Px3J5T1n1Vc/aCJ8P2x4Oj/+Zfc9jNtYP/rtez8NcTw/ppsEPiPbWT//sns/rWk+P/LSDT662lo/dnF7P8BbQD90JBc+UdpbP+wvez9hVEI/ZaogPujZXD9I4Xo/AU1EP8NkKj4N4F0/o5J6P6JFRj9YOTQ+pN9eP3E9ej/QREg/klw+PjvfXz+x4Xk/cT1KPzm0SD7T3mA/Y395PxE2TD9PQFM+9+RhPxUdeT+yLk4/CRtePo/kYj85tHg/UidQPzAqaT4m5GM/0ER4P/MfUj/GbXQ+veNkP9nOdz+TGFQ/AACAPlTjZT/iWHc/NBFWP1TjhT556WY/6+J2P0cDWD8W+4s+EOlnP2Zmdj/n+1k/Di2SPqfoaD/i6XU/+u1bP3WTmD4+6Gk/XW11P3/ZXT8tIZ8+1edqP9jwdD8FxV8/VOOlPvrtaz/henQ/irBhP83MrD6R7Ww/6gR0P/OOYz+z6rM+Ke1tP4GVcz9dbWU/7C+7PsDsbj8zM3M/OUVnP662wj7l8m8/Ad5yP4cWaT/DZMo+fPJwP+qVcj+62mo/RUfSPhPycT98YXI/X5hsPxpR2j6q8XI/RUdyP+lIbj9BguI+QfFzP0VHcj9X7G8/n83qPmb3dD8KaHI/HHxxPzMz8z799nU/k6lyP1MFcz/ImPs+lPZ2P28Scz9vgXQ/vAUCPyv2dz+conM/4ul1P/kxBj/D9Xg/HVp0PzlFdz+oVwo/5/t5P+84dT91k3g/rWkOP3/7ej+GOHY/ldR5PwpoEj8W+3s/4lh3PygPez+9UhY/rfp8P5CgeD+fPHw/xykaP9IAfj/n+3k/iGN9P5vmHT9pAH8/A3h7P1Z9fj83iSE/AACAP8gHfT8kl38/KxglPw==",
        "encoding": "base64",
        "path": [
         "color_map",
         "data"
        ]
       },
       {
        "data": "",
        "encoding": "base64",
        "path": [
         "colors",
         "data"
        ]
       },
       {
        "data": "AAAAAAIAAAABAAAAAQAAAAIAAAADAAAAAgAAAAQAAAADAAAAAwAAAAQAAAAFAAAABAAAAAYAAAAFAAAABQAAAAYAAAAHAAAABgAAAAgAAAAHAAAABwAAAAgAAAAJAAAACAAAAAoAAAAJAAAACQAAAAoAAAALAAAACgAAAAwAAAALAAAACwAAAAwAAAANAAAADAAAAA4AAAANAAAADQAAAA4AAAAPAAAADgAAAAAAAAAPAAAADwAAAAAAAAABAAAAEAAAABIAAAARAAAAEQAAABIAAAATAAAAEgAAABQAAAATAAAAEwAAABQAAAAVAAAAFAAAABYAAAAVAAAAFQAAABYAAAAXAAAAFgAAABgAAAAXAAAAFwAAABgAAAAZAAAAGAAAABoAAAAZAAAAGQAAABoAAAAbAAAAGgAAABwAAAAbAAAAGwAAABwAAAAdAAAAHAAAAB4AAAAdAAAAHQAAAB4AAAAfAAAAHgAAABAAAAAfAAAAHwAAABAAAAARAAAA",
        "encoding": "base64",
        "path": [
         "indices",
         "data"
        ]
       },
       {
        "data": "AACAPwAAAAAAAAAAAAAAAAAAAAAAAIA/AAAAAAAAAAAAAAAAAAAAAAAAgD8AAAAAAAAAAAAAAAAAAAAAAACAPw==",
        "encoding": "base64",
        "path": [
         "model_matrix",
         "data"
        ]
       },
       {
        "data": "",
        "encoding": "base64",
        "path": [
         "normals",
         "data"
        ]
       },
       {
        "data": "",
        "encoding": "base64",
        "path": [
         "opacity_function",
         "data"
        ]
       },
       {
        "data": "",
        "encoding": "base64",
        "path": [
         "triangles_attribute",
         "data"
        ]
       },
       {
        "data": "AADAfw==",
        "encoding": "base64",
        "path": [
         "uvs",
         "data"
        ]
       },
       {
        "data": "7cXXL0xoLz8AAAjCaGLdL0xoLz8AAAzCRBD4PkQQ+D4AAAjCRBD4PkQQ+D4AAAzCTGgvPxtNV64AAAjCTGgvPxtNV64AAAzCRBD4PkQQ+L4AAAjCRBD4PkQQ+L4AAAzCpvKhL0xoL78AAAjCIY+nL0xoL78AAAzCRBD4vkQQ+L4AAAjCRBD4vkQQ+L4AAAzCTGgvvykPdi4AAAjCTGgvvykPdi4AAAzCRBD4vkQQ+D4AAAjCRBD4vkQQ+D4AAAzC9AvdL3sJLT8AAAzCcKjiL3sJLT8AABDCGbb0Phm29D4AAAzCGbb0Phm29D4AABDCewktP0hkVK4AAAzCewktP0hkVK4AABDCGbb0Phm29L4AAAzCGbb0Phm29L4AABDC4vKnL3sJLb8AAAzCXo+tL3sJLb8AABDCGbb0vhm29L4AAAzCGbb0vhm29L4AABDCewktv+27ci4AAAzCewktv+27ci4AABDCGbb0vhm29D4AAAzCGbb0vhm29D4AABDC",
        "encoding": "base64",
        "path": [
         "vertices",
         "data"
        ]
       },
       {
        "data": "",
        "encoding": "base64",
        "path": [
         "volume",
         "data"
        ]
       },
       {
        "data": "",
        "encoding": "base64",
        "path": [
         "volume_bounds",
         "data"
        ]
       }
      ],
      "model_module": "k3d",
      "model_module_version": "2.16.1",
      "model_name": "ObjectModel",
      "state": {
       "_view_module": null,
       "_view_module_version": "",
       "_view_name": null,
       "attribute": {
        "dtype": "float32",
        "shape": [
         0
        ]
       },
       "click_callback": false,
       "color": 15467264,
       "colorLegend": false,
       "color_map": {
        "dtype": "float32",
        "shape": [
         1024
        ]
       },
       "color_range": [],
       "colors": {
        "dtype": "uint32",
        "shape": [
         0
        ]
       },
       "compression_level": 0,
       "custom_data": null,
       "flat_shading": true,
       "group": null,
       "hover_callback": false,
       "id": 6890956864,
       "indices": {
        "dtype": "uint32",
        "shape": [
         32,
         3
        ]
       },
       "model_matrix": {
        "dtype": "float32",
        "shape": [
         4,
         4
        ]
       },
       "name": "Mesh #38",
       "normals": {
        "dtype": "float32",
        "shape": [
         0
        ]
       },
       "opacity": 1,
       "opacity_function": {
        "dtype": "float32",
        "shape": [
         0
        ]
       },
       "side": "front",
       "texture": null,
       "texture_file_format": null,
       "triangles_attribute": {
        "dtype": "float32",
        "shape": [
         0
        ]
       },
       "type": "Mesh",
       "uvs": {
        "dtype": "float32",
        "shape": []
       },
       "vertices": {
        "dtype": "float32",
        "shape": [
         32,
         3
        ]
       },
       "visible": true,
       "volume": {
        "dtype": "float32",
        "shape": [
         0
        ]
       },
       "volume_bounds": {
        "dtype": "float32",
        "shape": [
         0
        ]
       },
       "wireframe": false
      }
     },
     "7a742f49e1cd4f24b2e49aaa713b2de9": {
      "buffers": [
       {
        "data": "",
        "encoding": "base64",
        "path": [
         "attribute",
         "data"
        ]
       },
       {
        "data": "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",
        "encoding": "base64",
        "path": [
         "color_map",
         "data"
        ]
       },
       {
        "data": "",
        "encoding": "base64",
        "path": [
         "colors",
         "data"
        ]
       },
       {
        "data": "AAAAAAIAAAABAAAAAQAAAAIAAAADAAAAAgAAAAQAAAADAAAAAwAAAAQAAAAFAAAABAAAAAYAAAAFAAAABQAAAAYAAAAHAAAABgAAAAgAAAAHAAAABwAAAAgAAAAJAAAACAAAAAoAAAAJAAAACQAAAAoAAAALAAAACgAAAAwAAAALAAAACwAAAAwAAAANAAAADAAAAA4AAAANAAAADQAAAA4AAAAPAAAADgAAAAAAAAAPAAAADwAAAAAAAAABAAAAEAAAABIAAAARAAAAEQAAABIAAAATAAAAEgAAABQAAAATAAAAEwAAABQAAAAVAAAAFAAAABYAAAAVAAAAFQAAABYAAAAXAAAAFgAAABgAAAAXAAAAFwAAABgAAAAZAAAAGAAAABoAAAAZAAAAGQAAABoAAAAbAAAAGgAAABwAAAAbAAAAGwAAABwAAAAdAAAAHAAAAB4AAAAdAAAAHQAAAB4AAAAfAAAAHgAAABAAAAAfAAAAHwAAABAAAAARAAAA",
        "encoding": "base64",
        "path": [
         "indices",
         "data"
        ]
       },
       {
        "data": "AACAPwAAAAAAAAAAAAAAAAAAAAAAAIA/AAAAAAAAAAAAAAAAAAAAAAAAgD8AAAAAAAAAAAAAAAAAAAAAAACAPw==",
        "encoding": "base64",
        "path": [
         "model_matrix",
         "data"
        ]
       },
       {
        "data": "",
        "encoding": "base64",
        "path": [
         "normals",
         "data"
        ]
       },
       {
        "data": "",
        "encoding": "base64",
        "path": [
         "opacity_function",
         "data"
        ]
       },
       {
        "data": "",
        "encoding": "base64",
        "path": [
         "triangles_attribute",
         "data"
        ]
       },
       {
        "data": "AADAfw==",
        "encoding": "base64",
        "path": [
         "uvs",
         "data"
        ]
       },
       {
        "data": "FfsAMMdxHD8AACjCU8kDMMdxHD8AACzC8D7dPvA+3T4AACjC8D7dPvA+3T4AACzCx3EcP4AGQK4AACjCx3EcP4AGQK4AACzC8D7dPvA+3b4AACjC8D7dPvA+3b4AACzCivTRL8dxHL8AACjCBZHXL8dxHL8AACzC8D7dvvA+3b4AACjC8D7dvvA+3b4AACzCx3Ecv051Wy4AACjCx3Ecv051Wy4AACzC8D7dvvA+3T4AACjC8D7dvvA+3T4AACzCGZ4DMPcSGj8AACzCV2wGMPcSGj8AADDCxuTZPsbk2T4AACzCxuTZPsbk2T4AADDC9xIaP6wdPa4AACzC9xIaP6wdPa4AADDCxuTZPsbk2b4AACzCxuTZPsbk2b4AADDCxvTXL/cSGr8AACzCQpHdL/cSGr8AADDCxuTZvsbk2b4AACzCxuTZvsbk2b4AADDC9xIavxMiWC4AACzC9xIavxMiWC4AADDCxuTZvsbk2T4AACzCxuTZvsbk2T4AADDC",
        "encoding": "base64",
        "path": [
         "vertices",
         "data"
        ]
       },
       {
        "data": "",
        "encoding": "base64",
        "path": [
         "volume",
         "data"
        ]
       },
       {
        "data": "",
        "encoding": "base64",
        "path": [
         "volume_bounds",
         "data"
        ]
       }
      ],
      "model_module": "k3d",
      "model_module_version": "2.16.1",
      "model_name": "ObjectModel",
      "state": {
       "_view_module": null,
       "_view_module_version": "",
       "_view_name": null,
       "attribute": {
        "dtype": "float32",
        "shape": [
         0
        ]
       },
       "click_callback": false,
       "color": 16650752,
       "colorLegend": false,
       "color_map": {
        "dtype": "float32",
        "shape": [
         1024
        ]
       },
       "color_range": [],
       "colors": {
        "dtype": "uint32",
        "shape": [
         0
        ]
       },
       "compression_level": 0,
       "custom_data": null,
       "flat_shading": true,
       "group": null,
       "hover_callback": false,
       "id": 6890775488,
       "indices": {
        "dtype": "uint32",
        "shape": [
         32,
         3
        ]
       },
       "model_matrix": {
        "dtype": "float32",
        "shape": [
         4,
         4
        ]
       },
       "name": "Mesh #42",
       "normals": {
        "dtype": "float32",
        "shape": [
         0
        ]
       },
       "opacity": 1,
       "opacity_function": {
        "dtype": "float32",
        "shape": [
         0
        ]
       },
       "side": "front",
       "texture": null,
       "texture_file_format": null,
       "triangles_attribute": {
        "dtype": "float32",
        "shape": [
         0
        ]
       },
       "type": "Mesh",
       "uvs": {
        "dtype": "float32",
        "shape": []
       },
       "vertices": {
        "dtype": "float32",
        "shape": [
         32,
         3
        ]
       },
       "visible": true,
       "volume": {
        "dtype": "float32",
        "shape": [
         0
        ]
       },
       "volume_bounds": {
        "dtype": "float32",
        "shape": [
         0
        ]
       },
       "wireframe": false
      }
     },
     "7aca10b157894a6ea53da2b42632db8b": {
      "buffers": [
       {
        "data": "",
        "encoding": "base64",
        "path": [
         "attribute",
         "data"
        ]
       },
       {
        "data": "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",
        "encoding": "base64",
        "path": [
         "color_map",
         "data"
        ]
       },
       {
        "data": "",
        "encoding": "base64",
        "path": [
         "colors",
         "data"
        ]
       },
       {
        "data": "AAAAAAIAAAABAAAAAQAAAAIAAAADAAAAAgAAAAQAAAADAAAAAwAAAAQAAAAFAAAABAAAAAYAAAAFAAAABQAAAAYAAAAHAAAABgAAAAgAAAAHAAAABwAAAAgAAAAJAAAACAAAAAoAAAAJAAAACQAAAAoAAAALAAAACgAAAAwAAAALAAAACwAAAAwAAAANAAAADAAAAA4AAAANAAAADQAAAA4AAAAPAAAADgAAAAAAAAAPAAAADwAAAAAAAAABAAAAEAAAABIAAAARAAAAEQAAABIAAAATAAAAEgAAABQAAAATAAAAEwAAABQAAAAVAAAAFAAAABYAAAAVAAAAFQAAABYAAAAXAAAAFgAAABgAAAAXAAAAFwAAABgAAAAZAAAAGAAAABoAAAAZAAAAGQAAABoAAAAbAAAAGgAAABwAAAAbAAAAGwAAABwAAAAdAAAAHAAAAB4AAAAdAAAAHQAAAB4AAAAfAAAAHgAAABAAAAAfAAAAHwAAABAAAAARAAAA",
        "encoding": "base64",
        "path": [
         "indices",
         "data"
        ]
       },
       {
        "data": "AACAPwAAAAAAAAAAAAAAAAAAAAAAAIA/AAAAAAAAAAAAAAAAAAAAAAAAgD8AAAAAAAAAAAAAAAAAAAAAAACAPw==",
        "encoding": "base64",
        "path": [
         "model_matrix",
         "data"
        ]
       },
       {
        "data": "",
        "encoding": "base64",
        "path": [
         "normals",
         "data"
        ]
       },
       {
        "data": "",
        "encoding": "base64",
        "path": [
         "opacity_function",
         "data"
        ]
       },
       {
        "data": "",
        "encoding": "base64",
        "path": [
         "triangles_attribute",
         "data"
        ]
       },
       {
        "data": "AADAfw==",
        "encoding": "base64",
        "path": [
         "uvs",
         "data"
        ]
       },
       {
        "data": "KIcYv+n4/74AAMDBKIcYv+n4/74AAMjBe1pGv1TUij0AAMDBe1pGv1TUij0AAMjB6fj/viiHGD8AAMDB6fj/viiHGD8AAMjBVdSKPXtaRj8AAMDBVdSKPXtaRj8AAMjBKIcYP+n4/z4AAMDBKIcYP+n4/z4AAMjBe1pGP1TUir0AAMDBe1pGP1TUir0AAMjB6fj/PiiHGL8AAMDB6fj/PiiHGL8AAMjBVNSKvXtaRr8AAMDBVNSKvXtaRr8AAMjBULYWv87s/L4AAMjBULYWv87s/L4AANDB+f1DvzstiT0AAMjB+f1DvzstiT0AANDBzuz8vlC2Fj8AAMjBzuz8vlC2Fj8AANDBOy2JPfn9Qz8AAMjBOy2JPfn9Qz8AANDBULYWP87s/D4AAMjBULYWP87s/D4AANDB+f1DPzstib0AAMjB+f1DPzstib0AANDBzuz8PlC2Fr8AAMjBzuz8PlC2Fr8AANDBOy2Jvfn9Q78AAMjBOy2Jvfn9Q78AANDB",
        "encoding": "base64",
        "path": [
         "vertices",
         "data"
        ]
       },
       {
        "data": "",
        "encoding": "base64",
        "path": [
         "volume",
         "data"
        ]
       },
       {
        "data": "",
        "encoding": "base64",
        "path": [
         "volume_bounds",
         "data"
        ]
       }
      ],
      "model_module": "k3d",
      "model_module_version": "2.16.1",
      "model_name": "ObjectModel",
      "state": {
       "_view_module": null,
       "_view_module_version": "",
       "_view_name": null,
       "attribute": {
        "dtype": "float32",
        "shape": [
         0
        ]
       },
       "click_callback": false,
       "color": 13959168,
       "colorLegend": false,
       "color_map": {
        "dtype": "float32",
        "shape": [
         1024
        ]
       },
       "color_range": [],
       "colors": {
        "dtype": "uint32",
        "shape": [
         0
        ]
       },
       "compression_level": 0,
       "custom_data": null,
       "flat_shading": true,
       "group": null,
       "hover_callback": false,
       "id": 6891146992,
       "indices": {
        "dtype": "uint32",
        "shape": [
         32,
         3
        ]
       },
       "model_matrix": {
        "dtype": "float32",
        "shape": [
         4,
         4
        ]
       },
       "name": "Mesh #32",
       "normals": {
        "dtype": "float32",
        "shape": [
         0
        ]
       },
       "opacity": 1,
       "opacity_function": {
        "dtype": "float32",
        "shape": [
         0
        ]
       },
       "side": "front",
       "texture": null,
       "texture_file_format": null,
       "triangles_attribute": {
        "dtype": "float32",
        "shape": [
         0
        ]
       },
       "type": "Mesh",
       "uvs": {
        "dtype": "float32",
        "shape": []
       },
       "vertices": {
        "dtype": "float32",
        "shape": [
         32,
         3
        ]
       },
       "visible": true,
       "volume": {
        "dtype": "float32",
        "shape": [
         0
        ]
       },
       "volume_bounds": {
        "dtype": "float32",
        "shape": [
         0
        ]
       },
       "wireframe": false
      }
     },
     "7b8f82bb94c542098df24a91e4918ff5": {
      "buffers": [
       {
        "data": "",
        "encoding": "base64",
        "path": [
         "attribute",
         "data"
        ]
       },
       {
        "data": "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",
        "encoding": "base64",
        "path": [
         "color_map",
         "data"
        ]
       },
       {
        "data": "",
        "encoding": "base64",
        "path": [
         "colors",
         "data"
        ]
       },
       {
        "data": "AAAAAAIAAAABAAAAAQAAAAIAAAADAAAAAgAAAAQAAAADAAAAAwAAAAQAAAAFAAAABAAAAAYAAAAFAAAABQAAAAYAAAAHAAAABgAAAAgAAAAHAAAABwAAAAgAAAAJAAAACAAAAAoAAAAJAAAACQAAAAoAAAALAAAACgAAAAwAAAALAAAACwAAAAwAAAANAAAADAAAAA4AAAANAAAADQAAAA4AAAAPAAAADgAAAAAAAAAPAAAADwAAAAAAAAABAAAA",
        "encoding": "base64",
        "path": [
         "indices",
         "data"
        ]
       },
       {
        "data": "AACAPwAAAAAAAAAAAAAAAAAAAAAAAIA/AAAAAAAAAAAAAAAAAAAAAAAAgD8AAAAAAAAAAAAAAAAAAAAAAACAPw==",
        "encoding": "base64",
        "path": [
         "model_matrix",
         "data"
        ]
       },
       {
        "data": "",
        "encoding": "base64",
        "path": [
         "normals",
         "data"
        ]
       },
       {
        "data": "",
        "encoding": "base64",
        "path": [
         "opacity_function",
         "data"
        ]
       },
       {
        "data": "",
        "encoding": "base64",
        "path": [
         "triangles_attribute",
         "data"
        ]
       },
       {
        "data": "AADAfw==",
        "encoding": "base64",
        "path": [
         "uvs",
         "data"
        ]
       },
       {
        "data": "X0J7vwAAAAAAAADAX0J7vwAAAAAAAEDAyaoxv8mqMT8AAADAyaoxv8mqMT8AAEDAgJ7fLV9Cez8AAADAHLMcLl9Cez8AAEDAyaoxP8mqMT8AAADAyaoxP8mqMT8AAEDAX0J7PzM8MK0AAADAX0J7PzM8MK0AAEDAyaoxP8mqMb8AAADAyaoxP8mqMb8AAEDAMom9LF9Ce78AAADABiqJLV9Ce78AAEDAyaoxv8mqMb8AAADAyaoxv8mqMb8AAEDA",
        "encoding": "base64",
        "path": [
         "vertices",
         "data"
        ]
       },
       {
        "data": "",
        "encoding": "base64",
        "path": [
         "volume",
         "data"
        ]
       },
       {
        "data": "",
        "encoding": "base64",
        "path": [
         "volume_bounds",
         "data"
        ]
       }
      ],
      "model_module": "k3d",
      "model_module_version": "2.16.1",
      "model_name": "ObjectModel",
      "state": {
       "_view_module": null,
       "_view_module_version": "",
       "_view_name": null,
       "attribute": {
        "dtype": "float32",
        "shape": [
         0
        ]
       },
       "click_callback": false,
       "color": 8912896,
       "colorLegend": false,
       "color_map": {
        "dtype": "float32",
        "shape": [
         1024
        ]
       },
       "color_range": [],
       "colors": {
        "dtype": "uint32",
        "shape": [
         0
        ]
       },
       "compression_level": 0,
       "custom_data": null,
       "flat_shading": true,
       "group": null,
       "hover_callback": false,
       "id": 6891343120,
       "indices": {
        "dtype": "uint32",
        "shape": [
         16,
         3
        ]
       },
       "model_matrix": {
        "dtype": "float32",
        "shape": [
         4,
         4
        ]
       },
       "name": "Mesh #3",
       "normals": {
        "dtype": "float32",
        "shape": [
         0
        ]
       },
       "opacity": 1,
       "opacity_function": {
        "dtype": "float32",
        "shape": [
         0
        ]
       },
       "side": "front",
       "texture": null,
       "texture_file_format": null,
       "triangles_attribute": {
        "dtype": "float32",
        "shape": [
         0
        ]
       },
       "type": "Mesh",
       "uvs": {
        "dtype": "float32",
        "shape": []
       },
       "vertices": {
        "dtype": "float32",
        "shape": [
         16,
         3
        ]
       },
       "visible": true,
       "volume": {
        "dtype": "float32",
        "shape": [
         0
        ]
       },
       "volume_bounds": {
        "dtype": "float32",
        "shape": [
         0
        ]
       },
       "wireframe": false
      }
     },
     "856688bec6e844499b675a2da721b270": {
      "buffers": [
       {
        "data": "",
        "encoding": "base64",
        "path": [
         "attribute",
         "data"
        ]
       },
       {
        "data": "AAAAAKabxDpvEgM607xjPCSXfzuZuxY7w2SqOgdfmDwkl/870ERYO+AtEDsUP8Y8ylRBPLx0kzuJ0l47/yH9PEmdgDymm8Q7dQKaOwkbHj0ukKA8SFD8O4LixztbsT89EoPAPFJJHTxIUPw7irBhPa5H4TxbsT88dQIaPEoMgj1JnQA9QmBlPDSANzxPQJM9vJYQPbn8hzxioVY8VHSkPS6QID3A7J48/mV3PMbctT2giTA9NIC3PATnjDw5Rcc97utAPYZa0zwJG548GeLYPWDlUD1F2PA8xSCwPGiz6j3T3mA9cM4IPYEmwjwkufw9RdhwPVFrGj09LNQ8cF8HPtxogD3EQi09+THmPIV8ED4Cmog9NxpAPbU3+DwHzhk+vJaQPYZaUz24HgU9ih8jPnWTmD2wA2c9u7gNPQ1xLD4ukKA9tRV7PeLpFT3G3DU+VcGoPUvIhz0tsh097nw/Pg6+sD0qOpI9nRElPRUdST7Hurg9duCcPVafKz08vVI+gLfAPZ7vpz1XWzE9mndcPjm0yD3F/rI9fa42PfkxZj5g5dA9yXa+PRHHOj2OBnA+GeLYPTojyj3tDT497MB5PtPe4D2GONY9EoNAPaW9gT6M2+g9003iPYEmQj3UmoY+RdjwPWkA7z04+EI96GqLPmwJ+T3/svs9XI9CPeAtkD4SgwA+OGcEPqW9QT2945Q+b4EEPigPCz43GkA9Y3+ZPsx/CD5O0RE+Njw9PdIAnj5fmAw+rK0YPjVeOj3uWqI+vJYQPgmKHz59rjY9uY2mPhiVFD7UmiY+6pUyPUymqj51kxg+n6stPnsULj1yiq4+0ZEcPmq8ND4Mkyk9KjqyPmWqID42zTs+nRElPY/CtT7BqCQ+OPhCPgn5ID1sCbk+HqcoPgMJSj5SSR099ii8PnqlLD7OGVE+dQIaPRIUvz7XozA+mSpYPlCNFz3c18E+arw0Pi0hXz7i6RU9HVrEPse6OD75MWY+KxgVPQu1xj4kuTw+Vg5tPisYFT2n6Mg+gLdAPuoEdD7i6RU98fTKPhTQRD5I4Xo+K/YXPc3MzD5wzkg+t9GAPlFrGj1yis4+zcxMPsoyhD4JGx49xSDQPinLUD7ek4c+nDMiPcWP0T6GyVQ+1eeKPsKGJz2q8dI+GeJYPs07jj6fqy09PSzUPnbgXD7Fj5E+fdAzPZhM1T7T3mA+veOUPhHHOj29UtY+L91kPpkqmD5cj0I9x0vXPsP1aD52cZs+qFdKPZkq2D4f9Gw+NquePs6IUj0179g+fPJwPhPyoT7RIls9tabZPtjwdD7UK6U+07xjPRpR2j4173g+lWWoPrG/bD1I4do+yAd9Plafqz5rK3Y9WmTbPhKDgD4X2a4+SS5/PVHa2z5BgoI+1xKyPgFNhD0tQ9w+b4GEPn0/tT7eAok97Z7cPp2Ahj4+ebg+u7iNPZHt3D7njIg+46W7PgWjkj0bL90+FYyKPqTfvj7iWJc9iGPdPkSLjD5KDMI+LUOcPduK3T5yio4+7zjFPgn5oD0tst0+vJaQPrByyD7mrqU9SL/dPuqVkj5Wn8s+MZmqPWTM3T4YlZQ++8vOPg5Prz1kzN0+RpSWPqH40T7qBLQ9SL/dPnWTmD5GJdU+x7q4PRKl3T6+n5o+7FHYPqRwvT3bit0+7Z6cPqyL2z6BJsI9iGPdPhuenj5SuN4+XdzGPRsv3T5JnaA+9+ThPsxdyz2t+tw+eJyiPp0R5T6pE9A9JLncPsGopD5eS+g+GJXUPX9q3D7wp6Y+A3jrPvVK2T2/Dtw+HqeoPqmk7j5kzN09/7LbPkymqj5O0fE+003iPSNK2z6Wsqw+Dwv1PrAD5z1I4do+xLGuPrU3+D4fhes9NV7aPvKwsD5aZPs+jgbwPT7o2T4hsLI+G57+Pv2H9D0QWNk+T6+0PmDlAD9sCfk948fYPpm7tj6zewI/24r9PZkq2D7Hurg+kxgEPyUGAT40gNc+9bm6PuauBT+lLAM+tMjWPiS5vD45RQc/XW0FPjQR1j5SuL4+GeIIPxSuBz60WdU+nMTAPmx4Cj/M7gk+/YfUPsrDwj5NFQw/gy8MPka20z74wsQ+n6sNPztwDj5z19I+J8LGPvJBDz/ysBA+ofjRPnDOyD7T3hA/4QsTPrMM0T6fzco+JXUSP5hMFT6pE9A+zczMPngLFD9QjRc+hA3PPvvLzj7LoRU/PugZPl8Hzj4py9A+HTgXPy1DHD4f9Mw+c9fSPnDOGD/kgx4+w9PLPqHW1D7DZBo/CfkgPmizyj7Q1dY+FvsbP/hTIz7whck+/tTYPmiRHT/mriU+XkvIPkjh2j67Jx8/CyQoPssQxz524Nw+gLcgPzGZKj4dycU+pN/ePtNNIj9WDi0+VHTEPtPe4D6Y3SM/e4MvPoofwz4B3uI+63MlP9cSMj6lvcE+S+rkPrADJz80ojQ+pU7APnnp5j51kyg/x0s3PonSvj6n6Og+rBwqPyPbOT5tVr0+1efqPnGsKz/tnjw+Udq7PgTn7D6oNS0/gEg/Pv5Duj5N8+4+bcUuP0oMQj7Hurg+fPLwPqVOMD8U0EQ+WRe3Pqrx8j5O0TE/FK5HPutztT7Y8PQ+hlozP0ymSj5hw7M+Iv32Pi/dND9NhE0+1xKyPlD8+D7ZXzY/vJZQPjJVsD5/+/o+guI3P/OOUz5yiq4+rfr8Pp5eOT+Zu1Y+sb+sPtv5/j662jo/PuhZPvH0qj4SgwA/1lY8P+QUXT75D6k+qoIBP2TMPT/AW2A+HTinPkGCAj/yQT8/07xjPiZTpT7YgQM/gLdAP+cdZz4TYaM+b4EEP4EmQj8xmWo+AG+hPpSHBT+BlUM/si5uPtJvnz4rhwY/gQRFPzPEcT6kcJ0+woYHP/RsRj/rc3U+WmSbPlmGCD/Zzkc/oyN5PhBYmT5+jAk/vjBJP8gHfT7HS5c+FYwKP6OSSj/3dYA+YTKVPqyLCz/67Us/CmiCPvwYkz5Eiww/UklNP1R0hD588pA+24oNPxueTj+dgIY++8uOPgCRDj9X7E8/ApqIPnqljD6XkA8/kzpRP4PAij7ecYo+LpAQP86IUj8E54w+Qj6IPsWPET990FM/oBqPPov9hT5cjxI/nRFVP1dbkT7vyYM+gZUTP71SVj8qqZM+N4mBPhiVFD9QjVc//faVPgCRfj6vlBU/VcFYPwdfmD5a9Xk+RpQWP1r1WT8Rx5o+tFl1PmuaFz/RIls/Gy+dPg6+cD4Cmhg/uklcP1uxnz5oImw+mpkZP6RwXT+cM6I+woZnPjGZGj8AkV4/+MKkPuXQYj7ImBs/zqpfP3Bfpz4JG14+7Z4cP5zEYD8DCao+LGVZPoSeHT/c12E/lrKsPhiVVD4bnh4/j+RiP0Rprz47308+sp0fP7PqYz8OLbI+KA9LPtejID/Y8GQ/2PC0PhQ/Rj5uoyE/b/BlP77Btz4Ab0E+BaMiP3npZj++n7o+toQ8PpyiIz/122c/v329PqK0Nz40oiQ/cM5oP/d1wD5YyjI+WKglP166aT8TYcM+DeAtPvCnJj++n2o/ZmbGPozbKD6Hpyc/kX5rP7pryT5B8SM+HqcoP9ZWbD8ofsw+wOwePrWmKT8bL20/l5DPPj7oGT7arCo/RPptPyGw0j694xQ+cawrP23Fbj+rz9U+BcUPPgisLD8Jim8/UPzYPkymCj6fqy0/pU5wPxE23D6UhwU+xLEuPyUGcT/Sb98+3GgAPluxLz+lvXE/rrbiPkaU9j3ysDA/mG5yP4v95T5oIuw9irAxP/wYcz+DUek+irDhPSGwMj/TvHM/eqXsPj0K1z1GtjM/HVp0P3L57z5fmMw93bU0P2b3dD+hZ/M+E/LBPXS1NT+Uh3U/tMj2PsdLtz0LtTY/whd2P+M2+j56paw9orQ3P2Khdj8tsv0+Lv+hPce6OD90JHc/LpAAP+JYlz1eujk/+aB3P2FUAj+Wsow99bk6P34deD8GEgQ/SgyCPYy5Oz/njHg/xtwFP9c0bz2xvzw/UPx4P/mgBz8aUVo9SL89PyxleT+6awk/FD9GPeC+Pj96x3k/ejYLP+qVMj13vj8/OiN6PzsBDT9SJyA9Dr5AP2x4ej+J0g4/TfMOPTPEQT+fzXo/ZaoQP0mdAD3Kw0I/tRV7P7N7Ej/VeOk8YcNDP8xdez+PUxQ/YqHWPPjCRD9Wn3s/aysWP6hXyjyPwkU/Udp7P0cDGD84+MI8tMhGP78OfD+x4Rk/ylTBPEvIRz+fPHw/GsAbPxQ/xjzjx0g/f2p8PxKlHT8Xt9E8esdJP0SLfD97gx8/07zjPJ/NSj8IrHw/c2ghP/8h/Tw2zUs/sb98P2pNIz9N8w49zcxMP1vTfD9hMiU/L24jPWTMTT924Hw/5x0nPxHHOj37y04/BOd8P2wJKT9hw1M9INJPPwTnfD9j7io/+8tuPbfRUD8E53w/duAsPwK8hT1O0VE/6Nl8P/vLLj/hepQ95dBSP83MfD8OvjA/CtejPQrXUz+Wsnw/k6kyPw+csz2h1lQ/X5h8P6abND9d/sM9OdZVP5p3fD9GlDY/hsnUPdDVVj9IUHw/WYY4Px3J5T1n1Vc/aCJ8P2x4Oj/+Zfc9jNtYP/rtez8NcTw/ppsEPiPbWT//sns/rWk+P/LSDT662lo/dnF7P8BbQD90JBc+UdpbP+wvez9hVEI/ZaogPujZXD9I4Xo/AU1EP8NkKj4N4F0/o5J6P6JFRj9YOTQ+pN9eP3E9ej/QREg/klw+PjvfXz+x4Xk/cT1KPzm0SD7T3mA/Y395PxE2TD9PQFM+9+RhPxUdeT+yLk4/CRtePo/kYj85tHg/UidQPzAqaT4m5GM/0ER4P/MfUj/GbXQ+veNkP9nOdz+TGFQ/AACAPlTjZT/iWHc/NBFWP1TjhT556WY/6+J2P0cDWD8W+4s+EOlnP2Zmdj/n+1k/Di2SPqfoaD/i6XU/+u1bP3WTmD4+6Gk/XW11P3/ZXT8tIZ8+1edqP9jwdD8FxV8/VOOlPvrtaz/henQ/irBhP83MrD6R7Ww/6gR0P/OOYz+z6rM+Ke1tP4GVcz9dbWU/7C+7PsDsbj8zM3M/OUVnP662wj7l8m8/Ad5yP4cWaT/DZMo+fPJwP+qVcj+62mo/RUfSPhPycT98YXI/X5hsPxpR2j6q8XI/RUdyP+lIbj9BguI+QfFzP0VHcj9X7G8/n83qPmb3dD8KaHI/HHxxPzMz8z799nU/k6lyP1MFcz/ImPs+lPZ2P28Scz9vgXQ/vAUCPyv2dz+conM/4ul1P/kxBj/D9Xg/HVp0PzlFdz+oVwo/5/t5P+84dT91k3g/rWkOP3/7ej+GOHY/ldR5PwpoEj8W+3s/4lh3PygPez+9UhY/rfp8P5CgeD+fPHw/xykaP9IAfj/n+3k/iGN9P5vmHT9pAH8/A3h7P1Z9fj83iSE/AACAP8gHfT8kl38/KxglPw==",
        "encoding": "base64",
        "path": [
         "color_map",
         "data"
        ]
       },
       {
        "data": "",
        "encoding": "base64",
        "path": [
         "colors",
         "data"
        ]
       },
       {
        "data": "AAAAAAIAAAABAAAAAQAAAAIAAAADAAAAAgAAAAQAAAADAAAAAwAAAAQAAAAFAAAABAAAAAYAAAAFAAAABQAAAAYAAAAHAAAABgAAAAgAAAAHAAAABwAAAAgAAAAJAAAACAAAAAoAAAAJAAAACQAAAAoAAAALAAAACgAAAAwAAAALAAAACwAAAAwAAAANAAAADAAAAA4AAAANAAAADQAAAA4AAAAPAAAADgAAAAAAAAAPAAAADwAAAAAAAAABAAAA",
        "encoding": "base64",
        "path": [
         "indices",
         "data"
        ]
       },
       {
        "data": "AACAPwAAAAAAAAAAAAAAAAAAAAAAAIA/AAAAAAAAAAAAAAAAAAAAAAAAgD8AAAAAAAAAAAAAAAAAAAAAAACAPw==",
        "encoding": "base64",
        "path": [
         "model_matrix",
         "data"
        ]
       },
       {
        "data": "",
        "encoding": "base64",
        "path": [
         "normals",
         "data"
        ]
       },
       {
        "data": "",
        "encoding": "base64",
        "path": [
         "opacity_function",
         "data"
        ]
       },
       {
        "data": "",
        "encoding": "base64",
        "path": [
         "triangles_attribute",
         "data"
        ]
       },
       {
        "data": "AADAfw==",
        "encoding": "base64",
        "path": [
         "uvs",
         "data"
        ]
       },
       {
        "data": "9xLavpHbPD8AAIDB9xLavpHbPD8AAIjBU8RhPrWkUj8AAIDBU8RhPrWkUj8AAIjBkds8P/cS2j4AAIDBkds8P/cS2j4AAIjBtaRSP1PEYb4AAIDBtaRSP1PEYb4AAIjB9xLaPpHbPL8AAIDB9xLaPpHbPL8AAIjBU8RhvrWkUr8AAIDBU8RhvrWkUr8AAIjBkds8v/cS2r4AAIDBkds8v/cS2r4AAIjBtaRSv1PEYT4AAIDBtaRSv1PEYT4AAIjB",
        "encoding": "base64",
        "path": [
         "vertices",
         "data"
        ]
       },
       {
        "data": "",
        "encoding": "base64",
        "path": [
         "volume",
         "data"
        ]
       },
       {
        "data": "",
        "encoding": "base64",
        "path": [
         "volume_bounds",
         "data"
        ]
       }
      ],
      "model_module": "k3d",
      "model_module_version": "2.16.1",
      "model_name": "ObjectModel",
      "state": {
       "_view_module": null,
       "_view_module_version": "",
       "_view_name": null,
       "attribute": {
        "dtype": "float32",
        "shape": [
         0
        ]
       },
       "click_callback": false,
       "color": 12517376,
       "colorLegend": false,
       "color_map": {
        "dtype": "float32",
        "shape": [
         1024
        ]
       },
       "color_range": [],
       "colors": {
        "dtype": "uint32",
        "shape": [
         0
        ]
       },
       "compression_level": 0,
       "custom_data": null,
       "flat_shading": true,
       "group": null,
       "hover_callback": false,
       "id": 6891154624,
       "indices": {
        "dtype": "uint32",
        "shape": [
         16,
         3
        ]
       },
       "model_matrix": {
        "dtype": "float32",
        "shape": [
         4,
         4
        ]
       },
       "name": "Mesh #24",
       "normals": {
        "dtype": "float32",
        "shape": [
         0
        ]
       },
       "opacity": 1,
       "opacity_function": {
        "dtype": "float32",
        "shape": [
         0
        ]
       },
       "side": "front",
       "texture": null,
       "texture_file_format": null,
       "triangles_attribute": {
        "dtype": "float32",
        "shape": [
         0
        ]
       },
       "type": "Mesh",
       "uvs": {
        "dtype": "float32",
        "shape": []
       },
       "vertices": {
        "dtype": "float32",
        "shape": [
         16,
         3
        ]
       },
       "visible": true,
       "volume": {
        "dtype": "float32",
        "shape": [
         0
        ]
       },
       "volume_bounds": {
        "dtype": "float32",
        "shape": [
         0
        ]
       },
       "wireframe": false
      }
     },
     "89405501037d4a7ea82f66998111c6a4": {
      "buffers": [
       {
        "data": "",
        "encoding": "base64",
        "path": [
         "attribute",
         "data"
        ]
       },
       {
        "data": "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",
        "encoding": "base64",
        "path": [
         "color_map",
         "data"
        ]
       },
       {
        "data": "",
        "encoding": "base64",
        "path": [
         "colors",
         "data"
        ]
       },
       {
        "data": "AAAAAAIAAAABAAAAAQAAAAIAAAADAAAAAgAAAAQAAAADAAAAAwAAAAQAAAAFAAAABAAAAAYAAAAFAAAABQAAAAYAAAAHAAAABgAAAAgAAAAHAAAABwAAAAgAAAAJAAAACAAAAAoAAAAJAAAACQAAAAoAAAALAAAACgAAAAwAAAALAAAACwAAAAwAAAANAAAADAAAAA4AAAANAAAADQAAAA4AAAAPAAAADgAAAAAAAAAPAAAADwAAAAAAAAABAAAAEAAAABIAAAARAAAAEQAAABIAAAATAAAAEgAAABQAAAATAAAAEwAAABQAAAAVAAAAFAAAABYAAAAVAAAAFQAAABYAAAAXAAAAFgAAABgAAAAXAAAAFwAAABgAAAAZAAAAGAAAABoAAAAZAAAAGQAAABoAAAAbAAAAGgAAABwAAAAbAAAAGwAAABwAAAAdAAAAHAAAAB4AAAAdAAAAHQAAAB4AAAAfAAAAHgAAABAAAAAfAAAAHwAAABAAAAARAAAA",
        "encoding": "base64",
        "path": [
         "indices",
         "data"
        ]
       },
       {
        "data": "AACAPwAAAAAAAAAAAAAAAAAAAAAAAIA/AAAAAAAAAAAAAAAAAAAAAAAAgD8AAAAAAAAAAAAAAAAAAAAAAACAPw==",
        "encoding": "base64",
        "path": [
         "model_matrix",
         "data"
        ]
       },
       {
        "data": "",
        "encoding": "base64",
        "path": [
         "normals",
         "data"
        ]
       },
       {
        "data": "",
        "encoding": "base64",
        "path": [
         "opacity_function",
         "data"
        ]
       },
       {
        "data": "",
        "encoding": "base64",
        "path": [
         "triangles_attribute",
         "data"
        ]
       },
       {
        "data": "AADAfw==",
        "encoding": "base64",
        "path": [
         "uvs",
         "data"
        ]
       },
       {
        "data": "N7YYMHIcBz8AAEzCdYQbMHIcBz8AAFDCcxO/PnITvz4AAEzCcxO/PnITvz4AAFDCchwHPxHXJa4AAEzCchwHPxHXJa4AAFDCcxO/PnITv74AAEzCcxO/PnITv74AAFDCVfsDMHIcB78AAEzCk8kGMHIcB78AAFDCchO/vnITv74AAEzCchO/vnITv74AAFDCchwHvziIPS4AAEzCchwHvziIPS4AAFDCchO/vnITvz4AAEzCchO/vnITvz4AAFDCO1kbMKG9BD8AAFDCeSceMKG9BD8AAFTCSLm7Pki5uz4AAFDCSLm7Pki5uz4AAFTCob0EPz7uIq4AAFDCob0EPz7uIq4AAFTCSLm7Pki5u74AAFDCSLm7Pki5u74AAFTCc/sGMKG9BL8AAFDCsckJMKG9BL8AAFTCSLm7vki5u74AAFDCSLm7vki5u74AAFTCob0Ev/w0Oi4AAFDCob0Ev/w0Oi4AAFTCSLm7vki5uz4AAFDCSLm7vki5uz4AAFTC",
        "encoding": "base64",
        "path": [
         "vertices",
         "data"
        ]
       },
       {
        "data": "",
        "encoding": "base64",
        "path": [
         "volume",
         "data"
        ]
       },
       {
        "data": "",
        "encoding": "base64",
        "path": [
         "volume_bounds",
         "data"
        ]
       }
      ],
      "model_module": "k3d",
      "model_module_version": "2.16.1",
      "model_name": "ObjectModel",
      "state": {
       "_view_module": null,
       "_view_module_version": "",
       "_view_name": null,
       "attribute": {
        "dtype": "float32",
        "shape": [
         0
        ]
       },
       "click_callback": false,
       "color": 16720128,
       "colorLegend": false,
       "color_map": {
        "dtype": "float32",
        "shape": [
         1024
        ]
       },
       "color_range": [],
       "colors": {
        "dtype": "uint32",
        "shape": [
         0
        ]
       },
       "compression_level": 0,
       "custom_data": null,
       "flat_shading": true,
       "group": null,
       "hover_callback": false,
       "id": 6890771792,
       "indices": {
        "dtype": "uint32",
        "shape": [
         32,
         3
        ]
       },
       "model_matrix": {
        "dtype": "float32",
        "shape": [
         4,
         4
        ]
       },
       "name": "Mesh #46",
       "normals": {
        "dtype": "float32",
        "shape": [
         0
        ]
       },
       "opacity": 1,
       "opacity_function": {
        "dtype": "float32",
        "shape": [
         0
        ]
       },
       "side": "front",
       "texture": null,
       "texture_file_format": null,
       "triangles_attribute": {
        "dtype": "float32",
        "shape": [
         0
        ]
       },
       "type": "Mesh",
       "uvs": {
        "dtype": "float32",
        "shape": []
       },
       "vertices": {
        "dtype": "float32",
        "shape": [
         32,
         3
        ]
       },
       "visible": true,
       "volume": {
        "dtype": "float32",
        "shape": [
         0
        ]
       },
       "volume_bounds": {
        "dtype": "float32",
        "shape": [
         0
        ]
       },
       "wireframe": false
      }
     },
     "8a6cd2db028d4af69ce11e30d75e13c2": {
      "buffers": [
       {
        "data": "",
        "encoding": "base64",
        "path": [
         "attribute",
         "data"
        ]
       },
       {
        "data": "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",
        "encoding": "base64",
        "path": [
         "color_map",
         "data"
        ]
       },
       {
        "data": "",
        "encoding": "base64",
        "path": [
         "colors",
         "data"
        ]
       },
       {
        "data": "AAAAAAIAAAABAAAAAQAAAAIAAAADAAAAAgAAAAQAAAADAAAAAwAAAAQAAAAFAAAABAAAAAYAAAAFAAAABQAAAAYAAAAHAAAABgAAAAgAAAAHAAAABwAAAAgAAAAJAAAACAAAAAoAAAAJAAAACQAAAAoAAAALAAAACgAAAAwAAAALAAAACwAAAAwAAAANAAAADAAAAA4AAAANAAAADQAAAA4AAAAPAAAADgAAAAAAAAAPAAAADwAAAAAAAAABAAAAEAAAABIAAAARAAAAEQAAABIAAAATAAAAEgAAABQAAAATAAAAEwAAABQAAAAVAAAAFAAAABYAAAAVAAAAFQAAABYAAAAXAAAAFgAAABgAAAAXAAAAFwAAABgAAAAZAAAAGAAAABoAAAAZAAAAGQAAABoAAAAbAAAAGgAAABwAAAAbAAAAGwAAABwAAAAdAAAAHAAAAB4AAAAdAAAAHQAAAB4AAAAfAAAAHgAAABAAAAAfAAAAHwAAABAAAAARAAAA",
        "encoding": "base64",
        "path": [
         "indices",
         "data"
        ]
       },
       {
        "data": "AACAPwAAAAAAAAAAAAAAAAAAAAAAAIA/AAAAAAAAAAAAAAAAAAAAAAAAgD8AAAAAAAAAAAAAAAAAAAAAAACAPw==",
        "encoding": "base64",
        "path": [
         "model_matrix",
         "data"
        ]
       },
       {
        "data": "",
        "encoding": "base64",
        "path": [
         "normals",
         "data"
        ]
       },
       {
        "data": "",
        "encoding": "base64",
        "path": [
         "opacity_function",
         "data"
        ]
       },
       {
        "data": "",
        "encoding": "base64",
        "path": [
         "triangles_attribute",
         "data"
        ]
       },
       {
        "data": "AADAfw==",
        "encoding": "base64",
        "path": [
         "uvs",
         "data"
        ]
       },
       {
        "data": "P/wdMNFeAj8AAFTCfcogMNFeAj8AAFjCHl+4Ph5fuD4AAFTCHl+4Ph5fuD4AAFjC0V4CP2sFIK4AAFTC0V4CP2sFIK4AAFjCHl+4Ph5fuL4AAFTCHl+4Ph5fuL4AAFjCkvsJMNFeAr8AAFTC0MkMMNFeAr8AAFjCHl+4vh5fuL4AAFTCHl+4vh5fuL4AAFjC0V4Cv8HhNi4AAFTC0V4Cv8HhNi4AAFjCHl+4vh5fuD4AAFTCHl+4vh5fuD4AAFjCQ58gMAAAAD8AAFjCgW0jMAAAAD8AAFzC8wS1PvMEtT4AAFjC8wS1PvMEtT4AAFzCAAAAP5ccHa4AAFjCAAAAP5ccHa4AAFzC8wS1PvMEtb4AAFjC8wS1PvMEtb4AAFzCsPsMMAAAAL8AAFjC7skPMAAAAL8AAFzC8wS1vvMEtb4AAFjC8wS1vvMEtb4AAFzCAAAAv4aOMy4AAFjCAAAAv4aOMy4AAFzC8wS1vvMEtT4AAFjC8wS1vvMEtT4AAFzC",
        "encoding": "base64",
        "path": [
         "vertices",
         "data"
        ]
       },
       {
        "data": "",
        "encoding": "base64",
        "path": [
         "volume",
         "data"
        ]
       },
       {
        "data": "",
        "encoding": "base64",
        "path": [
         "volume_bounds",
         "data"
        ]
       }
      ],
      "model_module": "k3d",
      "model_module_version": "2.16.1",
      "model_name": "ObjectModel",
      "state": {
       "_view_module": null,
       "_view_module_version": "",
       "_view_name": null,
       "attribute": {
        "dtype": "float32",
        "shape": [
         0
        ]
       },
       "click_callback": false,
       "color": 16721152,
       "colorLegend": false,
       "color_map": {
        "dtype": "float32",
        "shape": [
         1024
        ]
       },
       "color_range": [],
       "colors": {
        "dtype": "uint32",
        "shape": [
         0
        ]
       },
       "compression_level": 0,
       "custom_data": null,
       "flat_shading": true,
       "group": null,
       "hover_callback": false,
       "id": 6890770784,
       "indices": {
        "dtype": "uint32",
        "shape": [
         32,
         3
        ]
       },
       "model_matrix": {
        "dtype": "float32",
        "shape": [
         4,
         4
        ]
       },
       "name": "Mesh #47",
       "normals": {
        "dtype": "float32",
        "shape": [
         0
        ]
       },
       "opacity": 1,
       "opacity_function": {
        "dtype": "float32",
        "shape": [
         0
        ]
       },
       "side": "front",
       "texture": null,
       "texture_file_format": null,
       "triangles_attribute": {
        "dtype": "float32",
        "shape": [
         0
        ]
       },
       "type": "Mesh",
       "uvs": {
        "dtype": "float32",
        "shape": []
       },
       "vertices": {
        "dtype": "float32",
        "shape": [
         32,
         3
        ]
       },
       "visible": true,
       "volume": {
        "dtype": "float32",
        "shape": [
         0
        ]
       },
       "volume_bounds": {
        "dtype": "float32",
        "shape": [
         0
        ]
       },
       "wireframe": false
      }
     },
     "8aaed3ee8e2443edab4d8a3d1b6c04b3": {
      "buffers": [
       {
        "data": "",
        "encoding": "base64",
        "path": [
         "attribute",
         "data"
        ]
       },
       {
        "data": "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",
        "encoding": "base64",
        "path": [
         "color_map",
         "data"
        ]
       },
       {
        "data": "",
        "encoding": "base64",
        "path": [
         "colors",
         "data"
        ]
       },
       {
        "data": "AAAAAAIAAAABAAAAAQAAAAIAAAADAAAAAgAAAAQAAAADAAAAAwAAAAQAAAAFAAAABAAAAAYAAAAFAAAABQAAAAYAAAAHAAAABgAAAAgAAAAHAAAABwAAAAgAAAAJAAAACAAAAAoAAAAJAAAACQAAAAoAAAALAAAACgAAAAwAAAALAAAACwAAAAwAAAANAAAADAAAAA4AAAANAAAADQAAAA4AAAAPAAAADgAAAAAAAAAPAAAADwAAAAAAAAABAAAA",
        "encoding": "base64",
        "path": [
         "indices",
         "data"
        ]
       },
       {
        "data": "AACAPwAAAAAAAAAAAAAAAAAAAAAAAIA/AAAAAAAAAAAAAAAAAAAAAAAAgD8AAAAAAAAAAAAAAAAAAAAAAACAPw==",
        "encoding": "base64",
        "path": [
         "model_matrix",
         "data"
        ]
       },
       {
        "data": "",
        "encoding": "base64",
        "path": [
         "normals",
         "data"
        ]
       },
       {
        "data": "",
        "encoding": "base64",
        "path": [
         "opacity_function",
         "data"
        ]
       },
       {
        "data": "",
        "encoding": "base64",
        "path": [
         "triangles_attribute",
         "data"
        ]
       },
       {
        "data": "AADAfw==",
        "encoding": "base64",
        "path": [
         "uvs",
         "data"
        ]
       },
       {
        "data": "AVgav4KCAb8AALjBAVgav4KCAb8AAMDB/LZIv257jD0AALjB/LZIv257jD0AAMDBgoIBvwFYGj8AALjBgoIBvwFYGj8AAMDBbnuMPfy2SD8AALjBbnuMPfy2SD8AAMDBAVgaP4KCAT8AALjBAVgaP4KCAT8AAMDB/LZIP257jL0AALjB/LZIP257jL0AAMDBgoIBPwFYGr8AALjBgoIBPwFYGr8AAMDBbnuMvfy2SL8AALjBbnuMvfy2SL8AAMDB",
        "encoding": "base64",
        "path": [
         "vertices",
         "data"
        ]
       },
       {
        "data": "",
        "encoding": "base64",
        "path": [
         "volume",
         "data"
        ]
       },
       {
        "data": "",
        "encoding": "base64",
        "path": [
         "volume_bounds",
         "data"
        ]
       }
      ],
      "model_module": "k3d",
      "model_module_version": "2.16.1",
      "model_name": "ObjectModel",
      "state": {
       "_view_module": null,
       "_view_module_version": "",
       "_view_name": null,
       "attribute": {
        "dtype": "float32",
        "shape": [
         0
        ]
       },
       "click_callback": false,
       "color": 13697024,
       "colorLegend": false,
       "color_map": {
        "dtype": "float32",
        "shape": [
         1024
        ]
       },
       "color_range": [],
       "colors": {
        "dtype": "uint32",
        "shape": [
         0
        ]
       },
       "compression_level": 0,
       "custom_data": null,
       "flat_shading": true,
       "group": null,
       "hover_callback": false,
       "id": 6891148096,
       "indices": {
        "dtype": "uint32",
        "shape": [
         16,
         3
        ]
       },
       "model_matrix": {
        "dtype": "float32",
        "shape": [
         4,
         4
        ]
       },
       "name": "Mesh #31",
       "normals": {
        "dtype": "float32",
        "shape": [
         0
        ]
       },
       "opacity": 1,
       "opacity_function": {
        "dtype": "float32",
        "shape": [
         0
        ]
       },
       "side": "front",
       "texture": null,
       "texture_file_format": null,
       "triangles_attribute": {
        "dtype": "float32",
        "shape": [
         0
        ]
       },
       "type": "Mesh",
       "uvs": {
        "dtype": "float32",
        "shape": []
       },
       "vertices": {
        "dtype": "float32",
        "shape": [
         16,
         3
        ]
       },
       "visible": true,
       "volume": {
        "dtype": "float32",
        "shape": [
         0
        ]
       },
       "volume_bounds": {
        "dtype": "float32",
        "shape": [
         0
        ]
       },
       "wireframe": false
      }
     },
     "8ec056ceabb24f539a308ed2d4bf80ca": {
      "buffers": [
       {
        "data": "",
        "encoding": "base64",
        "path": [
         "attribute",
         "data"
        ]
       },
       {
        "data": "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",
        "encoding": "base64",
        "path": [
         "color_map",
         "data"
        ]
       },
       {
        "data": "",
        "encoding": "base64",
        "path": [
         "colors",
         "data"
        ]
       },
       {
        "data": "AAAAAAIAAAABAAAAAQAAAAIAAAADAAAAAgAAAAQAAAADAAAAAwAAAAQAAAAFAAAABAAAAAYAAAAFAAAABQAAAAYAAAAHAAAABgAAAAgAAAAHAAAABwAAAAgAAAAJAAAACAAAAAoAAAAJAAAACQAAAAoAAAALAAAACgAAAAwAAAALAAAACwAAAAwAAAANAAAADAAAAA4AAAANAAAADQAAAA4AAAAPAAAADgAAAAAAAAAPAAAADwAAAAAAAAABAAAAEAAAABIAAAARAAAAEQAAABIAAAATAAAAEgAAABQAAAATAAAAEwAAABQAAAAVAAAAFAAAABYAAAAVAAAAFQAAABYAAAAXAAAAFgAAABgAAAAXAAAAFwAAABgAAAAZAAAAGAAAABoAAAAZAAAAGQAAABoAAAAbAAAAGgAAABwAAAAbAAAAGwAAABwAAAAdAAAAHAAAAB4AAAAdAAAAHQAAAB4AAAAfAAAAHgAAABAAAAAfAAAAHwAAABAAAAARAAAA",
        "encoding": "base64",
        "path": [
         "indices",
         "data"
        ]
       },
       {
        "data": "AACAPwAAAAAAAAAAAAAAAAAAAAAAAIA/AAAAAAAAAAAAAAAAAAAAAAAAgD8AAAAAAAAAAAAAAAAAAAAAAACAPw==",
        "encoding": "base64",
        "path": [
         "model_matrix",
         "data"
        ]
       },
       {
        "data": "",
        "encoding": "base64",
        "path": [
         "normals",
         "data"
        ]
       },
       {
        "data": "",
        "encoding": "base64",
        "path": [
         "opacity_function",
         "data"
        ]
       },
       {
        "data": "",
        "encoding": "base64",
        "path": [
         "triangles_attribute",
         "data"
        ]
       },
       {
        "data": "AADAfw==",
        "encoding": "base64",
        "path": [
         "uvs",
         "data"
        ]
       },
       {
        "data": "Gmr3L2gvIT8AACDClgb9L2gvIT8AACTCRfPjPkXz4z4AACDCRfPjPkXz4z4AACTCaC8hPyfYRa4AACDCaC8hPyfYRa4AACTCRfPjPkXz474AACDCRfPjPkXz474AACTCEfTFL2gvIb8AACDCjJDLL2gvIb8AACTCRfPjvkXz474AACDCRfPjvkXz474AACTCaC8hv8UbYi4AACDCaC8hv8UbYi4AACTCRfPjvkXz4z4AACDCRfPjvkXz4z4AACTCIrD8L5jQHj8AACTCTyYBMJjQHj8AACjCG5ngPhuZ4D4AACTCG5ngPhuZ4D4AACjCmNAeP1PvQq4AACTCmNAeP1PvQq4AACjCG5ngPhuZ4L4AACTCG5ngPhuZ4L4AACjCTfTLL5jQHr8AACTCyZDRL5jQHr8AACjCG5ngvhuZ4L4AACTCG5ngvhuZ4L4AACjCmNAev4nIXi4AACTCmNAev4nIXi4AACjCG5ngvhuZ4D4AACTCG5ngvhuZ4D4AACjC",
        "encoding": "base64",
        "path": [
         "vertices",
         "data"
        ]
       },
       {
        "data": "",
        "encoding": "base64",
        "path": [
         "volume",
         "data"
        ]
       },
       {
        "data": "",
        "encoding": "base64",
        "path": [
         "volume_bounds",
         "data"
        ]
       }
      ],
      "model_module": "k3d",
      "model_module_version": "2.16.1",
      "model_name": "ObjectModel",
      "state": {
       "_view_module": null,
       "_view_module_version": "",
       "_view_name": null,
       "attribute": {
        "dtype": "float32",
        "shape": [
         0
        ]
       },
       "click_callback": false,
       "color": 16387840,
       "colorLegend": false,
       "color_map": {
        "dtype": "float32",
        "shape": [
         1024
        ]
       },
       "color_range": [],
       "colors": {
        "dtype": "uint32",
        "shape": [
         0
        ]
       },
       "compression_level": 0,
       "custom_data": null,
       "flat_shading": true,
       "group": null,
       "hover_callback": false,
       "id": 6890777024,
       "indices": {
        "dtype": "uint32",
        "shape": [
         32,
         3
        ]
       },
       "model_matrix": {
        "dtype": "float32",
        "shape": [
         4,
         4
        ]
       },
       "name": "Mesh #41",
       "normals": {
        "dtype": "float32",
        "shape": [
         0
        ]
       },
       "opacity": 1,
       "opacity_function": {
        "dtype": "float32",
        "shape": [
         0
        ]
       },
       "side": "front",
       "texture": null,
       "texture_file_format": null,
       "triangles_attribute": {
        "dtype": "float32",
        "shape": [
         0
        ]
       },
       "type": "Mesh",
       "uvs": {
        "dtype": "float32",
        "shape": []
       },
       "vertices": {
        "dtype": "float32",
        "shape": [
         32,
         3
        ]
       },
       "visible": true,
       "volume": {
        "dtype": "float32",
        "shape": [
         0
        ]
       },
       "volume_bounds": {
        "dtype": "float32",
        "shape": [
         0
        ]
       },
       "wireframe": false
      }
     },
     "945ed107b4d645168dfa8fddc6dc13d8": {
      "buffers": [
       {
        "data": "",
        "encoding": "base64",
        "path": [
         "attribute",
         "data"
        ]
       },
       {
        "data": "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",
        "encoding": "base64",
        "path": [
         "color_map",
         "data"
        ]
       },
       {
        "data": "",
        "encoding": "base64",
        "path": [
         "colors",
         "data"
        ]
       },
       {
        "data": "AAAAAAIAAAABAAAAAQAAAAIAAAADAAAAAgAAAAQAAAADAAAAAwAAAAQAAAAFAAAABAAAAAYAAAAFAAAABQAAAAYAAAAHAAAABgAAAAgAAAAHAAAABwAAAAgAAAAJAAAACAAAAAoAAAAJAAAACQAAAAoAAAALAAAACgAAAAwAAAALAAAACwAAAAwAAAANAAAADAAAAA4AAAANAAAADQAAAA4AAAAPAAAADgAAAAAAAAAPAAAADwAAAAAAAAABAAAA",
        "encoding": "base64",
        "path": [
         "indices",
         "data"
        ]
       },
       {
        "data": "AACAPwAAAAAAAAAAAAAAAAAAAAAAAIA/AAAAAAAAAAAAAAAAAAAAAAAAgD8AAAAAAAAAAAAAAAAAAAAAAACAPw==",
        "encoding": "base64",
        "path": [
         "model_matrix",
         "data"
        ]
       },
       {
        "data": "",
        "encoding": "base64",
        "path": [
         "normals",
         "data"
        ]
       },
       {
        "data": "",
        "encoding": "base64",
        "path": [
         "opacity_function",
         "data"
        ]
       },
       {
        "data": "",
        "encoding": "base64",
        "path": [
         "triangles_attribute",
         "data"
        ]
       },
       {
        "data": "AADAfw==",
        "encoding": "base64",
        "path": [
         "uvs",
         "data"
        ]
       },
       {
        "data": "L6F9vwAAAAAAAIC/L6F9vwAAAAAAAADA3lczv95XMz8AAIC/3lczv95XMz8AAADALkGGLS+hfT8AAIC/6AjgLS+hfT8AAADA3lczP95XMz8AAIC/3lczP95XMz8AAADAL6F9P9PlMa0AAIC/L6F9P9PlMa0AAADA3lczP95XM78AAIC/3lczP95XM78AAADAk5KurC+hfb8AAIC/Uoy4LC+hfb8AAADA3lczv95XM78AAIC/3lczv95XM78AAADA",
        "encoding": "base64",
        "path": [
         "vertices",
         "data"
        ]
       },
       {
        "data": "",
        "encoding": "base64",
        "path": [
         "volume",
         "data"
        ]
       },
       {
        "data": "",
        "encoding": "base64",
        "path": [
         "volume_bounds",
         "data"
        ]
       }
      ],
      "model_module": "k3d",
      "model_module_version": "2.16.1",
      "model_name": "ObjectModel",
      "state": {
       "_view_module": null,
       "_view_module_version": "",
       "_view_name": null,
       "attribute": {
        "dtype": "float32",
        "shape": [
         0
        ]
       },
       "click_callback": false,
       "color": 8650752,
       "colorLegend": false,
       "color_map": {
        "dtype": "float32",
        "shape": [
         1024
        ]
       },
       "color_range": [],
       "colors": {
        "dtype": "uint32",
        "shape": [
         0
        ]
       },
       "compression_level": 0,
       "custom_data": null,
       "flat_shading": true,
       "group": null,
       "hover_callback": false,
       "id": 6888439104,
       "indices": {
        "dtype": "uint32",
        "shape": [
         16,
         3
        ]
       },
       "model_matrix": {
        "dtype": "float32",
        "shape": [
         4,
         4
        ]
       },
       "name": "Mesh #2",
       "normals": {
        "dtype": "float32",
        "shape": [
         0
        ]
       },
       "opacity": 1,
       "opacity_function": {
        "dtype": "float32",
        "shape": [
         0
        ]
       },
       "side": "front",
       "texture": null,
       "texture_file_format": null,
       "triangles_attribute": {
        "dtype": "float32",
        "shape": [
         0
        ]
       },
       "type": "Mesh",
       "uvs": {
        "dtype": "float32",
        "shape": []
       },
       "vertices": {
        "dtype": "float32",
        "shape": [
         16,
         3
        ]
       },
       "visible": true,
       "volume": {
        "dtype": "float32",
        "shape": [
         0
        ]
       },
       "volume_bounds": {
        "dtype": "float32",
        "shape": [
         0
        ]
       },
       "wireframe": false
      }
     },
     "a29f64bdb23343b4b246692142ed18f9": {
      "buffers": [
       {
        "data": "",
        "encoding": "base64",
        "path": [
         "attribute",
         "data"
        ]
       },
       {
        "data": "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",
        "encoding": "base64",
        "path": [
         "color_map",
         "data"
        ]
       },
       {
        "data": "",
        "encoding": "base64",
        "path": [
         "colors",
         "data"
        ]
       },
       {
        "data": "AAAAAAIAAAABAAAAAQAAAAIAAAADAAAAAgAAAAQAAAADAAAAAwAAAAQAAAAFAAAABAAAAAYAAAAFAAAABQAAAAYAAAAHAAAABgAAAAgAAAAHAAAABwAAAAgAAAAJAAAACAAAAAoAAAAJAAAACQAAAAoAAAALAAAACgAAAAwAAAALAAAACwAAAAwAAAANAAAADAAAAA4AAAANAAAADQAAAA4AAAAPAAAADgAAAAAAAAAPAAAADwAAAAAAAAABAAAAEAAAABIAAAARAAAAEQAAABIAAAATAAAAEgAAABQAAAATAAAAEwAAABQAAAAVAAAAFAAAABYAAAAVAAAAFQAAABYAAAAXAAAAFgAAABgAAAAXAAAAFwAAABgAAAAZAAAAGAAAABoAAAAZAAAAGQAAABoAAAAbAAAAGgAAABwAAAAbAAAAGwAAABwAAAAdAAAAHAAAAB4AAAAdAAAAHQAAAB4AAAAfAAAAHgAAABAAAAAfAAAAHwAAABAAAAARAAAAIAAAACIAAAAhAAAAIQAAACIAAAAjAAAAIgAAACQAAAAjAAAAIwAAACQAAAAlAAAAJAAAACYAAAAlAAAAJQAAACYAAAAnAAAAJgAAACgAAAAnAAAAJwAAACgAAAApAAAAKAAAACoAAAApAAAAKQAAACoAAAArAAAAKgAAACwAAAArAAAAKwAAACwAAAAtAAAALAAAAC4AAAAtAAAALQAAAC4AAAAvAAAALgAAACAAAAAvAAAALwAAACAAAAAhAAAAMAAAADIAAAAxAAAAMQAAADIAAAAzAAAAMgAAADQAAAAzAAAAMwAAADQAAAA1AAAANAAAADYAAAA1AAAANQAAADYAAAA3AAAANgAAADgAAAA3AAAANwAAADgAAAA5AAAAOAAAADoAAAA5AAAAOQAAADoAAAA7AAAAOgAAADwAAAA7AAAAOwAAADwAAAA9AAAAPAAAAD4AAAA9AAAAPQAAAD4AAAA/AAAAPgAAADAAAAA/AAAAPwAAADAAAAAxAAAAQAAAAEIAAABBAAAAQQAAAEIAAABDAAAAQgAAAEQAAABDAAAAQwAAAEQAAABFAAAARAAAAEYAAABFAAAARQAAAEYAAABHAAAARgAAAEgAAABHAAAARwAAAEgAAABJAAAASAAAAEoAAABJAAAASQAAAEoAAABLAAAASgAAAEwAAABLAAAASwAAAEwAAABNAAAATAAAAE4AAABNAAAATQAAAE4AAABPAAAATgAAAEAAAABPAAAATwAAAEAAAABBAAAAUAAAAFIAAABRAAAAUQAAAFIAAABTAAAAUgAAAFQAAABTAAAAUwAAAFQAAABVAAAAVAAAAFYAAABVAAAAVQAAAFYAAABXAAAAVgAAAFgAAABXAAAAVwAAAFgAAABZAAAAWAAAAFoAAABZAAAAWQAAAFoAAABbAAAAWgAAAFwAAABbAAAAWwAAAFwAAABdAAAAXAAAAF4AAABdAAAAXQAAAF4AAABfAAAAXgAAAFAAAABfAAAAXwAAAFAAAABRAAAAYAAAAGIAAABhAAAAYQAAAGIAAABjAAAAYgAAAGQAAABjAAAAYwAAAGQAAABlAAAAZAAAAGYAAABlAAAAZQAAAGYAAABnAAAAZgAAAGgAAABnAAAAZwAAAGgAAABpAAAAaAAAAGoAAABpAAAAaQAAAGoAAABrAAAAagAAAGwAAABrAAAAawAAAGwAAABtAAAAbAAAAG4AAABtAAAAbQAAAG4AAABvAAAAbgAAAGAAAABvAAAAbwAAAGAAAABhAAAAcAAAAHIAAABxAAAAcQAAAHIAAABzAAAAcgAAAHQAAABzAAAAcwAAAHQAAAB1AAAAdAAAAHYAAAB1AAAAdQAAAHYAAAB3AAAAdgAAAHgAAAB3AAAAdwAAAHgAAAB5AAAAeAAAAHoAAAB5AAAAeQAAAHoAAAB7AAAAegAAAHwAAAB7AAAAewAAAHwAAAB9AAAAfAAAAH4AAAB9AAAAfQAAAH4AAAB/AAAAfgAAAHAAAAB/AAAAfwAAAHAAAABxAAAAgAAAAIIAAACBAAAAgQAAAIIAAACDAAAAggAAAIQAAACDAAAAgwAAAIQAAACFAAAAhAAAAIYAAACFAAAAhQAAAIYAAACHAAAAhgAAAIgAAACHAAAAhwAAAIgAAACJAAAAiAAAAIoAAACJAAAAiQAAAIoAAACLAAAAigAAAIwAAACLAAAAiwAAAIwAAACNAAAAjAAAAI4AAACNAAAAjQAAAI4AAACPAAAAjgAAAIAAAACPAAAAjwAAAIAAAACBAAAAkAAAAJIAAACRAAAAkQAAAJIAAACTAAAAkgAAAJQAAACTAAAAkwAAAJQAAACVAAAAlAAAAJYAAACVAAAAlQAAAJYAAACXAAAAlgAAAJgAAACXAAAAlwAAAJgAAACZAAAAmAAAAJoAAACZAAAAmQAAAJoAAACbAAAAmgAAAJwAAACbAAAAmwAAAJwAAACdAAAAnAAAAJ4AAACdAAAAnQAAAJ4AAACfAAAAngAAAJAAAACfAAAAnwAAAJAAAACRAAAAoAAAAKIAAAChAAAAoQAAAKIAAACjAAAAogAAAKQAAACjAAAAowAAAKQAAAClAAAApAAAAKYAAAClAAAApQAAAKYAAACnAAAApgAAAKgAAACnAAAApwAAAKgAAACpAAAAqAAAAKoAAACpAAAAqQAAAKoAAACrAAAAqgAAAKwAAACrAAAAqwAAAKwAAACtAAAArAAAAK4AAACtAAAArQAAAK4AAACvAAAArgAAAKAAAACvAAAArwAAAKAAAAChAAAAsAAAALIAAACxAAAAsQAAALIAAACzAAAAsgAAALQAAACzAAAAswAAALQAAAC1AAAAtAAAALYAAAC1AAAAtQAAALYAAAC3AAAAtgAAALgAAAC3AAAAtwAAALgAAAC5AAAAuAAAALoAAAC5AAAAuQAAALoAAAC7AAAAugAAALwAAAC7AAAAuwAAALwAAAC9AAAAvAAAAL4AAAC9AAAAvQAAAL4AAAC/AAAAvgAAALAAAAC/AAAAvwAAALAAAACxAAAAwAAAAMIAAADBAAAAwQAAAMIAAADDAAAAwgAAAMQAAADDAAAAwwAAAMQAAADFAAAAxAAAAMYAAADFAAAAxQAAAMYAAADHAAAAxgAAAMgAAADHAAAAxwAAAMgAAADJAAAAyAAAAMoAAADJAAAAyQAAAMoAAADLAAAAygAAAMwAAADLAAAAywAAAMwAAADNAAAAzAAAAM4AAADNAAAAzQAAAM4AAADPAAAAzgAAAMAAAADPAAAAzwAAAMAAAADBAAAA",
        "encoding": "base64",
        "path": [
         "indices",
         "data"
        ]
       },
       {
        "data": "AACAPwAAAAAAAAAAAAAAAAAAAAAAAIA/AAAAAAAAAAAAAAAAAAAAAAAAgD8AAAAAAAAAAAAAAAAAAAAAAACAPw==",
        "encoding": "base64",
        "path": [
         "model_matrix",
         "data"
        ]
       },
       {
        "data": "",
        "encoding": "base64",
        "path": [
         "normals",
         "data"
        ]
       },
       {
        "data": "",
        "encoding": "base64",
        "path": [
         "opacity_function",
         "data"
        ]
       },
       {
        "data": "",
        "encoding": "base64",
        "path": [
         "triangles_attribute",
         "data"
        ]
       },
       {
        "data": "AADAfw==",
        "encoding": "base64",
        "path": [
         "uvs",
         "data"
        ]
       },
       {
        "data": "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",
        "encoding": "base64",
        "path": [
         "vertices",
         "data"
        ]
       },
       {
        "data": "",
        "encoding": "base64",
        "path": [
         "volume",
         "data"
        ]
       },
       {
        "data": "",
        "encoding": "base64",
        "path": [
         "volume_bounds",
         "data"
        ]
       }
      ],
      "model_module": "k3d",
      "model_module_version": "2.16.1",
      "model_name": "ObjectModel",
      "state": {
       "_view_module": null,
       "_view_module_version": "",
       "_view_name": null,
       "attribute": {
        "dtype": "float32",
        "shape": [
         0
        ]
       },
       "click_callback": false,
       "color": 159,
       "colorLegend": false,
       "color_map": {
        "dtype": "float32",
        "shape": [
         1024
        ]
       },
       "color_range": [],
       "colors": {
        "dtype": "uint32",
        "shape": [
         0
        ]
       },
       "compression_level": 0,
       "custom_data": null,
       "flat_shading": true,
       "group": null,
       "hover_callback": false,
       "id": 6889343840,
       "indices": {
        "dtype": "uint32",
        "shape": [
         208,
         3
        ]
       },
       "model_matrix": {
        "dtype": "float32",
        "shape": [
         4,
         4
        ]
       },
       "name": "Mesh #11",
       "normals": {
        "dtype": "float32",
        "shape": [
         0
        ]
       },
       "opacity": 1,
       "opacity_function": {
        "dtype": "float32",
        "shape": [
         0
        ]
       },
       "side": "front",
       "texture": null,
       "texture_file_format": null,
       "triangles_attribute": {
        "dtype": "float32",
        "shape": [
         0
        ]
       },
       "type": "Mesh",
       "uvs": {
        "dtype": "float32",
        "shape": []
       },
       "vertices": {
        "dtype": "float32",
        "shape": [
         208,
         3
        ]
       },
       "visible": true,
       "volume": {
        "dtype": "float32",
        "shape": [
         0
        ]
       },
       "volume_bounds": {
        "dtype": "float32",
        "shape": [
         0
        ]
       },
       "wireframe": false
      }
     },
     "a8aa2dca75b546acb3ecc5f4b10a3357": {
      "buffers": [
       {
        "data": "",
        "encoding": "base64",
        "path": [
         "attribute",
         "data"
        ]
       },
       {
        "data": "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",
        "encoding": "base64",
        "path": [
         "color_map",
         "data"
        ]
       },
       {
        "data": "",
        "encoding": "base64",
        "path": [
         "colors",
         "data"
        ]
       },
       {
        "data": "AAAAAAIAAAABAAAAAQAAAAIAAAADAAAAAgAAAAQAAAADAAAAAwAAAAQAAAAFAAAABAAAAAYAAAAFAAAABQAAAAYAAAAHAAAABgAAAAgAAAAHAAAABwAAAAgAAAAJAAAACAAAAAoAAAAJAAAACQAAAAoAAAALAAAACgAAAAwAAAALAAAACwAAAAwAAAANAAAADAAAAA4AAAANAAAADQAAAA4AAAAPAAAADgAAAAAAAAAPAAAADwAAAAAAAAABAAAAEAAAABIAAAARAAAAEQAAABIAAAATAAAAEgAAABQAAAATAAAAEwAAABQAAAAVAAAAFAAAABYAAAAVAAAAFQAAABYAAAAXAAAAFgAAABgAAAAXAAAAFwAAABgAAAAZAAAAGAAAABoAAAAZAAAAGQAAABoAAAAbAAAAGgAAABwAAAAbAAAAGwAAABwAAAAdAAAAHAAAAB4AAAAdAAAAHQAAAB4AAAAfAAAAHgAAABAAAAAfAAAAHwAAABAAAAARAAAA",
        "encoding": "base64",
        "path": [
         "indices",
         "data"
        ]
       },
       {
        "data": "AACAPwAAAAAAAAAAAAAAAAAAAAAAAIA/AAAAAAAAAAAAAAAAAAAAAAAAgD8AAAAAAAAAAAAAAAAAAAAAAACAPw==",
        "encoding": "base64",
        "path": [
         "model_matrix",
         "data"
        ]
       },
       {
        "data": "",
        "encoding": "base64",
        "path": [
         "normals",
         "data"
        ]
       },
       {
        "data": "",
        "encoding": "base64",
        "path": [
         "opacity_function",
         "data"
        ]
       },
       {
        "data": "",
        "encoding": "base64",
        "path": [
         "triangles_attribute",
         "data"
        ]
       },
       {
        "data": "AADAfw==",
        "encoding": "base64",
        "path": [
         "uvs",
         "data"
        ]
       },
       {
        "data": "xUMRv33I874AAODBxUMRv33I874AAOjBdeg8v+83hD0AAODBdeg8v+83hD0AAOjBfcjzvsVDET8AAODBfcjzvsVDET8AAOjB7zeEPXXoPD8AAODB7zeEPXXoPD8AAOjBxUMRP33I8z4AAODBxUMRP33I8z4AAOjBdeg8P+83hL0AAODBdeg8P+83hL0AAOjBfcjzPsVDEb8AAODBfcjzPsVDEb8AAOjB7zeEvXXoPL8AAODB7zeEvXXoPL8AAOjB7HIPv2K88L4AAOjB7HIPv2K88L4AAPDB84s6v9aQgj0AAOjB84s6v9aQgj0AAPDBYrzwvuxyDz8AAOjBYrzwvuxyDz8AAPDB1pCCPfOLOj8AAOjB1pCCPfOLOj8AAPDB7HIPP2K88D4AAOjB7HIPP2K88D4AAPDB84s6P9aQgr0AAOjB84s6P9aQgr0AAPDBYrzwPuxyD78AAOjBYrzwPuxyD78AAPDB1pCCvfOLOr8AAOjB1pCCvfOLOr8AAPDB",
        "encoding": "base64",
        "path": [
         "vertices",
         "data"
        ]
       },
       {
        "data": "",
        "encoding": "base64",
        "path": [
         "volume",
         "data"
        ]
       },
       {
        "data": "",
        "encoding": "base64",
        "path": [
         "volume_bounds",
         "data"
        ]
       }
      ],
      "model_module": "k3d",
      "model_module_version": "2.16.1",
      "model_name": "ObjectModel",
      "state": {
       "_view_module": null,
       "_view_module_version": "",
       "_view_name": null,
       "attribute": {
        "dtype": "float32",
        "shape": [
         0
        ]
       },
       "click_callback": false,
       "color": 14548992,
       "colorLegend": false,
       "color_map": {
        "dtype": "float32",
        "shape": [
         1024
        ]
       },
       "color_range": [],
       "colors": {
        "dtype": "uint32",
        "shape": [
         0
        ]
       },
       "compression_level": 0,
       "custom_data": null,
       "flat_shading": true,
       "group": null,
       "hover_callback": false,
       "id": 6890962144,
       "indices": {
        "dtype": "uint32",
        "shape": [
         32,
         3
        ]
       },
       "model_matrix": {
        "dtype": "float32",
        "shape": [
         4,
         4
        ]
       },
       "name": "Mesh #34",
       "normals": {
        "dtype": "float32",
        "shape": [
         0
        ]
       },
       "opacity": 1,
       "opacity_function": {
        "dtype": "float32",
        "shape": [
         0
        ]
       },
       "side": "front",
       "texture": null,
       "texture_file_format": null,
       "triangles_attribute": {
        "dtype": "float32",
        "shape": [
         0
        ]
       },
       "type": "Mesh",
       "uvs": {
        "dtype": "float32",
        "shape": []
       },
       "vertices": {
        "dtype": "float32",
        "shape": [
         32,
         3
        ]
       },
       "visible": true,
       "volume": {
        "dtype": "float32",
        "shape": [
         0
        ]
       },
       "volume_bounds": {
        "dtype": "float32",
        "shape": [
         0
        ]
       },
       "wireframe": false
      }
     },
     "ab5bc63cd581450c9ed34059f5b74bd9": {
      "buffers": [
       {
        "data": "",
        "encoding": "base64",
        "path": [
         "attribute",
         "data"
        ]
       },
       {
        "data": "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",
        "encoding": "base64",
        "path": [
         "color_map",
         "data"
        ]
       },
       {
        "data": "",
        "encoding": "base64",
        "path": [
         "colors",
         "data"
        ]
       },
       {
        "data": "AAAAAAIAAAABAAAAAQAAAAIAAAADAAAAAgAAAAQAAAADAAAAAwAAAAQAAAAFAAAABAAAAAYAAAAFAAAABQAAAAYAAAAHAAAABgAAAAgAAAAHAAAABwAAAAgAAAAJAAAACAAAAAoAAAAJAAAACQAAAAoAAAALAAAACgAAAAwAAAALAAAACwAAAAwAAAANAAAADAAAAA4AAAANAAAADQAAAA4AAAAPAAAADgAAAAAAAAAPAAAADwAAAAAAAAABAAAA",
        "encoding": "base64",
        "path": [
         "indices",
         "data"
        ]
       },
       {
        "data": "AACAPwAAAAAAAAAAAAAAAAAAAAAAAIA/AAAAAAAAAAAAAAAAAAAAAAAAgD8AAAAAAAAAAAAAAAAAAAAAAACAPw==",
        "encoding": "base64",
        "path": [
         "model_matrix",
         "data"
        ]
       },
       {
        "data": "",
        "encoding": "base64",
        "path": [
         "normals",
         "data"
        ]
       },
       {
        "data": "",
        "encoding": "base64",
        "path": [
         "opacity_function",
         "data"
        ]
       },
       {
        "data": "",
        "encoding": "base64",
        "path": [
         "triangles_attribute",
         "data"
        ]
       },
       {
        "data": "AADAfw==",
        "encoding": "base64",
        "path": [
         "uvs",
         "data"
        ]
       },
       {
        "data": "8b1eP5Qkoj4AAADB8b1eP5Qkoj4AABDBGdRWPzRayL4AAADBGdRWPzRayL4AABDBlCSiPvG9Xr8AAADBlCSiPvG9Xr8AABDBNFrIvhnUVr8AAADBNFrIvhnUVr8AABDB8b1ev5Qkor4AAADB8b1ev5Qkor4AABDBGdRWvzRayD4AAADBGdRWvzRayD4AABDBlCSivvG9Xj8AAADBlCSivvG9Xj8AABDBNFrIPhnUVj8AAADBNFrIPhnUVj8AABDB",
        "encoding": "base64",
        "path": [
         "vertices",
         "data"
        ]
       },
       {
        "data": "",
        "encoding": "base64",
        "path": [
         "volume",
         "data"
        ]
       },
       {
        "data": "",
        "encoding": "base64",
        "path": [
         "volume_bounds",
         "data"
        ]
       }
      ],
      "model_module": "k3d",
      "model_module_version": "2.16.1",
      "model_name": "ObjectModel",
      "state": {
       "_view_module": null,
       "_view_module_version": "",
       "_view_name": null,
       "attribute": {
        "dtype": "float32",
        "shape": [
         0
        ]
       },
       "click_callback": false,
       "color": 10682368,
       "colorLegend": false,
       "color_map": {
        "dtype": "float32",
        "shape": [
         1024
        ]
       },
       "color_range": [],
       "colors": {
        "dtype": "uint32",
        "shape": [
         0
        ]
       },
       "compression_level": 0,
       "custom_data": null,
       "flat_shading": true,
       "group": null,
       "hover_callback": false,
       "id": 6890948512,
       "indices": {
        "dtype": "uint32",
        "shape": [
         16,
         3
        ]
       },
       "model_matrix": {
        "dtype": "float32",
        "shape": [
         4,
         4
        ]
       },
       "name": "Mesh #17",
       "normals": {
        "dtype": "float32",
        "shape": [
         0
        ]
       },
       "opacity": 1,
       "opacity_function": {
        "dtype": "float32",
        "shape": [
         0
        ]
       },
       "side": "front",
       "texture": null,
       "texture_file_format": null,
       "triangles_attribute": {
        "dtype": "float32",
        "shape": [
         0
        ]
       },
       "type": "Mesh",
       "uvs": {
        "dtype": "float32",
        "shape": []
       },
       "vertices": {
        "dtype": "float32",
        "shape": [
         16,
         3
        ]
       },
       "visible": true,
       "volume": {
        "dtype": "float32",
        "shape": [
         0
        ]
       },
       "volume_bounds": {
        "dtype": "float32",
        "shape": [
         0
        ]
       },
       "wireframe": false
      }
     },
     "b26fe25832c14e0abc63e2bcd31c53b3": {
      "buffers": [
       {
        "data": "",
        "encoding": "base64",
        "path": [
         "attribute",
         "data"
        ]
       },
       {
        "data": "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",
        "encoding": "base64",
        "path": [
         "color_map",
         "data"
        ]
       },
       {
        "data": "",
        "encoding": "base64",
        "path": [
         "colors",
         "data"
        ]
       },
       {
        "data": "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",
        "encoding": "base64",
        "path": [
         "indices",
         "data"
        ]
       },
       {
        "data": "AACAPwAAAAAAAAAAAAAAAAAAAAAAAIA/AAAAAAAAAAAAAAAAAAAAAAAAgD8AAAAAAAAAAAAAAAAAAAAAAACAPw==",
        "encoding": "base64",
        "path": [
         "model_matrix",
         "data"
        ]
       },
       {
        "data": "",
        "encoding": "base64",
        "path": [
         "normals",
         "data"
        ]
       },
       {
        "data": "",
        "encoding": "base64",
        "path": [
         "opacity_function",
         "data"
        ]
       },
       {
        "data": "",
        "encoding": "base64",
        "path": [
         "triangles_attribute",
         "data"
        ]
       },
       {
        "data": "AADAfw==",
        "encoding": "base64",
        "path": [
         "uvs",
         "data"
        ]
       },
       {
        "data": "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",
        "encoding": "base64",
        "path": [
         "vertices",
         "data"
        ]
       },
       {
        "data": "",
        "encoding": "base64",
        "path": [
         "volume",
         "data"
        ]
       },
       {
        "data": "",
        "encoding": "base64",
        "path": [
         "volume_bounds",
         "data"
        ]
       }
      ],
      "model_module": "k3d",
      "model_module_version": "2.16.1",
      "model_name": "ObjectModel",
      "state": {
       "_view_module": null,
       "_view_module_version": "",
       "_view_name": null,
       "attribute": {
        "dtype": "float32",
        "shape": [
         0
        ]
       },
       "click_callback": false,
       "color": 172,
       "colorLegend": false,
       "color_map": {
        "dtype": "float32",
        "shape": [
         1024
        ]
       },
       "color_range": [],
       "colors": {
        "dtype": "uint32",
        "shape": [
         0
        ]
       },
       "compression_level": 0,
       "custom_data": null,
       "flat_shading": true,
       "group": null,
       "hover_callback": false,
       "id": 6891340096,
       "indices": {
        "dtype": "uint32",
        "shape": [
         176,
         3
        ]
       },
       "model_matrix": {
        "dtype": "float32",
        "shape": [
         4,
         4
        ]
       },
       "name": "Mesh #8",
       "normals": {
        "dtype": "float32",
        "shape": [
         0
        ]
       },
       "opacity": 1,
       "opacity_function": {
        "dtype": "float32",
        "shape": [
         0
        ]
       },
       "side": "front",
       "texture": null,
       "texture_file_format": null,
       "triangles_attribute": {
        "dtype": "float32",
        "shape": [
         0
        ]
       },
       "type": "Mesh",
       "uvs": {
        "dtype": "float32",
        "shape": []
       },
       "vertices": {
        "dtype": "float32",
        "shape": [
         176,
         3
        ]
       },
       "visible": true,
       "volume": {
        "dtype": "float32",
        "shape": [
         0
        ]
       },
       "volume_bounds": {
        "dtype": "float32",
        "shape": [
         0
        ]
       },
       "wireframe": false
      }
     },
     "b8a68cd8074941e6a43aca91b481ee8d": {
      "buffers": [
       {
        "data": "",
        "encoding": "base64",
        "path": [
         "attribute",
         "data"
        ]
       },
       {
        "data": "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",
        "encoding": "base64",
        "path": [
         "color_map",
         "data"
        ]
       },
       {
        "data": "",
        "encoding": "base64",
        "path": [
         "colors",
         "data"
        ]
       },
       {
        "data": "AAAAAAIAAAABAAAAAQAAAAIAAAADAAAAAgAAAAQAAAADAAAAAwAAAAQAAAAFAAAABAAAAAYAAAAFAAAABQAAAAYAAAAHAAAABgAAAAgAAAAHAAAABwAAAAgAAAAJAAAACAAAAAoAAAAJAAAACQAAAAoAAAALAAAACgAAAAwAAAALAAAACwAAAAwAAAANAAAADAAAAA4AAAANAAAADQAAAA4AAAAPAAAADgAAAAAAAAAPAAAADwAAAAAAAAABAAAA",
        "encoding": "base64",
        "path": [
         "indices",
         "data"
        ]
       },
       {
        "data": "AACAPwAAAAAAAAAAAAAAAAAAAAAAAIA/AAAAAAAAAAAAAAAAAAAAAAAAgD8AAAAAAAAAAAAAAAAAAAAAAACAPw==",
        "encoding": "base64",
        "path": [
         "model_matrix",
         "data"
        ]
       },
       {
        "data": "",
        "encoding": "base64",
        "path": [
         "normals",
         "data"
        ]
       },
       {
        "data": "",
        "encoding": "base64",
        "path": [
         "opacity_function",
         "data"
        ]
       },
       {
        "data": "",
        "encoding": "base64",
        "path": [
         "triangles_attribute",
         "data"
        ]
       },
       {
        "data": "AADAfw==",
        "encoding": "base64",
        "path": [
         "uvs",
         "data"
        ]
       },
       {
        "data": "PKibvhDVVb8AAEDBPKibvhDVVb8AAFDBQTxOv5lWwL4AAEDBQTxOv5lWwL4AAFDBENVVvzyomz4AAEDBENVVvzyomz4AAFDBmVbAvkE8Tj8AAEDBmVbAvkE8Tj8AAFDBPKibPhDVVT8AAEDBPKibPhDVVT8AAFDBQTxOP5lWwD4AAEDBQTxOP5lWwD4AAFDBENVVPzyom74AAEDBENVVPzyom74AAFDBmVbAPkE8Tr8AAEDBmVbAPkE8Tr8AAFDB",
        "encoding": "base64",
        "path": [
         "vertices",
         "data"
        ]
       },
       {
        "data": "",
        "encoding": "base64",
        "path": [
         "volume",
         "data"
        ]
       },
       {
        "data": "",
        "encoding": "base64",
        "path": [
         "volume_bounds",
         "data"
        ]
       }
      ],
      "model_module": "k3d",
      "model_module_version": "2.16.1",
      "model_name": "ObjectModel",
      "state": {
       "_view_module": null,
       "_view_module_version": "",
       "_view_name": null,
       "attribute": {
        "dtype": "float32",
        "shape": [
         0
        ]
       },
       "click_callback": false,
       "color": 11599872,
       "colorLegend": false,
       "color_map": {
        "dtype": "float32",
        "shape": [
         1024
        ]
       },
       "color_range": [],
       "colors": {
        "dtype": "uint32",
        "shape": [
         0
        ]
       },
       "compression_level": 0,
       "custom_data": null,
       "flat_shading": true,
       "group": null,
       "hover_callback": false,
       "id": 6891344608,
       "indices": {
        "dtype": "uint32",
        "shape": [
         16,
         3
        ]
       },
       "model_matrix": {
        "dtype": "float32",
        "shape": [
         4,
         4
        ]
       },
       "name": "Mesh #21",
       "normals": {
        "dtype": "float32",
        "shape": [
         0
        ]
       },
       "opacity": 1,
       "opacity_function": {
        "dtype": "float32",
        "shape": [
         0
        ]
       },
       "side": "front",
       "texture": null,
       "texture_file_format": null,
       "triangles_attribute": {
        "dtype": "float32",
        "shape": [
         0
        ]
       },
       "type": "Mesh",
       "uvs": {
        "dtype": "float32",
        "shape": []
       },
       "vertices": {
        "dtype": "float32",
        "shape": [
         16,
         3
        ]
       },
       "visible": true,
       "volume": {
        "dtype": "float32",
        "shape": [
         0
        ]
       },
       "volume_bounds": {
        "dtype": "float32",
        "shape": [
         0
        ]
       },
       "wireframe": false
      }
     },
     "c44859a76a644c2a97853486551dd371": {
      "buffers": [
       {
        "data": "",
        "encoding": "base64",
        "path": [
         "attribute",
         "data"
        ]
       },
       {
        "data": "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",
        "encoding": "base64",
        "path": [
         "color_map",
         "data"
        ]
       },
       {
        "data": "",
        "encoding": "base64",
        "path": [
         "colors",
         "data"
        ]
       },
       {
        "data": "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",
        "encoding": "base64",
        "path": [
         "indices",
         "data"
        ]
       },
       {
        "data": "AACAPwAAAAAAAAAAAAAAAAAAAAAAAIA/AAAAAAAAAAAAAAAAAAAAAAAAgD8AAAAAAAAAAAAAAAAAAAAAAACAPw==",
        "encoding": "base64",
        "path": [
         "model_matrix",
         "data"
        ]
       },
       {
        "data": "",
        "encoding": "base64",
        "path": [
         "normals",
         "data"
        ]
       },
       {
        "data": "",
        "encoding": "base64",
        "path": [
         "opacity_function",
         "data"
        ]
       },
       {
        "data": "",
        "encoding": "base64",
        "path": [
         "triangles_attribute",
         "data"
        ]
       },
       {
        "data": "AADAfw==",
        "encoding": "base64",
        "path": [
         "uvs",
         "data"
        ]
       },
       {
        "data": "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",
        "encoding": "base64",
        "path": [
         "vertices",
         "data"
        ]
       },
       {
        "data": "",
        "encoding": "base64",
        "path": [
         "volume",
         "data"
        ]
       },
       {
        "data": "",
        "encoding": "base64",
        "path": [
         "volume_bounds",
         "data"
        ]
       }
      ],
      "model_module": "k3d",
      "model_module_version": "2.16.1",
      "model_name": "ObjectModel",
      "state": {
       "_view_module": null,
       "_view_module_version": "",
       "_view_name": null,
       "attribute": {
        "dtype": "float32",
        "shape": [
         0
        ]
       },
       "click_callback": false,
       "color": 141,
       "colorLegend": false,
       "color_map": {
        "dtype": "float32",
        "shape": [
         1024
        ]
       },
       "color_range": [],
       "colors": {
        "dtype": "uint32",
        "shape": [
         0
        ]
       },
       "compression_level": 0,
       "custom_data": null,
       "flat_shading": true,
       "group": null,
       "hover_callback": false,
       "id": 6888429696,
       "indices": {
        "dtype": "uint32",
        "shape": [
         176,
         3
        ]
       },
       "model_matrix": {
        "dtype": "float32",
        "shape": [
         4,
         4
        ]
       },
       "name": "Mesh #26",
       "normals": {
        "dtype": "float32",
        "shape": [
         0
        ]
       },
       "opacity": 1,
       "opacity_function": {
        "dtype": "float32",
        "shape": [
         0
        ]
       },
       "side": "front",
       "texture": null,
       "texture_file_format": null,
       "triangles_attribute": {
        "dtype": "float32",
        "shape": [
         0
        ]
       },
       "type": "Mesh",
       "uvs": {
        "dtype": "float32",
        "shape": []
       },
       "vertices": {
        "dtype": "float32",
        "shape": [
         176,
         3
        ]
       },
       "visible": true,
       "volume": {
        "dtype": "float32",
        "shape": [
         0
        ]
       },
       "volume_bounds": {
        "dtype": "float32",
        "shape": [
         0
        ]
       },
       "wireframe": false
      }
     },
     "c4be1783eacc4d46a7d286976f4b93c8": {
      "buffers": [
       {
        "data": "",
        "encoding": "base64",
        "path": [
         "attribute",
         "data"
        ]
       },
       {
        "data": "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",
        "encoding": "base64",
        "path": [
         "color_map",
         "data"
        ]
       },
       {
        "data": "",
        "encoding": "base64",
        "path": [
         "colors",
         "data"
        ]
       },
       {
        "data": "AAAAAAIAAAABAAAAAQAAAAIAAAADAAAAAgAAAAQAAAADAAAAAwAAAAQAAAAFAAAABAAAAAYAAAAFAAAABQAAAAYAAAAHAAAABgAAAAgAAAAHAAAABwAAAAgAAAAJAAAACAAAAAoAAAAJAAAACQAAAAoAAAALAAAACgAAAAwAAAALAAAACwAAAAwAAAANAAAADAAAAA4AAAANAAAADQAAAA4AAAAPAAAADgAAAAAAAAAPAAAADwAAAAAAAAABAAAAEAAAABIAAAARAAAAEQAAABIAAAATAAAAEgAAABQAAAATAAAAEwAAABQAAAAVAAAAFAAAABYAAAAVAAAAFQAAABYAAAAXAAAAFgAAABgAAAAXAAAAFwAAABgAAAAZAAAAGAAAABoAAAAZAAAAGQAAABoAAAAbAAAAGgAAABwAAAAbAAAAGwAAABwAAAAdAAAAHAAAAB4AAAAdAAAAHQAAAB4AAAAfAAAAHgAAABAAAAAfAAAAHwAAABAAAAARAAAA",
        "encoding": "base64",
        "path": [
         "indices",
         "data"
        ]
       },
       {
        "data": "AACAPwAAAAAAAAAAAAAAAAAAAAAAAIA/AAAAAAAAAAAAAAAAAAAAAAAAgD8AAAAAAAAAAAAAAAAAAAAAAACAPw==",
        "encoding": "base64",
        "path": [
         "model_matrix",
         "data"
        ]
       },
       {
        "data": "",
        "encoding": "base64",
        "path": [
         "normals",
         "data"
        ]
       },
       {
        "data": "",
        "encoding": "base64",
        "path": [
         "opacity_function",
         "data"
        ]
       },
       {
        "data": "",
        "encoding": "base64",
        "path": [
         "triangles_attribute",
         "data"
        ]
       },
       {
        "data": "AADAfw==",
        "encoding": "base64",
        "path": [
         "uvs",
         "data"
        ]
       },
       {
        "data": "EGqYvqBgUb8AAGDBEGqYvqBgUb8AAHDBVfBJv8tUvL4AAGDBVfBJv8tUvL4AAHDBoGBRvxBqmD4AAGDBoGBRvxBqmD4AAHDBy1S8vlXwST8AAGDBy1S8vlXwST8AAHDBEGqYPqBgUT8AAGDBEGqYPqBgUT8AAHDBVfBJP8tUvD4AAGDBVfBJP8tUvD4AAHDBoGBRPxBqmL4AAGDBoGBRPxBqmL4AAHDBy1S8PlXwSb8AAGDBy1S8PlXwSb8AAHDB+sqWvmgmT78AAHDB+sqWvmgmT78AAIDBX8pHv+RTur4AAHDBX8pHv+RTur4AAIDBaCZPv/rKlj4AAHDBaCZPv/rKlj4AAIDB5FO6vl/KRz8AAHDB5FO6vl/KRz8AAIDB+sqWPmgmTz8AAHDB+sqWPmgmTz8AAIDBX8pHP+RTuj4AAHDBX8pHP+RTuj4AAIDBaCZPP/rKlr4AAHDBaCZPP/rKlr4AAIDB5FO6Pl/KR78AAHDB5FO6Pl/KR78AAIDB",
        "encoding": "base64",
        "path": [
         "vertices",
         "data"
        ]
       },
       {
        "data": "",
        "encoding": "base64",
        "path": [
         "volume",
         "data"
        ]
       },
       {
        "data": "",
        "encoding": "base64",
        "path": [
         "volume_bounds",
         "data"
        ]
       }
      ],
      "model_module": "k3d",
      "model_module_version": "2.16.1",
      "model_name": "ObjectModel",
      "state": {
       "_view_module": null,
       "_view_module_version": "",
       "_view_name": null,
       "attribute": {
        "dtype": "float32",
        "shape": [
         0
        ]
       },
       "click_callback": false,
       "color": 12189696,
       "colorLegend": false,
       "color_map": {
        "dtype": "float32",
        "shape": [
         1024
        ]
       },
       "color_range": [],
       "colors": {
        "dtype": "uint32",
        "shape": [
         0
        ]
       },
       "compression_level": 0,
       "custom_data": null,
       "flat_shading": true,
       "group": null,
       "hover_callback": false,
       "id": 6891155872,
       "indices": {
        "dtype": "uint32",
        "shape": [
         32,
         3
        ]
       },
       "model_matrix": {
        "dtype": "float32",
        "shape": [
         4,
         4
        ]
       },
       "name": "Mesh #23",
       "normals": {
        "dtype": "float32",
        "shape": [
         0
        ]
       },
       "opacity": 1,
       "opacity_function": {
        "dtype": "float32",
        "shape": [
         0
        ]
       },
       "side": "front",
       "texture": null,
       "texture_file_format": null,
       "triangles_attribute": {
        "dtype": "float32",
        "shape": [
         0
        ]
       },
       "type": "Mesh",
       "uvs": {
        "dtype": "float32",
        "shape": []
       },
       "vertices": {
        "dtype": "float32",
        "shape": [
         32,
         3
        ]
       },
       "visible": true,
       "volume": {
        "dtype": "float32",
        "shape": [
         0
        ]
       },
       "volume_bounds": {
        "dtype": "float32",
        "shape": [
         0
        ]
       },
       "wireframe": false
      }
     },
     "c532cfb68c6c4e25953856e10d2c57cf": {
      "buffers": [
       {
        "data": "",
        "encoding": "base64",
        "path": [
         "attribute",
         "data"
        ]
       },
       {
        "data": "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",
        "encoding": "base64",
        "path": [
         "color_map",
         "data"
        ]
       },
       {
        "data": "",
        "encoding": "base64",
        "path": [
         "colors",
         "data"
        ]
       },
       {
        "data": "AAAAAAIAAAABAAAAAQAAAAIAAAADAAAAAgAAAAQAAAADAAAAAwAAAAQAAAAFAAAABAAAAAYAAAAFAAAABQAAAAYAAAAHAAAABgAAAAgAAAAHAAAABwAAAAgAAAAJAAAACAAAAAoAAAAJAAAACQAAAAoAAAALAAAACgAAAAwAAAALAAAACwAAAAwAAAANAAAADAAAAA4AAAANAAAADQAAAA4AAAAPAAAADgAAAAAAAAAPAAAADwAAAAAAAAABAAAAEAAAABIAAAARAAAAEQAAABIAAAATAAAAEgAAABQAAAATAAAAEwAAABQAAAAVAAAAFAAAABYAAAAVAAAAFQAAABYAAAAXAAAAFgAAABgAAAAXAAAAFwAAABgAAAAZAAAAGAAAABoAAAAZAAAAGQAAABoAAAAbAAAAGgAAABwAAAAbAAAAGwAAABwAAAAdAAAAHAAAAB4AAAAdAAAAHQAAAB4AAAAfAAAAHgAAABAAAAAfAAAAHwAAABAAAAARAAAAIAAAACIAAAAhAAAAIQAAACIAAAAjAAAAIgAAACQAAAAjAAAAIwAAACQAAAAlAAAAJAAAACYAAAAlAAAAJQAAACYAAAAnAAAAJgAAACgAAAAnAAAAJwAAACgAAAApAAAAKAAAACoAAAApAAAAKQAAACoAAAArAAAAKgAAACwAAAArAAAAKwAAACwAAAAtAAAALAAAAC4AAAAtAAAALQAAAC4AAAAvAAAALgAAACAAAAAvAAAALwAAACAAAAAhAAAA",
        "encoding": "base64",
        "path": [
         "indices",
         "data"
        ]
       },
       {
        "data": "AACAPwAAAAAAAAAAAAAAAAAAAAAAAIA/AAAAAAAAAAAAAAAAAAAAAAAAgD8AAAAAAAAAAAAAAAAAAAAAAACAPw==",
        "encoding": "base64",
        "path": [
         "model_matrix",
         "data"
        ]
       },
       {
        "data": "",
        "encoding": "base64",
        "path": [
         "normals",
         "data"
        ]
       },
       {
        "data": "",
        "encoding": "base64",
        "path": [
         "opacity_function",
         "data"
        ]
       },
       {
        "data": "",
        "encoding": "base64",
        "path": [
         "triangles_attribute",
         "data"
        ]
       },
       {
        "data": "AADAfw==",
        "encoding": "base64",
        "path": [
         "uvs",
         "data"
        ]
       },
       {
        "data": "OzaNQAqW9MDoeNTBi4aYQEwXBMEQIdrBRheZQB2y8cD5nNPBlWekQFalAsEhRdnBpHKhQF1z9sADitHB88KsQPYFBcEqMtfBIGOhQF4IAMEMd8/Bb7OsQKXUCcE0H9XB0PGYQDJ0BMEem87BH0KkQHlADsFFQ9TBxRCNQCjmBcEMd8/BFWGYQG+yD8E0H9XBZ7WEQImFA8EDitHBtgWQQNBRDcEqMtfB68SEQLJt/cD5nNPBOxWQQCCDCMEhRdnBXKGYQIUuBMGnE9rBq/GjQM36DcHOu9/BGEykQCvDAsGmO9nBaJyvQHKPDMHN497BQ4GsQOwYBcEqMtfBktG3QDPlDsFS2tzBBXKsQKLRCcGvKNXBVcK3QOmdE8HX0NrBTiekQEApDsGuUNTBnXevQIf1F8HW+NnBkXyYQJuUD8GvKNXB4MyjQOJgGcHX0NrBZ0eQQNk+DcEqMtfBtpebQCALF8FS2tzBpFaQQCSGCMGmO9nB86abQGtSEsHN497BfAykQAYSDsFmrt/BzFyvQE3eF8GNVuXB64CvQEatDMFS2t7BOtG6QI15FsF6guTB4Y+3QCr4DsFS2tzBMeDCQHHEGMF6guLB64C3QOWaE8FS2trBOtHCQCxnHcF6guDBzFyvQE3eF8E+BtrBG626QJSqIcFmrt/BXeijQA1DGcFS2trBrDivQFQPI8F6guDBZ9mbQCr4FsFS2tzBtimnQHHEIMF6guLBXeibQG5VEsFS2t7BrDinQLUhHMF6guTB",
        "encoding": "base64",
        "path": [
         "vertices",
         "data"
        ]
       },
       {
        "data": "",
        "encoding": "base64",
        "path": [
         "volume",
         "data"
        ]
       },
       {
        "data": "",
        "encoding": "base64",
        "path": [
         "volume_bounds",
         "data"
        ]
       }
      ],
      "model_module": "k3d",
      "model_module_version": "2.16.1",
      "model_name": "ObjectModel",
      "state": {
       "_view_module": null,
       "_view_module_version": "",
       "_view_name": null,
       "attribute": {
        "dtype": "float32",
        "shape": [
         0
        ]
       },
       "click_callback": false,
       "color": 136,
       "colorLegend": false,
       "color_map": {
        "dtype": "float32",
        "shape": [
         1024
        ]
       },
       "color_range": [],
       "colors": {
        "dtype": "uint32",
        "shape": [
         0
        ]
       },
       "compression_level": 0,
       "custom_data": null,
       "flat_shading": true,
       "group": null,
       "hover_callback": false,
       "id": 6891151648,
       "indices": {
        "dtype": "uint32",
        "shape": [
         48,
         3
        ]
       },
       "model_matrix": {
        "dtype": "float32",
        "shape": [
         4,
         4
        ]
       },
       "name": "Mesh #27",
       "normals": {
        "dtype": "float32",
        "shape": [
         0
        ]
       },
       "opacity": 1,
       "opacity_function": {
        "dtype": "float32",
        "shape": [
         0
        ]
       },
       "side": "front",
       "texture": null,
       "texture_file_format": null,
       "triangles_attribute": {
        "dtype": "float32",
        "shape": [
         0
        ]
       },
       "type": "Mesh",
       "uvs": {
        "dtype": "float32",
        "shape": []
       },
       "vertices": {
        "dtype": "float32",
        "shape": [
         48,
         3
        ]
       },
       "visible": true,
       "volume": {
        "dtype": "float32",
        "shape": [
         0
        ]
       },
       "volume_bounds": {
        "dtype": "float32",
        "shape": [
         0
        ]
       },
       "wireframe": false
      }
     },
     "c90b9ec4db86457bbed6e4577856b9c4": {
      "buffers": [
       {
        "data": "",
        "encoding": "base64",
        "path": [
         "attribute",
         "data"
        ]
       },
       {
        "data": "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",
        "encoding": "base64",
        "path": [
         "color_map",
         "data"
        ]
       },
       {
        "data": "",
        "encoding": "base64",
        "path": [
         "colors",
         "data"
        ]
       },
       {
        "data": "AAAAAAIAAAABAAAAAQAAAAIAAAADAAAAAgAAAAQAAAADAAAAAwAAAAQAAAAFAAAABAAAAAYAAAAFAAAABQAAAAYAAAAHAAAABgAAAAgAAAAHAAAABwAAAAgAAAAJAAAACAAAAAoAAAAJAAAACQAAAAoAAAALAAAACgAAAAwAAAALAAAACwAAAAwAAAANAAAADAAAAA4AAAANAAAADQAAAA4AAAAPAAAADgAAAAAAAAAPAAAADwAAAAAAAAABAAAA",
        "encoding": "base64",
        "path": [
         "indices",
         "data"
        ]
       },
       {
        "data": "AACAPwAAAAAAAAAAAAAAAAAAAAAAAIA/AAAAAAAAAAAAAAAAAAAAAAAAgD8AAAAAAAAAAAAAAAAAAAAAAACAPw==",
        "encoding": "base64",
        "path": [
         "model_matrix",
         "data"
        ]
       },
       {
        "data": "",
        "encoding": "base64",
        "path": [
         "normals",
         "data"
        ]
       },
       {
        "data": "",
        "encoding": "base64",
        "path": [
         "opacity_function",
         "data"
        ]
       },
       {
        "data": "",
        "encoding": "base64",
        "path": [
         "triangles_attribute",
         "data"
        ]
       },
       {
        "data": "AADAfw==",
        "encoding": "base64",
        "path": [
         "uvs",
         "data"
        ]
       },
       {
        "data": "JgmavtiaU78AAFDBJgmavtiaU78AAGDBSxZMv7JVvr4AAFDBSxZMv7JVvr4AAGDB2JpTvyYJmj4AAFDB2JpTvyYJmj4AAGDBslW+vksWTD8AAFDBslW+vksWTD8AAGDBJgmaPtiaUz8AAFDBJgmaPtiaUz8AAGDBSxZMP7JVvj4AAFDBSxZMP7JVvj4AAGDB2JpTPyYJmr4AAFDB2JpTPyYJmr4AAGDBslW+PksWTL8AAFDBslW+PksWTL8AAGDB",
        "encoding": "base64",
        "path": [
         "vertices",
         "data"
        ]
       },
       {
        "data": "",
        "encoding": "base64",
        "path": [
         "volume",
         "data"
        ]
       },
       {
        "data": "",
        "encoding": "base64",
        "path": [
         "volume_bounds",
         "data"
        ]
       }
      ],
      "model_module": "k3d",
      "model_module_version": "2.16.1",
      "model_name": "ObjectModel",
      "state": {
       "_view_module": null,
       "_view_module_version": "",
       "_view_name": null,
       "attribute": {
        "dtype": "float32",
        "shape": [
         0
        ]
       },
       "click_callback": false,
       "color": 11927552,
       "colorLegend": false,
       "color_map": {
        "dtype": "float32",
        "shape": [
         1024
        ]
       },
       "color_range": [],
       "colors": {
        "dtype": "uint32",
        "shape": [
         0
        ]
       },
       "compression_level": 0,
       "custom_data": null,
       "flat_shading": true,
       "group": null,
       "hover_callback": false,
       "id": 6891157072,
       "indices": {
        "dtype": "uint32",
        "shape": [
         16,
         3
        ]
       },
       "model_matrix": {
        "dtype": "float32",
        "shape": [
         4,
         4
        ]
       },
       "name": "Mesh #22",
       "normals": {
        "dtype": "float32",
        "shape": [
         0
        ]
       },
       "opacity": 1,
       "opacity_function": {
        "dtype": "float32",
        "shape": [
         0
        ]
       },
       "side": "front",
       "texture": null,
       "texture_file_format": null,
       "triangles_attribute": {
        "dtype": "float32",
        "shape": [
         0
        ]
       },
       "type": "Mesh",
       "uvs": {
        "dtype": "float32",
        "shape": []
       },
       "vertices": {
        "dtype": "float32",
        "shape": [
         16,
         3
        ]
       },
       "visible": true,
       "volume": {
        "dtype": "float32",
        "shape": [
         0
        ]
       },
       "volume_bounds": {
        "dtype": "float32",
        "shape": [
         0
        ]
       },
       "wireframe": false
      }
     },
     "d38cee5eb6f04de7a76d07a8e970af9a": {
      "model_module": "k3d",
      "model_module_version": "2.16.1",
      "model_name": "PlotModel",
      "state": {
       "_backend_version": "2.16.1",
       "antialias": 3,
       "auto_rendering": true,
       "axes": [
        "x",
        "y",
        "z"
       ],
       "axes_helper": 1,
       "axes_helper_colors": [
        16711680,
        65280,
        255
       ],
       "background_color": 16777215,
       "camera": [
        -3.3659089818671792,
        -52.355088534398305,
        -11.751602920459803,
        -3.761366128921509,
        -0.22957801818847656,
        -27.4999999999949,
        0.06941317083946595,
        0.2355418298943722,
        0.9693822043363601
       ],
       "camera_animation": [],
       "camera_auto_fit": true,
       "camera_damping_factor": 0,
       "camera_fov": 60,
       "camera_mode": "trackball",
       "camera_no_pan": false,
       "camera_no_rotate": false,
       "camera_no_zoom": false,
       "camera_pan_speed": 0.3,
       "camera_rotate_speed": 1,
       "camera_zoom_speed": 1.2,
       "clipping_planes": [],
       "colorbar_object_id": -1,
       "colorbar_scientific": false,
       "custom_data": null,
       "fps": 25,
       "fps_meter": false,
       "grid": [
        -1,
        -1,
        -1,
        1,
        1,
        1
       ],
       "grid_auto_fit": true,
       "grid_color": 15132390,
       "grid_visible": true,
       "height": 512,
       "label_color": 4473924,
       "layout": "IPY_MODEL_38e4d24295fa48178e0cdd1b7d0af398",
       "lighting": 3,
       "logarithmic_depth_buffer": true,
       "manipulate_mode": "translate",
       "menu_visibility": true,
       "minimum_fps": -1,
       "mode": "view",
       "name": null,
       "object_ids": [
        6891353296,
        6888439104,
        6891343120,
        6891351520,
        6890962576,
        6890962432,
        6890957200,
        6891340096,
        6890960560,
        6887354784,
        6889343840,
        6890954608,
        6890954320,
        6890952448,
        6890951632,
        6890949952,
        6890948512,
        6890947408,
        6890947264,
        6891158032,
        6891344608,
        6891157072,
        6891155872,
        6891154624,
        6891153952,
        6888429696,
        6891151648,
        6891150208,
        6891149680,
        6890958352,
        6891148096,
        6891146992,
        6890958208,
        6890962144,
        6891143488,
        6890955952,
        6890782016,
        6890956864,
        6890961328,
        6888093312,
        6890777024,
        6890775488,
        6890775392,
        6890961184,
        6890954944,
        6890771792,
        6890770784
       ],
       "rendering_steps": 1,
       "screenshot": "",
       "screenshot_scale": 2,
       "snapshot": "",
       "snapshot_type": "full",
       "time": 0,
       "voxel_paint_color": 0
      }
     },
     "dd4778be3d3e40d5a7cbb8d51575ebed": {
      "buffers": [
       {
        "data": "",
        "encoding": "base64",
        "path": [
         "attribute",
         "data"
        ]
       },
       {
        "data": "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",
        "encoding": "base64",
        "path": [
         "color_map",
         "data"
        ]
       },
       {
        "data": "",
        "encoding": "base64",
        "path": [
         "colors",
         "data"
        ]
       },
       {
        "data": "AAAAAAIAAAABAAAAAQAAAAIAAAADAAAAAgAAAAQAAAADAAAAAwAAAAQAAAAFAAAABAAAAAYAAAAFAAAABQAAAAYAAAAHAAAABgAAAAgAAAAHAAAABwAAAAgAAAAJAAAACAAAAAoAAAAJAAAACQAAAAoAAAALAAAACgAAAAwAAAALAAAACwAAAAwAAAANAAAADAAAAA4AAAANAAAADQAAAA4AAAAPAAAADgAAAAAAAAAPAAAADwAAAAAAAAABAAAA",
        "encoding": "base64",
        "path": [
         "indices",
         "data"
        ]
       },
       {
        "data": "AACAPwAAAAAAAAAAAAAAAAAAAAAAAIA/AAAAAAAAAAAAAAAAAAAAAAAAgD8AAAAAAAAAAAAAAAAAAAAAAACAPw==",
        "encoding": "base64",
        "path": [
         "model_matrix",
         "data"
        ]
       },
       {
        "data": "",
        "encoding": "base64",
        "path": [
         "normals",
         "data"
        ]
       },
       {
        "data": "",
        "encoding": "base64",
        "path": [
         "opacity_function",
         "data"
        ]
       },
       {
        "data": "",
        "encoding": "base64",
        "path": [
         "triangles_attribute",
         "data"
        ]
       },
       {
        "data": "AADAfw==",
        "encoding": "base64",
        "path": [
         "uvs",
         "data"
        ]
       },
       {
        "data": "3zorPvrFcr8AAIDA3zorPvrFcr8AAKDAsGUNv6fvSb8AAIDAsGUNv6fvSb8AAKDA+sVyv986K74AAIDA+sVyv986K74AAKDAp+9Jv7BlDT8AAIDAp+9Jv7BlDT8AAKDA3zorvvrFcj8AAIDA3zorvvrFcj8AAKDAsGUNP6fvST8AAIDAsGUNP6fvST8AAKDA+sVyP986Kz4AAIDA+sVyP986Kz4AAKDAp+9JP7BlDb8AAIDAp+9JP7BlDb8AAKDA",
        "encoding": "base64",
        "path": [
         "vertices",
         "data"
        ]
       },
       {
        "data": "",
        "encoding": "base64",
        "path": [
         "volume",
         "data"
        ]
       },
       {
        "data": "",
        "encoding": "base64",
        "path": [
         "volume_bounds",
         "data"
        ]
       }
      ],
      "model_module": "k3d",
      "model_module_version": "2.16.1",
      "model_name": "ObjectModel",
      "state": {
       "_view_module": null,
       "_view_module_version": "",
       "_view_name": null,
       "attribute": {
        "dtype": "float32",
        "shape": [
         0
        ]
       },
       "click_callback": false,
       "color": 9502720,
       "colorLegend": false,
       "color_map": {
        "dtype": "float32",
        "shape": [
         1024
        ]
       },
       "color_range": [],
       "colors": {
        "dtype": "uint32",
        "shape": [
         0
        ]
       },
       "compression_level": 0,
       "custom_data": null,
       "flat_shading": true,
       "group": null,
       "hover_callback": false,
       "id": 6890954320,
       "indices": {
        "dtype": "uint32",
        "shape": [
         16,
         3
        ]
       },
       "model_matrix": {
        "dtype": "float32",
        "shape": [
         4,
         4
        ]
       },
       "name": "Mesh #13",
       "normals": {
        "dtype": "float32",
        "shape": [
         0
        ]
       },
       "opacity": 1,
       "opacity_function": {
        "dtype": "float32",
        "shape": [
         0
        ]
       },
       "side": "front",
       "texture": null,
       "texture_file_format": null,
       "triangles_attribute": {
        "dtype": "float32",
        "shape": [
         0
        ]
       },
       "type": "Mesh",
       "uvs": {
        "dtype": "float32",
        "shape": []
       },
       "vertices": {
        "dtype": "float32",
        "shape": [
         16,
         3
        ]
       },
       "visible": true,
       "volume": {
        "dtype": "float32",
        "shape": [
         0
        ]
       },
       "volume_bounds": {
        "dtype": "float32",
        "shape": [
         0
        ]
       },
       "wireframe": false
      }
     },
     "e3ecd4d0d5ce48a9982b07e7372b1b6d": {
      "buffers": [
       {
        "data": "",
        "encoding": "base64",
        "path": [
         "attribute",
         "data"
        ]
       },
       {
        "data": "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",
        "encoding": "base64",
        "path": [
         "color_map",
         "data"
        ]
       },
       {
        "data": "",
        "encoding": "base64",
        "path": [
         "colors",
         "data"
        ]
       },
       {
        "data": "AAAAAAIAAAABAAAAAQAAAAIAAAADAAAAAgAAAAQAAAADAAAAAwAAAAQAAAAFAAAABAAAAAYAAAAFAAAABQAAAAYAAAAHAAAABgAAAAgAAAAHAAAABwAAAAgAAAAJAAAACAAAAAoAAAAJAAAACQAAAAoAAAALAAAACgAAAAwAAAALAAAACwAAAAwAAAANAAAADAAAAA4AAAANAAAADQAAAA4AAAAPAAAADgAAAAAAAAAPAAAADwAAAAAAAAABAAAAEAAAABIAAAARAAAAEQAAABIAAAATAAAAEgAAABQAAAATAAAAEwAAABQAAAAVAAAAFAAAABYAAAAVAAAAFQAAABYAAAAXAAAAFgAAABgAAAAXAAAAFwAAABgAAAAZAAAAGAAAABoAAAAZAAAAGQAAABoAAAAbAAAAGgAAABwAAAAbAAAAGwAAABwAAAAdAAAAHAAAAB4AAAAdAAAAHQAAAB4AAAAfAAAAHgAAABAAAAAfAAAAHwAAABAAAAARAAAA",
        "encoding": "base64",
        "path": [
         "indices",
         "data"
        ]
       },
       {
        "data": "AACAPwAAAAAAAAAAAAAAAAAAAAAAAIA/AAAAAAAAAAAAAAAAAAAAAAAAgD8AAAAAAAAAAAAAAAAAAAAAAACAPw==",
        "encoding": "base64",
        "path": [
         "model_matrix",
         "data"
        ]
       },
       {
        "data": "",
        "encoding": "base64",
        "path": [
         "normals",
         "data"
        ]
       },
       {
        "data": "",
        "encoding": "base64",
        "path": [
         "opacity_function",
         "data"
        ]
       },
       {
        "data": "",
        "encoding": "base64",
        "path": [
         "triangles_attribute",
         "data"
        ]
       },
       {
        "data": "AADAfw==",
        "encoding": "base64",
        "path": [
         "uvs",
         "data"
        ]
       },
       {
        "data": "JrTXvg3OOj8AAIjBJrTXvg3OOj8AAJDBG1BfPpFaUD8AAIjBG1BfPpFaUD8AAJDBDc46Pya01z4AAIjBDc46Pya01z4AAJDBkVpQPxtQX74AAIjBkVpQPxtQX74AAJDBJrTXPg3OOr8AAIjBJrTXPg3OOr8AAJDBG1BfvpFaUL8AAIjBG1BfvpFaUL8AAJDBDc46vya0174AAIjBDc46vya0174AAJDBkVpQvxtQXz4AAIjBkVpQvxtQXz4AAJDBVVXVvonAOD8AAJDBVVXVvonAOD8AAJjB4ttcPm4QTj8AAJDB4ttcPm4QTj8AAJjBicA4P1VV1T4AAJDBicA4P1VV1T4AAJjBbhBOP+LbXL4AAJDBbhBOP+LbXL4AAJjBVVXVPonAOL8AAJDBVVXVPonAOL8AAJjB4ttcvm4QTr8AAJDB4ttcvm4QTr8AAJjBicA4v1VV1b4AAJDBicA4v1VV1b4AAJjBbhBOv+LbXD4AAJDBbhBOv+LbXD4AAJjB",
        "encoding": "base64",
        "path": [
         "vertices",
         "data"
        ]
       },
       {
        "data": "",
        "encoding": "base64",
        "path": [
         "volume",
         "data"
        ]
       },
       {
        "data": "",
        "encoding": "base64",
        "path": [
         "volume_bounds",
         "data"
        ]
       }
      ],
      "model_module": "k3d",
      "model_module_version": "2.16.1",
      "model_name": "ObjectModel",
      "state": {
       "_view_module": null,
       "_view_module_version": "",
       "_view_name": null,
       "attribute": {
        "dtype": "float32",
        "shape": [
         0
        ]
       },
       "click_callback": false,
       "color": 12779520,
       "colorLegend": false,
       "color_map": {
        "dtype": "float32",
        "shape": [
         1024
        ]
       },
       "color_range": [],
       "colors": {
        "dtype": "uint32",
        "shape": [
         0
        ]
       },
       "compression_level": 0,
       "custom_data": null,
       "flat_shading": true,
       "group": null,
       "hover_callback": false,
       "id": 6891150208,
       "indices": {
        "dtype": "uint32",
        "shape": [
         32,
         3
        ]
       },
       "model_matrix": {
        "dtype": "float32",
        "shape": [
         4,
         4
        ]
       },
       "name": "Mesh #28",
       "normals": {
        "dtype": "float32",
        "shape": [
         0
        ]
       },
       "opacity": 1,
       "opacity_function": {
        "dtype": "float32",
        "shape": [
         0
        ]
       },
       "side": "front",
       "texture": null,
       "texture_file_format": null,
       "triangles_attribute": {
        "dtype": "float32",
        "shape": [
         0
        ]
       },
       "type": "Mesh",
       "uvs": {
        "dtype": "float32",
        "shape": []
       },
       "vertices": {
        "dtype": "float32",
        "shape": [
         32,
         3
        ]
       },
       "visible": true,
       "volume": {
        "dtype": "float32",
        "shape": [
         0
        ]
       },
       "volume_bounds": {
        "dtype": "float32",
        "shape": [
         0
        ]
       },
       "wireframe": false
      }
     },
     "e4328c30a13e493d93695ac08b1a2b27": {
      "buffers": [
       {
        "data": "",
        "encoding": "base64",
        "path": [
         "attribute",
         "data"
        ]
       },
       {
        "data": "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",
        "encoding": "base64",
        "path": [
         "color_map",
         "data"
        ]
       },
       {
        "data": "",
        "encoding": "base64",
        "path": [
         "colors",
         "data"
        ]
       },
       {
        "data": "AAAAAAIAAAABAAAAAQAAAAIAAAADAAAAAgAAAAQAAAADAAAAAwAAAAQAAAAFAAAABAAAAAYAAAAFAAAABQAAAAYAAAAHAAAABgAAAAgAAAAHAAAABwAAAAgAAAAJAAAACAAAAAoAAAAJAAAACQAAAAoAAAALAAAACgAAAAwAAAALAAAACwAAAAwAAAANAAAADAAAAA4AAAANAAAADQAAAA4AAAAPAAAADgAAAAAAAAAPAAAADwAAAAAAAAABAAAAEAAAABIAAAARAAAAEQAAABIAAAATAAAAEgAAABQAAAATAAAAEwAAABQAAAAVAAAAFAAAABYAAAAVAAAAFQAAABYAAAAXAAAAFgAAABgAAAAXAAAAFwAAABgAAAAZAAAAGAAAABoAAAAZAAAAGQAAABoAAAAbAAAAGgAAABwAAAAbAAAAGwAAABwAAAAdAAAAHAAAAB4AAAAdAAAAHQAAAB4AAAAfAAAAHgAAABAAAAAfAAAAHwAAABAAAAARAAAAIAAAACIAAAAhAAAAIQAAACIAAAAjAAAAIgAAACQAAAAjAAAAIwAAACQAAAAlAAAAJAAAACYAAAAlAAAAJQAAACYAAAAnAAAAJgAAACgAAAAnAAAAJwAAACgAAAApAAAAKAAAACoAAAApAAAAKQAAACoAAAArAAAAKgAAACwAAAArAAAAKwAAACwAAAAtAAAALAAAAC4AAAAtAAAALQAAAC4AAAAvAAAALgAAACAAAAAvAAAALwAAACAAAAAhAAAAMAAAADIAAAAxAAAAMQAAADIAAAAzAAAAMgAAADQAAAAzAAAAMwAAADQAAAA1AAAANAAAADYAAAA1AAAANQAAADYAAAA3AAAANgAAADgAAAA3AAAANwAAADgAAAA5AAAAOAAAADoAAAA5AAAAOQAAADoAAAA7AAAAOgAAADwAAAA7AAAAOwAAADwAAAA9AAAAPAAAAD4AAAA9AAAAPQAAAD4AAAA/AAAAPgAAADAAAAA/AAAAPwAAADAAAAAxAAAAQAAAAEIAAABBAAAAQQAAAEIAAABDAAAAQgAAAEQAAABDAAAAQwAAAEQAAABFAAAARAAAAEYAAABFAAAARQAAAEYAAABHAAAARgAAAEgAAABHAAAARwAAAEgAAABJAAAASAAAAEoAAABJAAAASQAAAEoAAABLAAAASgAAAEwAAABLAAAASwAAAEwAAABNAAAATAAAAE4AAABNAAAATQAAAE4AAABPAAAATgAAAEAAAABPAAAATwAAAEAAAABBAAAAUAAAAFIAAABRAAAAUQAAAFIAAABTAAAAUgAAAFQAAABTAAAAUwAAAFQAAABVAAAAVAAAAFYAAABVAAAAVQAAAFYAAABXAAAAVgAAAFgAAABXAAAAVwAAAFgAAABZAAAAWAAAAFoAAABZAAAAWQAAAFoAAABbAAAAWgAAAFwAAABbAAAAWwAAAFwAAABdAAAAXAAAAF4AAABdAAAAXQAAAF4AAABfAAAAXgAAAFAAAABfAAAAXwAAAFAAAABRAAAA",
        "encoding": "base64",
        "path": [
         "indices",
         "data"
        ]
       },
       {
        "data": "AACAPwAAAAAAAAAAAAAAAAAAAAAAAIA/AAAAAAAAAAAAAAAAAAAAAAAAgD8AAAAAAAAAAAAAAAAAAAAAAACAPw==",
        "encoding": "base64",
        "path": [
         "model_matrix",
         "data"
        ]
       },
       {
        "data": "",
        "encoding": "base64",
        "path": [
         "normals",
         "data"
        ]
       },
       {
        "data": "",
        "encoding": "base64",
        "path": [
         "opacity_function",
         "data"
        ]
       },
       {
        "data": "",
        "encoding": "base64",
        "path": [
         "triangles_attribute",
         "data"
        ]
       },
       {
        "data": "AADAfw==",
        "encoding": "base64",
        "path": [
         "uvs",
         "data"
        ]
       },
       {
        "data": "40lgQJYOGkHOu6fBRsRvQDqwJEH2Y63B1PBMQASdHUHN46bBN2tcQKg+KEH1i6zBQYtJQAlCIkFS2qTBowVZQK3jLEF6gqrBixZYQCVFJUHX0KLB7pBnQMnmL0H+eKjBpg1wQKHiJEHW+KHBCYh/QEWEL0H9oKfBW7OBQDRUIUHX0KLBjHCJQNj1K0H+eKjBJWaDQC6vHEFS2qTBViOLQNJQJ0F6gqrB/kB4QBOsGUHN46bBsN2DQLdNJEH1i6zB9uhvQG7JJEGNVq3BWWN/QBJrL0G1/rLB9elcQE1HKEF6gqzBWGRsQPHoMkGhKrLBMZRZQLXWLEF6gqrBkw5pQFl4N0GhKrDBydtnQMvLL0F6gqjBLFZ3QG9tOkGhKq7BWWN/QBJrL0FmrqfB3W6HQLYMOkGNVq3BLTGJQDLtK0F6gqjBXu6QQNaONkGhKq7BD9yKQMtdJ0F6gqrBQJmSQG//MUGhKrDBQ7iDQLVoJEF6gqzBdHWLQFkKL0GhKrLBcE1nvldQyD42nYvBd7wCPhRxYr5dRZHBdRJtPrKlAD85jorBF8cVP/H14L1gNpDBraQNPzmOoz4AAIjBJydoP6j6lb4oqI3BugsNP6rvT73HcYXBM45nP2vDKb/vGYvBcE1nPldQyL7KYoTB1lUUP052gL/yCorBdRJtvrKlAL/HcYXB4+75PRK1jr/vGYvBraQNvzmOo74AAIjBzohMvo2Lbr8oqI3BugsNv6rvTz05jorBASVKvnbFD79gNpDBoRYGPnc/aL71N5HBRBD4Pk7UVr8c4JbBMusUP1jg773lLJDBrG1vP3zAOr8N1ZXBohlmP3lZmL4oqI3BDk6gPy3xaL9PUJPB5oJlPzSTKb9qI4vBsAKgP9Iro7+Sy5DBS38TPwN5f79bGIrBxQFuP7oezr+CwI/BBGcAPmvGjb9qI4vBdTj1PqMo3L+Sy5DBvFJEviVcbb8oqI3BKrclPksQxb9PUJPBzfdBvq71D7/lLJDBGRIoPg9dlr8N1ZXBWb35PudHWL+00pbBJmFXPyyGur/bepzBx5FuP8idPL+Sy5XBIIqkPx2xrL+5c5vBTEefP5Ugar9PUJPBiYjMP4Nyw793+JjBCv2eP7YTo78N1ZDBRj7MP+918b80fZbBOittP+5kzb/rzY/B2tajP5PjDcASdpXBPvD2Pv05278N1ZDBmfpVPxvOFMA0fZbBO+0tPpd4xL9PUJPByP0FP2dtCcB3+JjBTT8wPit1lr+Sy5XBTZIGP2PX5L+5c5vBsTdYP/g/u79zbZzBFV2ZPxjRBMCaFaLBLhykP8Ofrb8+apvBa13RP/sB/L9mEqHBxoHLPzcKxL93+JjBA8P4Pzg2CcCeoJ7BoDjLP9Nd8b+whpbB3Xn4PwbgH8DXLpzBlGujP62GDcB7g5XB0azQP8m3NMCjK5vBfdZWP8dWFMCwhpbBe6yYP+SHO8DXLpzBTQsIP40hCcB3+JjBxo1iP6pSMMCeoJ7Bmp0IP3/v5L8+apvBEyBjP9yoGcBmEqHB",
        "encoding": "base64",
        "path": [
         "vertices",
         "data"
        ]
       },
       {
        "data": "",
        "encoding": "base64",
        "path": [
         "volume",
         "data"
        ]
       },
       {
        "data": "",
        "encoding": "base64",
        "path": [
         "volume_bounds",
         "data"
        ]
       }
      ],
      "model_module": "k3d",
      "model_module_version": "2.16.1",
      "model_name": "ObjectModel",
      "state": {
       "_view_module": null,
       "_view_module_version": "",
       "_view_name": null,
       "attribute": {
        "dtype": "float32",
        "shape": [
         0
        ]
       },
       "click_callback": false,
       "color": 150,
       "colorLegend": false,
       "color_map": {
        "dtype": "float32",
        "shape": [
         1024
        ]
       },
       "color_range": [],
       "colors": {
        "dtype": "uint32",
        "shape": [
         0
        ]
       },
       "compression_level": 0,
       "custom_data": null,
       "flat_shading": true,
       "group": null,
       "hover_callback": false,
       "id": 6890947264,
       "indices": {
        "dtype": "uint32",
        "shape": [
         96,
         3
        ]
       },
       "model_matrix": {
        "dtype": "float32",
        "shape": [
         4,
         4
        ]
       },
       "name": "Mesh #19",
       "normals": {
        "dtype": "float32",
        "shape": [
         0
        ]
       },
       "opacity": 1,
       "opacity_function": {
        "dtype": "float32",
        "shape": [
         0
        ]
       },
       "side": "front",
       "texture": null,
       "texture_file_format": null,
       "triangles_attribute": {
        "dtype": "float32",
        "shape": [
         0
        ]
       },
       "type": "Mesh",
       "uvs": {
        "dtype": "float32",
        "shape": []
       },
       "vertices": {
        "dtype": "float32",
        "shape": [
         96,
         3
        ]
       },
       "visible": true,
       "volume": {
        "dtype": "float32",
        "shape": [
         0
        ]
       },
       "volume_bounds": {
        "dtype": "float32",
        "shape": [
         0
        ]
       },
       "wireframe": false
      }
     },
     "e799c367c9a448859006d194d8e0552a": {
      "buffers": [
       {
        "data": "",
        "encoding": "base64",
        "path": [
         "attribute",
         "data"
        ]
       },
       {
        "data": "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",
        "encoding": "base64",
        "path": [
         "color_map",
         "data"
        ]
       },
       {
        "data": "",
        "encoding": "base64",
        "path": [
         "colors",
         "data"
        ]
       },
       {
        "data": "AAAAAAIAAAABAAAAAQAAAAIAAAADAAAAAgAAAAQAAAADAAAAAwAAAAQAAAAFAAAABAAAAAYAAAAFAAAABQAAAAYAAAAHAAAABgAAAAgAAAAHAAAABwAAAAgAAAAJAAAACAAAAAoAAAAJAAAACQAAAAoAAAALAAAACgAAAAwAAAALAAAACwAAAAwAAAANAAAADAAAAA4AAAANAAAADQAAAA4AAAAPAAAADgAAAAAAAAAPAAAADwAAAAAAAAABAAAAEAAAABIAAAARAAAAEQAAABIAAAATAAAAEgAAABQAAAATAAAAEwAAABQAAAAVAAAAFAAAABYAAAAVAAAAFQAAABYAAAAXAAAAFgAAABgAAAAXAAAAFwAAABgAAAAZAAAAGAAAABoAAAAZAAAAGQAAABoAAAAbAAAAGgAAABwAAAAbAAAAGwAAABwAAAAdAAAAHAAAAB4AAAAdAAAAHQAAAB4AAAAfAAAAHgAAABAAAAAfAAAAHwAAABAAAAARAAAA",
        "encoding": "base64",
        "path": [
         "indices",
         "data"
        ]
       },
       {
        "data": "AACAPwAAAAAAAAAAAAAAAAAAAAAAAIA/AAAAAAAAAAAAAAAAAAAAAAAAgD8AAAAAAAAAAAAAAAAAAAAAAACAPw==",
        "encoding": "base64",
        "path": [
         "model_matrix",
         "data"
        ]
       },
       {
        "data": "",
        "encoding": "base64",
        "path": [
         "normals",
         "data"
        ]
       },
       {
        "data": "",
        "encoding": "base64",
        "path": [
         "opacity_function",
         "data"
        ]
       },
       {
        "data": "",
        "encoding": "base64",
        "path": [
         "triangles_attribute",
         "data"
        ]
       },
       {
        "data": "AADAfw==",
        "encoding": "base64",
        "path": [
         "uvs",
         "data"
        ]
       },
       {
        "data": "C97sLwntJT8AABjCh3ryLwntJT8AABzCmqfqPpqn6j4AABjCmqfqPpqn6j4AABzCCe0lP82pS64AABjCCe0lP82pS64AABzCmqfqPpqn6r4AABjCmqfqPpqn6r4AABzCmPO5LwntJb8AABjCE5C/LwntJb8AABzCmqfqvpqn6r4AABjCmqfqvpqn6r4AABzCCe0lvzvCaC4AABjCCe0lvzvCaC4AABzCmqfqvpqn6j4AABjCmqfqvpqn6j4AABzCEyTyLzmOIz8AABzCjsD3LzmOIz8AACDCcE3nPnBN5z4AABzCcE3nPnBN5z4AACDCOY4jP/rASK4AABzCOY4jP/rASK4AACDCcE3nPnBN574AABzCcE3nPnBN574AACDC1PO/LzmOI78AABzCUJDFLzmOI78AACDCcE3nvnBN574AABzCcE3nvnBN574AACDCOY4jvwBvZS4AABzCOY4jvwBvZS4AACDCcE3nvnBN5z4AABzCcE3nvnBN5z4AACDC",
        "encoding": "base64",
        "path": [
         "vertices",
         "data"
        ]
       },
       {
        "data": "",
        "encoding": "base64",
        "path": [
         "volume",
         "data"
        ]
       },
       {
        "data": "",
        "encoding": "base64",
        "path": [
         "volume_bounds",
         "data"
        ]
       }
      ],
      "model_module": "k3d",
      "model_module_version": "2.16.1",
      "model_name": "ObjectModel",
      "state": {
       "_view_module": null,
       "_view_module_version": "",
       "_view_name": null,
       "attribute": {
        "dtype": "float32",
        "shape": [
         0
        ]
       },
       "click_callback": false,
       "color": 16059136,
       "colorLegend": false,
       "color_map": {
        "dtype": "float32",
        "shape": [
         1024
        ]
       },
       "color_range": [],
       "colors": {
        "dtype": "uint32",
        "shape": [
         0
        ]
       },
       "compression_level": 0,
       "custom_data": null,
       "flat_shading": true,
       "group": null,
       "hover_callback": false,
       "id": 6888093312,
       "indices": {
        "dtype": "uint32",
        "shape": [
         32,
         3
        ]
       },
       "model_matrix": {
        "dtype": "float32",
        "shape": [
         4,
         4
        ]
       },
       "name": "Mesh #40",
       "normals": {
        "dtype": "float32",
        "shape": [
         0
        ]
       },
       "opacity": 1,
       "opacity_function": {
        "dtype": "float32",
        "shape": [
         0
        ]
       },
       "side": "front",
       "texture": null,
       "texture_file_format": null,
       "triangles_attribute": {
        "dtype": "float32",
        "shape": [
         0
        ]
       },
       "type": "Mesh",
       "uvs": {
        "dtype": "float32",
        "shape": []
       },
       "vertices": {
        "dtype": "float32",
        "shape": [
         32,
         3
        ]
       },
       "visible": true,
       "volume": {
        "dtype": "float32",
        "shape": [
         0
        ]
       },
       "volume_bounds": {
        "dtype": "float32",
        "shape": [
         0
        ]
       },
       "wireframe": false
      }
     },
     "ea303781157b41ddbd06b59ca0104261": {
      "buffers": [
       {
        "data": "",
        "encoding": "base64",
        "path": [
         "attribute",
         "data"
        ]
       },
       {
        "data": "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",
        "encoding": "base64",
        "path": [
         "color_map",
         "data"
        ]
       },
       {
        "data": "",
        "encoding": "base64",
        "path": [
         "colors",
         "data"
        ]
       },
       {
        "data": "AAAAAAIAAAABAAAAAQAAAAIAAAADAAAAAgAAAAQAAAADAAAAAwAAAAQAAAAFAAAABAAAAAYAAAAFAAAABQAAAAYAAAAHAAAABgAAAAgAAAAHAAAABwAAAAgAAAAJAAAACAAAAAoAAAAJAAAACQAAAAoAAAALAAAACgAAAAwAAAALAAAACwAAAAwAAAANAAAADAAAAA4AAAANAAAADQAAAA4AAAAPAAAADgAAAAAAAAAPAAAADwAAAAAAAAABAAAAEAAAABIAAAARAAAAEQAAABIAAAATAAAAEgAAABQAAAATAAAAEwAAABQAAAAVAAAAFAAAABYAAAAVAAAAFQAAABYAAAAXAAAAFgAAABgAAAAXAAAAFwAAABgAAAAZAAAAGAAAABoAAAAZAAAAGQAAABoAAAAbAAAAGgAAABwAAAAbAAAAGwAAABwAAAAdAAAAHAAAAB4AAAAdAAAAHQAAAB4AAAAfAAAAHgAAABAAAAAfAAAAHwAAABAAAAARAAAA",
        "encoding": "base64",
        "path": [
         "indices",
         "data"
        ]
       },
       {
        "data": "AACAPwAAAAAAAAAAAAAAAAAAAAAAAIA/AAAAAAAAAAAAAAAAAAAAAAAAgD8AAAAAAAAAAAAAAAAAAAAAAACAPw==",
        "encoding": "base64",
        "path": [
         "model_matrix",
         "data"
        ]
       },
       {
        "data": "",
        "encoding": "base64",
        "path": [
         "normals",
         "data"
        ]
       },
       {
        "data": "",
        "encoding": "base64",
        "path": [
         "opacity_function",
         "data"
        ]
       },
       {
        "data": "",
        "encoding": "base64",
        "path": [
         "triangles_attribute",
         "data"
        ]
       },
       {
        "data": "AADAfw==",
        "encoding": "base64",
        "path": [
         "uvs",
         "data"
        ]
       },
       {
        "data": "E6INv0aw7b4AAPDBE6INv0aw7b4AAPjBci84v7zpgD0AAPDBci84v7zpgD0AAPjBRrDtvhOiDT8AAPDBRrDtvhOiDT8AAPjBvOmAPXIvOD8AAPDBvOmAPXIvOD8AAPjBE6INP0aw7T4AAPDBE6INP0aw7T4AAPjBci84P7zpgL0AAPDBci84P7zpgL0AAPjBRrDtPhOiDb8AAPDBRrDtPhOiDb8AAPjBvOmAvXIvOL8AAPDBvOmAvXIvOL8AAPjB1vPHL76ENj8AAPjBUZDNL76ENj8AAADCYg8BP2IPAT8AAPjBYg8BP2IPAT8AAADCvoQ2P5UHYK4AAPjBvoQ2P5UHYK4AAADCYg8BP2IPAb8AAPjBYg8BP2IPAb8AAADC8PGPL76ENr8AAPjBbI6VL76ENr8AAADCYg8Bv2IPAb8AAPjBYg8Bv2IPAb8AAADCvoQ2v20EgC4AAPjBvoQ2v20EgC4AAADCYg8Bv2IPAT8AAPjBYg8Bv2IPAT8AAADC",
        "encoding": "base64",
        "path": [
         "vertices",
         "data"
        ]
       },
       {
        "data": "",
        "encoding": "base64",
        "path": [
         "volume",
         "data"
        ]
       },
       {
        "data": "",
        "encoding": "base64",
        "path": [
         "volume_bounds",
         "data"
        ]
       }
      ],
      "model_module": "k3d",
      "model_module_version": "2.16.1",
      "model_name": "ObjectModel",
      "state": {
       "_view_module": null,
       "_view_module_version": "",
       "_view_name": null,
       "attribute": {
        "dtype": "float32",
        "shape": [
         0
        ]
       },
       "click_callback": false,
       "color": 14876672,
       "colorLegend": false,
       "color_map": {
        "dtype": "float32",
        "shape": [
         1024
        ]
       },
       "color_range": [],
       "colors": {
        "dtype": "uint32",
        "shape": [
         0
        ]
       },
       "compression_level": 0,
       "custom_data": null,
       "flat_shading": true,
       "group": null,
       "hover_callback": false,
       "id": 6891143488,
       "indices": {
        "dtype": "uint32",
        "shape": [
         32,
         3
        ]
       },
       "model_matrix": {
        "dtype": "float32",
        "shape": [
         4,
         4
        ]
       },
       "name": "Mesh #35",
       "normals": {
        "dtype": "float32",
        "shape": [
         0
        ]
       },
       "opacity": 1,
       "opacity_function": {
        "dtype": "float32",
        "shape": [
         0
        ]
       },
       "side": "front",
       "texture": null,
       "texture_file_format": null,
       "triangles_attribute": {
        "dtype": "float32",
        "shape": [
         0
        ]
       },
       "type": "Mesh",
       "uvs": {
        "dtype": "float32",
        "shape": []
       },
       "vertices": {
        "dtype": "float32",
        "shape": [
         32,
         3
        ]
       },
       "visible": true,
       "volume": {
        "dtype": "float32",
        "shape": [
         0
        ]
       },
       "volume_bounds": {
        "dtype": "float32",
        "shape": [
         0
        ]
       },
       "wireframe": false
      }
     },
     "fb0fc183b93f4442a1776bf61dffeb1f": {
      "buffers": [
       {
        "data": "",
        "encoding": "base64",
        "path": [
         "attribute",
         "data"
        ]
       },
       {
        "data": "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",
        "encoding": "base64",
        "path": [
         "color_map",
         "data"
        ]
       },
       {
        "data": "",
        "encoding": "base64",
        "path": [
         "colors",
         "data"
        ]
       },
       {
        "data": "AAAAAAIAAAABAAAAAQAAAAIAAAADAAAAAgAAAAQAAAADAAAAAwAAAAQAAAAFAAAABAAAAAYAAAAFAAAABQAAAAYAAAAHAAAABgAAAAgAAAAHAAAABwAAAAgAAAAJAAAACAAAAAoAAAAJAAAACQAAAAoAAAALAAAACgAAAAwAAAALAAAACwAAAAwAAAANAAAADAAAAA4AAAANAAAADQAAAA4AAAAPAAAADgAAAAAAAAAPAAAADwAAAAAAAAABAAAAEAAAABIAAAARAAAAEQAAABIAAAATAAAAEgAAABQAAAATAAAAEwAAABQAAAAVAAAAFAAAABYAAAAVAAAAFQAAABYAAAAXAAAAFgAAABgAAAAXAAAAFwAAABgAAAAZAAAAGAAAABoAAAAZAAAAGQAAABoAAAAbAAAAGgAAABwAAAAbAAAAGwAAABwAAAAdAAAAHAAAAB4AAAAdAAAAHQAAAB4AAAAfAAAAHgAAABAAAAAfAAAAHwAAABAAAAARAAAA",
        "encoding": "base64",
        "path": [
         "indices",
         "data"
        ]
       },
       {
        "data": "AACAPwAAAAAAAAAAAAAAAAAAAAAAAIA/AAAAAAAAAAAAAAAAAAAAAAAAgD8AAAAAAAAAAAAAAAAAAAAAAACAPw==",
        "encoding": "base64",
        "path": [
         "model_matrix",
         "data"
        ]
       },
       {
        "data": "",
        "encoding": "base64",
        "path": [
         "normals",
         "data"
        ]
       },
       {
        "data": "",
        "encoding": "base64",
        "path": [
         "opacity_function",
         "data"
        ]
       },
       {
        "data": "",
        "encoding": "base64",
        "path": [
         "triangles_attribute",
         "data"
        ]
       },
       {
        "data": "AADAfw==",
        "encoding": "base64",
        "path": [
         "uvs",
         "data"
        ]
       },
       {
        "data": "d+UUv7Pg+b4AANDBd+UUv7Pg+b4AANjBeKFBvyKGhz0AANDBeKFBvyKGhz0AANjBs+D5vnflFD8AANDBs+D5vnflFD8AANjBIoaHPXihQT8AANDBIoaHPXihQT8AANjBd+UUP7Pg+T4AANDBd+UUP7Pg+T4AANjBeKFBPyKGh70AANDBeKFBPyKGh70AANjBs+D5PnflFL8AANDBs+D5PnflFL8AANjBIoaHvXihQb8AANDBIoaHvXihQb8AANjBnhQTv5jU9r4AANjBnhQTv5jU9r4AAODB9kQ/vwjfhT0AANjB9kQ/vwjfhT0AAODBmNT2vp4UEz8AANjBmNT2vp4UEz8AAODBCN+FPfZEPz8AANjBCN+FPfZEPz8AAODBnhQTP5jU9j4AANjBnhQTP5jU9j4AAODB9kQ/Pwjfhb0AANjB9kQ/Pwjfhb0AAODBmNT2Pp4UE78AANjBmNT2Pp4UE78AAODBCN+FvfZEP78AANjBCN+FvfZEP78AAODB",
        "encoding": "base64",
        "path": [
         "vertices",
         "data"
        ]
       },
       {
        "data": "",
        "encoding": "base64",
        "path": [
         "volume",
         "data"
        ]
       },
       {
        "data": "",
        "encoding": "base64",
        "path": [
         "volume_bounds",
         "data"
        ]
       }
      ],
      "model_module": "k3d",
      "model_module_version": "2.16.1",
      "model_name": "ObjectModel",
      "state": {
       "_view_module": null,
       "_view_module_version": "",
       "_view_name": null,
       "attribute": {
        "dtype": "float32",
        "shape": [
         0
        ]
       },
       "click_callback": false,
       "color": 14286848,
       "colorLegend": false,
       "color_map": {
        "dtype": "float32",
        "shape": [
         1024
        ]
       },
       "color_range": [],
       "colors": {
        "dtype": "uint32",
        "shape": [
         0
        ]
       },
       "compression_level": 0,
       "custom_data": null,
       "flat_shading": true,
       "group": null,
       "hover_callback": false,
       "id": 6890958208,
       "indices": {
        "dtype": "uint32",
        "shape": [
         32,
         3
        ]
       },
       "model_matrix": {
        "dtype": "float32",
        "shape": [
         4,
         4
        ]
       },
       "name": "Mesh #33",
       "normals": {
        "dtype": "float32",
        "shape": [
         0
        ]
       },
       "opacity": 1,
       "opacity_function": {
        "dtype": "float32",
        "shape": [
         0
        ]
       },
       "side": "front",
       "texture": null,
       "texture_file_format": null,
       "triangles_attribute": {
        "dtype": "float32",
        "shape": [
         0
        ]
       },
       "type": "Mesh",
       "uvs": {
        "dtype": "float32",
        "shape": []
       },
       "vertices": {
        "dtype": "float32",
        "shape": [
         32,
         3
        ]
       },
       "visible": true,
       "volume": {
        "dtype": "float32",
        "shape": [
         0
        ]
       },
       "volume_bounds": {
        "dtype": "float32",
        "shape": [
         0
        ]
       },
       "wireframe": false
      }
     },
     "fcc20cd05b4e447692a3b191b2dc98b6": {
      "buffers": [
       {
        "data": "",
        "encoding": "base64",
        "path": [
         "attribute",
         "data"
        ]
       },
       {
        "data": "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",
        "encoding": "base64",
        "path": [
         "color_map",
         "data"
        ]
       },
       {
        "data": "",
        "encoding": "base64",
        "path": [
         "colors",
         "data"
        ]
       },
       {
        "data": "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",
        "encoding": "base64",
        "path": [
         "indices",
         "data"
        ]
       },
       {
        "data": "AACAPwAAAAAAAAAAAAAAAAAAAAAAAIA/AAAAAAAAAAAAAAAAAAAAAAAAgD8AAAAAAAAAAAAAAAAAAAAAAACAPw==",
        "encoding": "base64",
        "path": [
         "model_matrix",
         "data"
        ]
       },
       {
        "data": "",
        "encoding": "base64",
        "path": [
         "normals",
         "data"
        ]
       },
       {
        "data": "",
        "encoding": "base64",
        "path": [
         "opacity_function",
         "data"
        ]
       },
       {
        "data": "",
        "encoding": "base64",
        "path": [
         "triangles_attribute",
         "data"
        ]
       },
       {
        "data": "AADAfw==",
        "encoding": "base64",
        "path": [
         "uvs",
         "data"
        ]
       },
       {
        "data": "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",
        "encoding": "base64",
        "path": [
         "vertices",
         "data"
        ]
       },
       {
        "data": "",
        "encoding": "base64",
        "path": [
         "volume",
         "data"
        ]
       },
       {
        "data": "",
        "encoding": "base64",
        "path": [
         "volume_bounds",
         "data"
        ]
       }
      ],
      "model_module": "k3d",
      "model_module_version": "2.16.1",
      "model_name": "ObjectModel",
      "state": {
       "_view_module": null,
       "_view_module_version": "",
       "_view_name": null,
       "attribute": {
        "dtype": "float32",
        "shape": [
         0
        ]
       },
       "click_callback": false,
       "color": 177,
       "colorLegend": false,
       "color_map": {
        "dtype": "float32",
        "shape": [
         1024
        ]
       },
       "color_range": [],
       "colors": {
        "dtype": "uint32",
        "shape": [
         0
        ]
       },
       "compression_level": 0,
       "custom_data": null,
       "flat_shading": true,
       "group": null,
       "hover_callback": false,
       "id": 6890957200,
       "indices": {
        "dtype": "uint32",
        "shape": [
         128,
         3
        ]
       },
       "model_matrix": {
        "dtype": "float32",
        "shape": [
         4,
         4
        ]
       },
       "name": "Mesh #7",
       "normals": {
        "dtype": "float32",
        "shape": [
         0
        ]
       },
       "opacity": 1,
       "opacity_function": {
        "dtype": "float32",
        "shape": [
         0
        ]
       },
       "side": "front",
       "texture": null,
       "texture_file_format": null,
       "triangles_attribute": {
        "dtype": "float32",
        "shape": [
         0
        ]
       },
       "type": "Mesh",
       "uvs": {
        "dtype": "float32",
        "shape": []
       },
       "vertices": {
        "dtype": "float32",
        "shape": [
         128,
         3
        ]
       },
       "visible": true,
       "volume": {
        "dtype": "float32",
        "shape": [
         0
        ]
       },
       "volume_bounds": {
        "dtype": "float32",
        "shape": [
         0
        ]
       },
       "wireframe": false
      }
     },
     "fec6178c6a364d929dd5c54999bdce74": {
      "buffers": [
       {
        "data": "",
        "encoding": "base64",
        "path": [
         "attribute",
         "data"
        ]
       },
       {
        "data": "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",
        "encoding": "base64",
        "path": [
         "color_map",
         "data"
        ]
       },
       {
        "data": "",
        "encoding": "base64",
        "path": [
         "colors",
         "data"
        ]
       },
       {
        "data": "AAAAAAIAAAABAAAAAQAAAAIAAAADAAAAAgAAAAQAAAADAAAAAwAAAAQAAAAFAAAABAAAAAYAAAAFAAAABQAAAAYAAAAHAAAABgAAAAgAAAAHAAAABwAAAAgAAAAJAAAACAAAAAoAAAAJAAAACQAAAAoAAAALAAAACgAAAAwAAAALAAAACwAAAAwAAAANAAAADAAAAA4AAAANAAAADQAAAA4AAAAPAAAADgAAAAAAAAAPAAAADwAAAAAAAAABAAAA",
        "encoding": "base64",
        "path": [
         "indices",
         "data"
        ]
       },
       {
        "data": "AACAPwAAAAAAAAAAAAAAAAAAAAAAAIA/AAAAAAAAAAAAAAAAAAAAAAAAgD8AAAAAAAAAAAAAAAAAAAAAAACAPw==",
        "encoding": "base64",
        "path": [
         "model_matrix",
         "data"
        ]
       },
       {
        "data": "",
        "encoding": "base64",
        "path": [
         "normals",
         "data"
        ]
       },
       {
        "data": "",
        "encoding": "base64",
        "path": [
         "opacity_function",
         "data"
        ]
       },
       {
        "data": "",
        "encoding": "base64",
        "path": [
         "triangles_attribute",
         "data"
        ]
       },
       {
        "data": "AADAfw==",
        "encoding": "base64",
        "path": [
         "uvs",
         "data"
        ]
       },
       {
        "data": "AACAvwAAAABzjzOtAACAvwAAAAAAAIC/8wQ1v/MENT/K7/2s8wQ1v/MENT8AAIC/c4+zLAAAgD/W43salquGLQAAgD8AAIC/8wQ1P/MENT/K7/0s8wQ1P/MENT8AAIC/AACAP3OPM61zjzMtAACAP3OPM60AAIC/8wQ1P/MENb/K7/0s8wQ1P/MENb8AAIC/lquGrQAAgL/g6jybc4+zrAAAgL8AAIC/8wQ1v/MENb/K7/2s8wQ1v/MENb8AAIC/",
        "encoding": "base64",
        "path": [
         "vertices",
         "data"
        ]
       },
       {
        "data": "",
        "encoding": "base64",
        "path": [
         "volume",
         "data"
        ]
       },
       {
        "data": "",
        "encoding": "base64",
        "path": [
         "volume_bounds",
         "data"
        ]
       }
      ],
      "model_module": "k3d",
      "model_module_version": "2.16.1",
      "model_name": "ObjectModel",
      "state": {
       "_view_module": null,
       "_view_module_version": "",
       "_view_name": null,
       "attribute": {
        "dtype": "float32",
        "shape": [
         0
        ]
       },
       "click_callback": false,
       "color": 8323072,
       "colorLegend": false,
       "color_map": {
        "dtype": "float32",
        "shape": [
         1024
        ]
       },
       "color_range": [],
       "colors": {
        "dtype": "uint32",
        "shape": [
         0
        ]
       },
       "compression_level": 0,
       "custom_data": null,
       "flat_shading": true,
       "group": null,
       "hover_callback": false,
       "id": 6891353296,
       "indices": {
        "dtype": "uint32",
        "shape": [
         16,
         3
        ]
       },
       "model_matrix": {
        "dtype": "float32",
        "shape": [
         4,
         4
        ]
       },
       "name": "Mesh #1",
       "normals": {
        "dtype": "float32",
        "shape": [
         0
        ]
       },
       "opacity": 1,
       "opacity_function": {
        "dtype": "float32",
        "shape": [
         0
        ]
       },
       "side": "front",
       "texture": null,
       "texture_file_format": null,
       "triangles_attribute": {
        "dtype": "float32",
        "shape": [
         0
        ]
       },
       "type": "Mesh",
       "uvs": {
        "dtype": "float32",
        "shape": []
       },
       "vertices": {
        "dtype": "float32",
        "shape": [
         16,
         3
        ]
       },
       "visible": true,
       "volume": {
        "dtype": "float32",
        "shape": [
         0
        ]
       },
       "volume_bounds": {
        "dtype": "float32",
        "shape": [
         0
        ]
       },
       "wireframe": false
      }
     }
    },
    "version_major": 2,
    "version_minor": 0
   }
  }
 },
 "nbformat": 4,
 "nbformat_minor": 5
}
